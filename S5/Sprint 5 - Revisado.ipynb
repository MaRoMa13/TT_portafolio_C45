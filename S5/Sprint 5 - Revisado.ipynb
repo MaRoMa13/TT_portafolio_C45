{
 "cells": [
  {
   "cell_type": "markdown",
   "metadata": {
    "id": "3rYiDeEH0q0f"
   },
   "source": [
    "# ¿Cuál es la mejor tarifa?\n",
    "\n",
    "Trabajas como analista para el operador de telecomunicaciones Megaline. La empresa ofrece a sus clientes dos tarifas de prepago, Surf y Ultimate. El departamento comercial quiere saber cuál de las tarifas genera más ingresos para poder ajustar el presupuesto de publicidad.\n",
    "\n",
    "Vas a realizar un análisis preliminar de las tarifas basado en una selección de clientes relativamente pequeña. Tendrás los datos de 500 clientes de Megaline: quiénes son los clientes, de dónde son, qué tarifa usan, así como la cantidad de llamadas que hicieron y los mensajes de texto que enviaron en 2018. Tu trabajo es analizar el comportamiento de los clientes y determinar qué tarifa de prepago genera más ingresos."
   ]
  },
  {
   "cell_type": "markdown",
   "metadata": {
    "id": "VNddPNRQ0q0w"
   },
   "source": [
    "\n",
    "**Introducción**\n",
    "En este proyecto queremos analizar los datos recolectados de 500 clientes con dos planes diferentes de planes prepago, con el fin de contrastar y probar hipotesis que nos permitan tener mayor informacion acerca del comportamiento de los cliente y saber que podemos mejoran al ofrecer el servicio, y asi finamente aumentar los ingresos dela empresa."
   ]
  },
  {
   "cell_type": "markdown",
   "metadata": {
    "id": "MQi4IPy70q0y"
   },
   "source": [
    "## Inicialización"
   ]
  },
  {
   "cell_type": "code",
   "execution_count": 1,
   "metadata": {
    "id": "MtYIuBxu0q0z",
    "trusted": false
   },
   "outputs": [],
   "source": [
    "import pandas as pd\n",
    "import numpy as np\n",
    "import matplotlib.pyplot as plt\n",
    "import seaborn as sns\n",
    "from scipy import stats as st"
   ]
  },
  {
   "cell_type": "markdown",
   "metadata": {
    "id": "4ysWWC5i0q00"
   },
   "source": [
    "## Cargar datos"
   ]
  },
  {
   "cell_type": "code",
   "execution_count": 2,
   "metadata": {
    "id": "CCqPW7rS0q01",
    "trusted": false
   },
   "outputs": [],
   "source": [
    "# Carga los archivos de datos en diferentes DataFrames\n",
    "df_calls = pd.read_csv('/datasets/megaline_calls.csv')\n",
    "df_internet=pd.read_csv('/datasets/megaline_internet.csv')\n",
    "df_messages= pd.read_csv('/datasets/megaline_messages.csv')\n",
    "df_plans= pd.read_csv('/datasets/megaline_plans.csv')\n",
    "df_users= pd.read_csv('/datasets/megaline_users.csv')"
   ]
  },
  {
   "cell_type": "markdown",
   "metadata": {
    "id": "69qqoJ3r0q01"
   },
   "source": [
    "## Preparar los datos"
   ]
  },
  {
   "cell_type": "markdown",
   "metadata": {
    "id": "ohBhimvH0q01"
   },
   "source": [
    "## Tarifas"
   ]
  },
  {
   "cell_type": "code",
   "execution_count": 3,
   "metadata": {
    "id": "GptqP3Q40q02",
    "trusted": false
   },
   "outputs": [
    {
     "name": "stdout",
     "output_type": "stream",
     "text": [
      "<class 'pandas.core.frame.DataFrame'>\n",
      "RangeIndex: 2 entries, 0 to 1\n",
      "Data columns (total 8 columns):\n",
      " #   Column                 Non-Null Count  Dtype  \n",
      "---  ------                 --------------  -----  \n",
      " 0   messages_included      2 non-null      int64  \n",
      " 1   mb_per_month_included  2 non-null      int64  \n",
      " 2   minutes_included       2 non-null      int64  \n",
      " 3   usd_monthly_pay        2 non-null      int64  \n",
      " 4   usd_per_gb             2 non-null      int64  \n",
      " 5   usd_per_message        2 non-null      float64\n",
      " 6   usd_per_minute         2 non-null      float64\n",
      " 7   plan_name              2 non-null      object \n",
      "dtypes: float64(2), int64(5), object(1)\n",
      "memory usage: 256.0+ bytes\n"
     ]
    }
   ],
   "source": [
    "# Imprime la información general/resumida sobre el DataFrame de las tarifas\n",
    "df_plans.info()\n"
   ]
  },
  {
   "cell_type": "code",
   "execution_count": 4,
   "metadata": {
    "id": "64xzjwL70q02",
    "trusted": false
   },
   "outputs": [
    {
     "data": {
      "text/html": [
       "<div>\n",
       "<style scoped>\n",
       "    .dataframe tbody tr th:only-of-type {\n",
       "        vertical-align: middle;\n",
       "    }\n",
       "\n",
       "    .dataframe tbody tr th {\n",
       "        vertical-align: top;\n",
       "    }\n",
       "\n",
       "    .dataframe thead th {\n",
       "        text-align: right;\n",
       "    }\n",
       "</style>\n",
       "<table border=\"1\" class=\"dataframe\">\n",
       "  <thead>\n",
       "    <tr style=\"text-align: right;\">\n",
       "      <th></th>\n",
       "      <th>messages_included</th>\n",
       "      <th>mb_per_month_included</th>\n",
       "      <th>minutes_included</th>\n",
       "      <th>usd_monthly_pay</th>\n",
       "      <th>usd_per_gb</th>\n",
       "      <th>usd_per_message</th>\n",
       "      <th>usd_per_minute</th>\n",
       "      <th>plan_name</th>\n",
       "    </tr>\n",
       "  </thead>\n",
       "  <tbody>\n",
       "    <tr>\n",
       "      <th>0</th>\n",
       "      <td>50</td>\n",
       "      <td>15360</td>\n",
       "      <td>500</td>\n",
       "      <td>20</td>\n",
       "      <td>10</td>\n",
       "      <td>0.03</td>\n",
       "      <td>0.03</td>\n",
       "      <td>surf</td>\n",
       "    </tr>\n",
       "    <tr>\n",
       "      <th>1</th>\n",
       "      <td>1000</td>\n",
       "      <td>30720</td>\n",
       "      <td>3000</td>\n",
       "      <td>70</td>\n",
       "      <td>7</td>\n",
       "      <td>0.01</td>\n",
       "      <td>0.01</td>\n",
       "      <td>ultimate</td>\n",
       "    </tr>\n",
       "  </tbody>\n",
       "</table>\n",
       "</div>"
      ],
      "text/plain": [
       "   messages_included  mb_per_month_included  minutes_included  \\\n",
       "0                 50                  15360               500   \n",
       "1               1000                  30720              3000   \n",
       "\n",
       "   usd_monthly_pay  usd_per_gb  usd_per_message  usd_per_minute plan_name  \n",
       "0               20          10             0.03            0.03      surf  \n",
       "1               70           7             0.01            0.01  ultimate  "
      ]
     },
     "execution_count": 4,
     "metadata": {},
     "output_type": "execute_result"
    }
   ],
   "source": [
    "# Imprime una muestra de los datos para las tarifas\n",
    "df_plans.head()"
   ]
  },
  {
   "cell_type": "markdown",
   "metadata": {
    "id": "mEc_3_hs0q02"
   },
   "source": [
    "[Describe lo que ves y observas en la información general y en la muestra de datos impresa para el precio de datos anterior. ¿Hay algún problema (tipos de datos no adecuados, datos ausentes, etc.) que pudieran necesitar investigación y cambios adicionales? ¿Cómo se puede arreglar?]\n",
    "\n",
    "- Encontramos que este Dataframe solo contiene la informacion de los dos planes disponibles en la empresa, dividido en 8 columnas que explican las caracteristicas de cada tarifa. No contiene datos nulos y el tipo de dato para cada columna es correcto."
   ]
  },
  {
   "cell_type": "markdown",
   "metadata": {
    "id": "R3C05i1l0q03"
   },
   "source": [
    "### Corregir datos"
   ]
  },
  {
   "cell_type": "markdown",
   "metadata": {
    "id": "bIi8StZI0q03"
   },
   "source": [
    "No hay datos por corregir"
   ]
  },
  {
   "cell_type": "markdown",
   "metadata": {
    "id": "LJir7bml0q03"
   },
   "source": [
    "### Enriquecer los datos"
   ]
  },
  {
   "cell_type": "markdown",
   "metadata": {
    "id": "eqADpCfg0q04"
   },
   "source": [
    "Para poder tener la misma unidad en cuanto a internet consumido en el mes y facilitar su cálculo en cuanto al cobro adicional al sobrepasar lo incluido en el plan, es necesario estandarizarlo y redondearlo en una nueva columna."
   ]
  },
  {
   "cell_type": "code",
   "execution_count": 5,
   "metadata": {
    "trusted": false
   },
   "outputs": [
    {
     "data": {
      "text/html": [
       "<div>\n",
       "<style scoped>\n",
       "    .dataframe tbody tr th:only-of-type {\n",
       "        vertical-align: middle;\n",
       "    }\n",
       "\n",
       "    .dataframe tbody tr th {\n",
       "        vertical-align: top;\n",
       "    }\n",
       "\n",
       "    .dataframe thead th {\n",
       "        text-align: right;\n",
       "    }\n",
       "</style>\n",
       "<table border=\"1\" class=\"dataframe\">\n",
       "  <thead>\n",
       "    <tr style=\"text-align: right;\">\n",
       "      <th></th>\n",
       "      <th>messages_included</th>\n",
       "      <th>mb_per_month_included</th>\n",
       "      <th>minutes_included</th>\n",
       "      <th>usd_monthly_pay</th>\n",
       "      <th>usd_per_gb</th>\n",
       "      <th>usd_per_message</th>\n",
       "      <th>usd_per_minute</th>\n",
       "      <th>plan_name</th>\n",
       "      <th>gb_per_month_included</th>\n",
       "    </tr>\n",
       "  </thead>\n",
       "  <tbody>\n",
       "    <tr>\n",
       "      <th>0</th>\n",
       "      <td>50</td>\n",
       "      <td>15360</td>\n",
       "      <td>500</td>\n",
       "      <td>20</td>\n",
       "      <td>10</td>\n",
       "      <td>0.03</td>\n",
       "      <td>0.03</td>\n",
       "      <td>surf</td>\n",
       "      <td>15</td>\n",
       "    </tr>\n",
       "    <tr>\n",
       "      <th>1</th>\n",
       "      <td>1000</td>\n",
       "      <td>30720</td>\n",
       "      <td>3000</td>\n",
       "      <td>70</td>\n",
       "      <td>7</td>\n",
       "      <td>0.01</td>\n",
       "      <td>0.01</td>\n",
       "      <td>ultimate</td>\n",
       "      <td>30</td>\n",
       "    </tr>\n",
       "  </tbody>\n",
       "</table>\n",
       "</div>"
      ],
      "text/plain": [
       "   messages_included  mb_per_month_included  minutes_included  \\\n",
       "0                 50                  15360               500   \n",
       "1               1000                  30720              3000   \n",
       "\n",
       "   usd_monthly_pay  usd_per_gb  usd_per_message  usd_per_minute plan_name  \\\n",
       "0               20          10             0.03            0.03      surf   \n",
       "1               70           7             0.01            0.01  ultimate   \n",
       "\n",
       "   gb_per_month_included  \n",
       "0                     15  \n",
       "1                     30  "
      ]
     },
     "execution_count": 5,
     "metadata": {},
     "output_type": "execute_result"
    }
   ],
   "source": [
    "df_plans['gb_per_month_included']= df_plans['mb_per_month_included']/1024\n",
    "df_plans['gb_per_month_included']= df_plans['gb_per_month_included'].astype(int)\n",
    "df_plans.head()"
   ]
  },
  {
   "cell_type": "markdown",
   "metadata": {
    "id": "1n2X6WXf0q04"
   },
   "source": [
    "## Usuarios/as"
   ]
  },
  {
   "cell_type": "code",
   "execution_count": 6,
   "metadata": {
    "id": "2NgjWFqx0q05",
    "trusted": false
   },
   "outputs": [
    {
     "name": "stdout",
     "output_type": "stream",
     "text": [
      "<class 'pandas.core.frame.DataFrame'>\n",
      "RangeIndex: 500 entries, 0 to 499\n",
      "Data columns (total 8 columns):\n",
      " #   Column      Non-Null Count  Dtype \n",
      "---  ------      --------------  ----- \n",
      " 0   user_id     500 non-null    int64 \n",
      " 1   first_name  500 non-null    object\n",
      " 2   last_name   500 non-null    object\n",
      " 3   age         500 non-null    int64 \n",
      " 4   city        500 non-null    object\n",
      " 5   reg_date    500 non-null    object\n",
      " 6   plan        500 non-null    object\n",
      " 7   churn_date  34 non-null     object\n",
      "dtypes: int64(2), object(6)\n",
      "memory usage: 31.4+ KB\n"
     ]
    }
   ],
   "source": [
    "# Imprime la información general/resumida sobre el DataFrame de usuarios\n",
    "df_users.info()"
   ]
  },
  {
   "cell_type": "code",
   "execution_count": 7,
   "metadata": {
    "id": "1IN1L9uh0q05",
    "trusted": false
   },
   "outputs": [
    {
     "data": {
      "text/html": [
       "<div>\n",
       "<style scoped>\n",
       "    .dataframe tbody tr th:only-of-type {\n",
       "        vertical-align: middle;\n",
       "    }\n",
       "\n",
       "    .dataframe tbody tr th {\n",
       "        vertical-align: top;\n",
       "    }\n",
       "\n",
       "    .dataframe thead th {\n",
       "        text-align: right;\n",
       "    }\n",
       "</style>\n",
       "<table border=\"1\" class=\"dataframe\">\n",
       "  <thead>\n",
       "    <tr style=\"text-align: right;\">\n",
       "      <th></th>\n",
       "      <th>user_id</th>\n",
       "      <th>first_name</th>\n",
       "      <th>last_name</th>\n",
       "      <th>age</th>\n",
       "      <th>city</th>\n",
       "      <th>reg_date</th>\n",
       "      <th>plan</th>\n",
       "      <th>churn_date</th>\n",
       "    </tr>\n",
       "  </thead>\n",
       "  <tbody>\n",
       "    <tr>\n",
       "      <th>0</th>\n",
       "      <td>1000</td>\n",
       "      <td>Anamaria</td>\n",
       "      <td>Bauer</td>\n",
       "      <td>45</td>\n",
       "      <td>Atlanta-Sandy Springs-Roswell, GA MSA</td>\n",
       "      <td>2018-12-24</td>\n",
       "      <td>ultimate</td>\n",
       "      <td>NaN</td>\n",
       "    </tr>\n",
       "    <tr>\n",
       "      <th>1</th>\n",
       "      <td>1001</td>\n",
       "      <td>Mickey</td>\n",
       "      <td>Wilkerson</td>\n",
       "      <td>28</td>\n",
       "      <td>Seattle-Tacoma-Bellevue, WA MSA</td>\n",
       "      <td>2018-08-13</td>\n",
       "      <td>surf</td>\n",
       "      <td>NaN</td>\n",
       "    </tr>\n",
       "    <tr>\n",
       "      <th>2</th>\n",
       "      <td>1002</td>\n",
       "      <td>Carlee</td>\n",
       "      <td>Hoffman</td>\n",
       "      <td>36</td>\n",
       "      <td>Las Vegas-Henderson-Paradise, NV MSA</td>\n",
       "      <td>2018-10-21</td>\n",
       "      <td>surf</td>\n",
       "      <td>NaN</td>\n",
       "    </tr>\n",
       "    <tr>\n",
       "      <th>3</th>\n",
       "      <td>1003</td>\n",
       "      <td>Reynaldo</td>\n",
       "      <td>Jenkins</td>\n",
       "      <td>52</td>\n",
       "      <td>Tulsa, OK MSA</td>\n",
       "      <td>2018-01-28</td>\n",
       "      <td>surf</td>\n",
       "      <td>NaN</td>\n",
       "    </tr>\n",
       "    <tr>\n",
       "      <th>4</th>\n",
       "      <td>1004</td>\n",
       "      <td>Leonila</td>\n",
       "      <td>Thompson</td>\n",
       "      <td>40</td>\n",
       "      <td>Seattle-Tacoma-Bellevue, WA MSA</td>\n",
       "      <td>2018-05-23</td>\n",
       "      <td>surf</td>\n",
       "      <td>NaN</td>\n",
       "    </tr>\n",
       "  </tbody>\n",
       "</table>\n",
       "</div>"
      ],
      "text/plain": [
       "   user_id first_name  last_name  age                                   city  \\\n",
       "0     1000   Anamaria      Bauer   45  Atlanta-Sandy Springs-Roswell, GA MSA   \n",
       "1     1001     Mickey  Wilkerson   28        Seattle-Tacoma-Bellevue, WA MSA   \n",
       "2     1002     Carlee    Hoffman   36   Las Vegas-Henderson-Paradise, NV MSA   \n",
       "3     1003   Reynaldo    Jenkins   52                          Tulsa, OK MSA   \n",
       "4     1004    Leonila   Thompson   40        Seattle-Tacoma-Bellevue, WA MSA   \n",
       "\n",
       "     reg_date      plan churn_date  \n",
       "0  2018-12-24  ultimate        NaN  \n",
       "1  2018-08-13      surf        NaN  \n",
       "2  2018-10-21      surf        NaN  \n",
       "3  2018-01-28      surf        NaN  \n",
       "4  2018-05-23      surf        NaN  "
      ]
     },
     "execution_count": 7,
     "metadata": {},
     "output_type": "execute_result"
    }
   ],
   "source": [
    "# Imprime una muestra de datos para usuarios\n",
    "df_users.head()"
   ]
  },
  {
   "cell_type": "markdown",
   "metadata": {
    "id": "dCZoUq4f0q06"
   },
   "source": [
    "\n",
    "Podemos encontrar que en este conjunto de datos tenemos 8 columnas con los datos de los 500 clientes que queremos analizar. Tambien vemos que solo la columna churn_date tiene valores ausentes y teniendo en cuenta que representa la fecha en la que el cliente dejo de usar el servicio, son valores ausentes que podemos cambiar."
   ]
  },
  {
   "cell_type": "markdown",
   "metadata": {
    "id": "BX5FQh_I0q06"
   },
   "source": [
    "### Corregir los datos"
   ]
  },
  {
   "cell_type": "code",
   "execution_count": 8,
   "metadata": {
    "id": "yUqX-K0C0q07",
    "trusted": false
   },
   "outputs": [
    {
     "name": "stdout",
     "output_type": "stream",
     "text": [
      "<class 'pandas.core.frame.DataFrame'>\n",
      "RangeIndex: 500 entries, 0 to 499\n",
      "Data columns (total 8 columns):\n",
      " #   Column      Non-Null Count  Dtype         \n",
      "---  ------      --------------  -----         \n",
      " 0   user_id     500 non-null    int64         \n",
      " 1   first_name  500 non-null    object        \n",
      " 2   last_name   500 non-null    object        \n",
      " 3   age         500 non-null    int64         \n",
      " 4   city        500 non-null    object        \n",
      " 5   reg_date    500 non-null    object        \n",
      " 6   plan        500 non-null    object        \n",
      " 7   churn_date  34 non-null     datetime64[ns]\n",
      "dtypes: datetime64[ns](1), int64(2), object(5)\n",
      "memory usage: 31.4+ KB\n",
      "None\n"
     ]
    }
   ],
   "source": [
    "df_users['churn_date']=pd.to_datetime(df_users['churn_date'],format= '%Y-%m-%d',errors='coerce')\n",
    "print(df_users.info())"
   ]
  },
  {
   "cell_type": "markdown",
   "metadata": {
    "id": "ycwuARJp0q07"
   },
   "source": [
    "### Enriquecer los datos"
   ]
  },
  {
   "cell_type": "code",
   "execution_count": 9,
   "metadata": {
    "id": "iq0AaBS90q08",
    "trusted": false
   },
   "outputs": [
    {
     "name": "stdout",
     "output_type": "stream",
     "text": [
      "<class 'pandas.core.frame.DataFrame'>\n",
      "RangeIndex: 500 entries, 0 to 499\n",
      "Data columns (total 8 columns):\n",
      " #   Column      Non-Null Count  Dtype         \n",
      "---  ------      --------------  -----         \n",
      " 0   user_id     500 non-null    int64         \n",
      " 1   first_name  500 non-null    object        \n",
      " 2   last_name   500 non-null    object        \n",
      " 3   age         500 non-null    int64         \n",
      " 4   city        500 non-null    object        \n",
      " 5   reg_date    500 non-null    datetime64[ns]\n",
      " 6   plan_name   500 non-null    object        \n",
      " 7   churn_date  34 non-null     datetime64[ns]\n",
      "dtypes: datetime64[ns](2), int64(2), object(4)\n",
      "memory usage: 31.4+ KB\n",
      "None\n"
     ]
    }
   ],
   "source": [
    "df_users['reg_date']= pd.to_datetime(df_users['reg_date'],format= '%Y-%m-%d')\n",
    "df_users.rename(columns={'plan': 'plan_name'}, inplace= True)\n",
    "print(df_users.info())"
   ]
  },
  {
   "cell_type": "markdown",
   "metadata": {
    "id": "o7MeKCid0q08"
   },
   "source": [
    "## Llamadas"
   ]
  },
  {
   "cell_type": "code",
   "execution_count": 10,
   "metadata": {
    "id": "6dDlnoDm0q08",
    "trusted": false
   },
   "outputs": [
    {
     "name": "stdout",
     "output_type": "stream",
     "text": [
      "<class 'pandas.core.frame.DataFrame'>\n",
      "RangeIndex: 137735 entries, 0 to 137734\n",
      "Data columns (total 4 columns):\n",
      " #   Column     Non-Null Count   Dtype  \n",
      "---  ------     --------------   -----  \n",
      " 0   id         137735 non-null  object \n",
      " 1   user_id    137735 non-null  int64  \n",
      " 2   call_date  137735 non-null  object \n",
      " 3   duration   137735 non-null  float64\n",
      "dtypes: float64(1), int64(1), object(2)\n",
      "memory usage: 4.2+ MB\n"
     ]
    }
   ],
   "source": [
    "# Imprime la información general/resumida sobre el DataFrame de las llamadas\n",
    "df_calls.info()"
   ]
  },
  {
   "cell_type": "code",
   "execution_count": 11,
   "metadata": {
    "id": "kuh1vlNB0q09",
    "trusted": false
   },
   "outputs": [
    {
     "data": {
      "text/html": [
       "<div>\n",
       "<style scoped>\n",
       "    .dataframe tbody tr th:only-of-type {\n",
       "        vertical-align: middle;\n",
       "    }\n",
       "\n",
       "    .dataframe tbody tr th {\n",
       "        vertical-align: top;\n",
       "    }\n",
       "\n",
       "    .dataframe thead th {\n",
       "        text-align: right;\n",
       "    }\n",
       "</style>\n",
       "<table border=\"1\" class=\"dataframe\">\n",
       "  <thead>\n",
       "    <tr style=\"text-align: right;\">\n",
       "      <th></th>\n",
       "      <th>id</th>\n",
       "      <th>user_id</th>\n",
       "      <th>call_date</th>\n",
       "      <th>duration</th>\n",
       "    </tr>\n",
       "  </thead>\n",
       "  <tbody>\n",
       "    <tr>\n",
       "      <th>0</th>\n",
       "      <td>1000_93</td>\n",
       "      <td>1000</td>\n",
       "      <td>2018-12-27</td>\n",
       "      <td>8.52</td>\n",
       "    </tr>\n",
       "    <tr>\n",
       "      <th>1</th>\n",
       "      <td>1000_145</td>\n",
       "      <td>1000</td>\n",
       "      <td>2018-12-27</td>\n",
       "      <td>13.66</td>\n",
       "    </tr>\n",
       "    <tr>\n",
       "      <th>2</th>\n",
       "      <td>1000_247</td>\n",
       "      <td>1000</td>\n",
       "      <td>2018-12-27</td>\n",
       "      <td>14.48</td>\n",
       "    </tr>\n",
       "    <tr>\n",
       "      <th>3</th>\n",
       "      <td>1000_309</td>\n",
       "      <td>1000</td>\n",
       "      <td>2018-12-28</td>\n",
       "      <td>5.76</td>\n",
       "    </tr>\n",
       "    <tr>\n",
       "      <th>4</th>\n",
       "      <td>1000_380</td>\n",
       "      <td>1000</td>\n",
       "      <td>2018-12-30</td>\n",
       "      <td>4.22</td>\n",
       "    </tr>\n",
       "  </tbody>\n",
       "</table>\n",
       "</div>"
      ],
      "text/plain": [
       "         id  user_id   call_date  duration\n",
       "0   1000_93     1000  2018-12-27      8.52\n",
       "1  1000_145     1000  2018-12-27     13.66\n",
       "2  1000_247     1000  2018-12-27     14.48\n",
       "3  1000_309     1000  2018-12-28      5.76\n",
       "4  1000_380     1000  2018-12-30      4.22"
      ]
     },
     "execution_count": 11,
     "metadata": {},
     "output_type": "execute_result"
    }
   ],
   "source": [
    "# Imprime una muestra de datos para las llamadas\n",
    "df_calls.head()"
   ]
  },
  {
   "cell_type": "markdown",
   "metadata": {
    "id": "DOAxYJSx0q09"
   },
   "source": [
    "\n",
    "Tenemos un DataFrame para las llamadas de 4 columnas, de las cuales ninguna contiene datos ausentes. Lo que llama la atención para su corrección es el tipo de dato de la columna id y call_date."
   ]
  },
  {
   "cell_type": "markdown",
   "metadata": {
    "id": "S7hzxmbX0q0-"
   },
   "source": [
    "### Corregir los datos"
   ]
  },
  {
   "cell_type": "code",
   "execution_count": 12,
   "metadata": {
    "id": "S2r8xA4f0q0-",
    "trusted": false
   },
   "outputs": [
    {
     "name": "stdout",
     "output_type": "stream",
     "text": [
      "<class 'pandas.core.frame.DataFrame'>\n",
      "RangeIndex: 137735 entries, 0 to 137734\n",
      "Data columns (total 4 columns):\n",
      " #   Column     Non-Null Count   Dtype         \n",
      "---  ------     --------------   -----         \n",
      " 0   id         137735 non-null  int64         \n",
      " 1   user_id    137735 non-null  int64         \n",
      " 2   call_date  137735 non-null  datetime64[ns]\n",
      " 3   duration   137735 non-null  float64       \n",
      "dtypes: datetime64[ns](1), float64(1), int64(2)\n",
      "memory usage: 4.2 MB\n",
      "None\n"
     ]
    }
   ],
   "source": [
    "df_calls['id']= df_calls['id'].astype(int)\n",
    "df_calls['call_date']=pd.to_datetime(df_calls['call_date'],format= '%Y-%m-%d')\n",
    "print(df_calls.info())"
   ]
  },
  {
   "cell_type": "markdown",
   "metadata": {
    "id": "KrMgTrlG0q0_"
   },
   "source": [
    "### Enriquecer los datos"
   ]
  },
  {
   "cell_type": "markdown",
   "metadata": {
    "id": "a9MbmEvE0q0_"
   },
   "source": [
    "En este caso vale la pena revisar si tenemos datos duplicados de las llamadas ya que no podemos estar seguros del número de registros que deberiamos tener.\n",
    "Adicionalmente, sabemos que los cobros se daran por los minutos redondeados y no por segundo y no serán por llamada sino con corte mensual, por lo que sería ideal crear una nueva columna con los datos modificados."
   ]
  },
  {
   "cell_type": "code",
   "execution_count": 13,
   "metadata": {
    "id": "iZ1avpA_0q0_",
    "trusted": false
   },
   "outputs": [
    {
     "name": "stdout",
     "output_type": "stream",
     "text": [
      "duplicated: 0\n"
     ]
    },
    {
     "data": {
      "text/html": [
       "<div>\n",
       "<style scoped>\n",
       "    .dataframe tbody tr th:only-of-type {\n",
       "        vertical-align: middle;\n",
       "    }\n",
       "\n",
       "    .dataframe tbody tr th {\n",
       "        vertical-align: top;\n",
       "    }\n",
       "\n",
       "    .dataframe thead th {\n",
       "        text-align: right;\n",
       "    }\n",
       "</style>\n",
       "<table border=\"1\" class=\"dataframe\">\n",
       "  <thead>\n",
       "    <tr style=\"text-align: right;\">\n",
       "      <th></th>\n",
       "      <th>id</th>\n",
       "      <th>user_id</th>\n",
       "      <th>call_date</th>\n",
       "      <th>duration</th>\n",
       "      <th>month</th>\n",
       "    </tr>\n",
       "  </thead>\n",
       "  <tbody>\n",
       "    <tr>\n",
       "      <th>0</th>\n",
       "      <td>100093</td>\n",
       "      <td>1000</td>\n",
       "      <td>2018-12-27</td>\n",
       "      <td>9</td>\n",
       "      <td>12</td>\n",
       "    </tr>\n",
       "    <tr>\n",
       "      <th>1</th>\n",
       "      <td>1000145</td>\n",
       "      <td>1000</td>\n",
       "      <td>2018-12-27</td>\n",
       "      <td>14</td>\n",
       "      <td>12</td>\n",
       "    </tr>\n",
       "    <tr>\n",
       "      <th>2</th>\n",
       "      <td>1000247</td>\n",
       "      <td>1000</td>\n",
       "      <td>2018-12-27</td>\n",
       "      <td>15</td>\n",
       "      <td>12</td>\n",
       "    </tr>\n",
       "    <tr>\n",
       "      <th>3</th>\n",
       "      <td>1000309</td>\n",
       "      <td>1000</td>\n",
       "      <td>2018-12-28</td>\n",
       "      <td>6</td>\n",
       "      <td>12</td>\n",
       "    </tr>\n",
       "    <tr>\n",
       "      <th>4</th>\n",
       "      <td>1000380</td>\n",
       "      <td>1000</td>\n",
       "      <td>2018-12-30</td>\n",
       "      <td>5</td>\n",
       "      <td>12</td>\n",
       "    </tr>\n",
       "  </tbody>\n",
       "</table>\n",
       "</div>"
      ],
      "text/plain": [
       "        id  user_id  call_date  duration  month\n",
       "0   100093     1000 2018-12-27         9     12\n",
       "1  1000145     1000 2018-12-27        14     12\n",
       "2  1000247     1000 2018-12-27        15     12\n",
       "3  1000309     1000 2018-12-28         6     12\n",
       "4  1000380     1000 2018-12-30         5     12"
      ]
     },
     "execution_count": 13,
     "metadata": {},
     "output_type": "execute_result"
    }
   ],
   "source": [
    "print('duplicated:', df_calls.duplicated().sum())\n",
    "df_calls['duration']= np.ceil(df_calls['duration']).astype(int)\n",
    "df_calls['month']=df_calls['call_date'].dt.month\n",
    "df_calls.head()"
   ]
  },
  {
   "cell_type": "markdown",
   "metadata": {
    "id": "mOUZSi180q0_"
   },
   "source": [
    "## Mensajes"
   ]
  },
  {
   "cell_type": "code",
   "execution_count": 14,
   "metadata": {
    "id": "R-bYJpdV0q1A",
    "trusted": false
   },
   "outputs": [
    {
     "name": "stdout",
     "output_type": "stream",
     "text": [
      "<class 'pandas.core.frame.DataFrame'>\n",
      "RangeIndex: 76051 entries, 0 to 76050\n",
      "Data columns (total 3 columns):\n",
      " #   Column        Non-Null Count  Dtype \n",
      "---  ------        --------------  ----- \n",
      " 0   id            76051 non-null  object\n",
      " 1   user_id       76051 non-null  int64 \n",
      " 2   message_date  76051 non-null  object\n",
      "dtypes: int64(1), object(2)\n",
      "memory usage: 1.7+ MB\n"
     ]
    }
   ],
   "source": [
    "# Imprime la información general/resumida sobre el DataFrame de los mensajes\n",
    "df_messages.info()"
   ]
  },
  {
   "cell_type": "code",
   "execution_count": 15,
   "metadata": {
    "id": "mCEl2iGE0q1A",
    "trusted": false
   },
   "outputs": [
    {
     "data": {
      "text/html": [
       "<div>\n",
       "<style scoped>\n",
       "    .dataframe tbody tr th:only-of-type {\n",
       "        vertical-align: middle;\n",
       "    }\n",
       "\n",
       "    .dataframe tbody tr th {\n",
       "        vertical-align: top;\n",
       "    }\n",
       "\n",
       "    .dataframe thead th {\n",
       "        text-align: right;\n",
       "    }\n",
       "</style>\n",
       "<table border=\"1\" class=\"dataframe\">\n",
       "  <thead>\n",
       "    <tr style=\"text-align: right;\">\n",
       "      <th></th>\n",
       "      <th>id</th>\n",
       "      <th>user_id</th>\n",
       "      <th>message_date</th>\n",
       "    </tr>\n",
       "  </thead>\n",
       "  <tbody>\n",
       "    <tr>\n",
       "      <th>0</th>\n",
       "      <td>1000_125</td>\n",
       "      <td>1000</td>\n",
       "      <td>2018-12-27</td>\n",
       "    </tr>\n",
       "    <tr>\n",
       "      <th>1</th>\n",
       "      <td>1000_160</td>\n",
       "      <td>1000</td>\n",
       "      <td>2018-12-31</td>\n",
       "    </tr>\n",
       "    <tr>\n",
       "      <th>2</th>\n",
       "      <td>1000_223</td>\n",
       "      <td>1000</td>\n",
       "      <td>2018-12-31</td>\n",
       "    </tr>\n",
       "    <tr>\n",
       "      <th>3</th>\n",
       "      <td>1000_251</td>\n",
       "      <td>1000</td>\n",
       "      <td>2018-12-27</td>\n",
       "    </tr>\n",
       "    <tr>\n",
       "      <th>4</th>\n",
       "      <td>1000_255</td>\n",
       "      <td>1000</td>\n",
       "      <td>2018-12-26</td>\n",
       "    </tr>\n",
       "  </tbody>\n",
       "</table>\n",
       "</div>"
      ],
      "text/plain": [
       "         id  user_id message_date\n",
       "0  1000_125     1000   2018-12-27\n",
       "1  1000_160     1000   2018-12-31\n",
       "2  1000_223     1000   2018-12-31\n",
       "3  1000_251     1000   2018-12-27\n",
       "4  1000_255     1000   2018-12-26"
      ]
     },
     "execution_count": 15,
     "metadata": {},
     "output_type": "execute_result"
    }
   ],
   "source": [
    "# Imprime una muestra de datos para los mensajes\n",
    "df_messages.head()"
   ]
  },
  {
   "cell_type": "markdown",
   "metadata": {
    "id": "04xDj7KH0q1A"
   },
   "source": [
    "En nuestro conjunto de datos de mensajes tenemos 3 columnas, de las cuales ninguna contiene datos ausentes. Es de resaltar que la columna id y message_date tienen el formato incorrecto."
   ]
  },
  {
   "cell_type": "markdown",
   "metadata": {
    "id": "Sprfak900q1B"
   },
   "source": [
    "### Corregir los datos"
   ]
  },
  {
   "cell_type": "markdown",
   "metadata": {
    "id": "eGw7d9j10q1B"
   },
   "source": [
    "id a entero, message_date a date, nueva columna con el mes."
   ]
  },
  {
   "cell_type": "code",
   "execution_count": 16,
   "metadata": {
    "id": "vsllvkoa0q1B",
    "trusted": false
   },
   "outputs": [
    {
     "name": "stdout",
     "output_type": "stream",
     "text": [
      "<class 'pandas.core.frame.DataFrame'>\n",
      "RangeIndex: 76051 entries, 0 to 76050\n",
      "Data columns (total 3 columns):\n",
      " #   Column        Non-Null Count  Dtype         \n",
      "---  ------        --------------  -----         \n",
      " 0   id            76051 non-null  int64         \n",
      " 1   user_id       76051 non-null  int64         \n",
      " 2   message_date  76051 non-null  datetime64[ns]\n",
      "dtypes: datetime64[ns](1), int64(2)\n",
      "memory usage: 1.7 MB\n",
      "None\n"
     ]
    }
   ],
   "source": [
    "df_messages['id']= df_messages['id'].astype(int)\n",
    "df_messages['message_date']=pd.to_datetime(df_messages['message_date'],format= '%Y-%m-%d')\n",
    "print(df_messages.info())"
   ]
  },
  {
   "cell_type": "markdown",
   "metadata": {
    "id": "HvLid7iD0q1B"
   },
   "source": [
    "### Enriquecer los datos"
   ]
  },
  {
   "cell_type": "markdown",
   "metadata": {
    "id": "8nhPFKIe0q1C"
   },
   "source": [
    "En este caso vale la pena revisar si tenemos datos duplicados de los mensajes ya que no podemos estar seguros del número de registros que deberiamos tener.\n",
    "Adicionalmente, sabemos que los cobros se haran por cantidad de mensajes al mes, por lo que sería ideal crear una nueva columna."
   ]
  },
  {
   "cell_type": "code",
   "execution_count": 17,
   "metadata": {
    "id": "zYEXZac10q1C",
    "trusted": false
   },
   "outputs": [
    {
     "name": "stdout",
     "output_type": "stream",
     "text": [
      "duplicados: 0\n"
     ]
    },
    {
     "data": {
      "text/html": [
       "<div>\n",
       "<style scoped>\n",
       "    .dataframe tbody tr th:only-of-type {\n",
       "        vertical-align: middle;\n",
       "    }\n",
       "\n",
       "    .dataframe tbody tr th {\n",
       "        vertical-align: top;\n",
       "    }\n",
       "\n",
       "    .dataframe thead th {\n",
       "        text-align: right;\n",
       "    }\n",
       "</style>\n",
       "<table border=\"1\" class=\"dataframe\">\n",
       "  <thead>\n",
       "    <tr style=\"text-align: right;\">\n",
       "      <th></th>\n",
       "      <th>id</th>\n",
       "      <th>user_id</th>\n",
       "      <th>call_date</th>\n",
       "      <th>duration</th>\n",
       "      <th>month</th>\n",
       "    </tr>\n",
       "  </thead>\n",
       "  <tbody>\n",
       "    <tr>\n",
       "      <th>0</th>\n",
       "      <td>100093</td>\n",
       "      <td>1000</td>\n",
       "      <td>2018-12-27</td>\n",
       "      <td>9</td>\n",
       "      <td>12</td>\n",
       "    </tr>\n",
       "    <tr>\n",
       "      <th>1</th>\n",
       "      <td>1000145</td>\n",
       "      <td>1000</td>\n",
       "      <td>2018-12-27</td>\n",
       "      <td>14</td>\n",
       "      <td>12</td>\n",
       "    </tr>\n",
       "    <tr>\n",
       "      <th>2</th>\n",
       "      <td>1000247</td>\n",
       "      <td>1000</td>\n",
       "      <td>2018-12-27</td>\n",
       "      <td>15</td>\n",
       "      <td>12</td>\n",
       "    </tr>\n",
       "    <tr>\n",
       "      <th>3</th>\n",
       "      <td>1000309</td>\n",
       "      <td>1000</td>\n",
       "      <td>2018-12-28</td>\n",
       "      <td>6</td>\n",
       "      <td>12</td>\n",
       "    </tr>\n",
       "    <tr>\n",
       "      <th>4</th>\n",
       "      <td>1000380</td>\n",
       "      <td>1000</td>\n",
       "      <td>2018-12-30</td>\n",
       "      <td>5</td>\n",
       "      <td>12</td>\n",
       "    </tr>\n",
       "  </tbody>\n",
       "</table>\n",
       "</div>"
      ],
      "text/plain": [
       "        id  user_id  call_date  duration  month\n",
       "0   100093     1000 2018-12-27         9     12\n",
       "1  1000145     1000 2018-12-27        14     12\n",
       "2  1000247     1000 2018-12-27        15     12\n",
       "3  1000309     1000 2018-12-28         6     12\n",
       "4  1000380     1000 2018-12-30         5     12"
      ]
     },
     "execution_count": 17,
     "metadata": {},
     "output_type": "execute_result"
    }
   ],
   "source": [
    "print('duplicados:', df_messages.duplicated().sum())\n",
    "df_messages['month']=df_messages['message_date'].dt.month\n",
    "df_calls.head()"
   ]
  },
  {
   "cell_type": "markdown",
   "metadata": {
    "id": "bStkaxn40q1C"
   },
   "source": [
    "## Internet"
   ]
  },
  {
   "cell_type": "code",
   "execution_count": 18,
   "metadata": {
    "id": "e-Uz5qyn0q1C",
    "scrolled": true,
    "trusted": false
   },
   "outputs": [
    {
     "name": "stdout",
     "output_type": "stream",
     "text": [
      "<class 'pandas.core.frame.DataFrame'>\n",
      "RangeIndex: 104825 entries, 0 to 104824\n",
      "Data columns (total 4 columns):\n",
      " #   Column        Non-Null Count   Dtype  \n",
      "---  ------        --------------   -----  \n",
      " 0   id            104825 non-null  object \n",
      " 1   user_id       104825 non-null  int64  \n",
      " 2   session_date  104825 non-null  object \n",
      " 3   mb_used       104825 non-null  float64\n",
      "dtypes: float64(1), int64(1), object(2)\n",
      "memory usage: 3.2+ MB\n"
     ]
    }
   ],
   "source": [
    "# Imprime la información general/resumida sobre el DataFrame de internet\n",
    "df_internet.info()\n"
   ]
  },
  {
   "cell_type": "code",
   "execution_count": 19,
   "metadata": {
    "id": "9r3x_XLw0q1C",
    "trusted": false
   },
   "outputs": [
    {
     "data": {
      "text/html": [
       "<div>\n",
       "<style scoped>\n",
       "    .dataframe tbody tr th:only-of-type {\n",
       "        vertical-align: middle;\n",
       "    }\n",
       "\n",
       "    .dataframe tbody tr th {\n",
       "        vertical-align: top;\n",
       "    }\n",
       "\n",
       "    .dataframe thead th {\n",
       "        text-align: right;\n",
       "    }\n",
       "</style>\n",
       "<table border=\"1\" class=\"dataframe\">\n",
       "  <thead>\n",
       "    <tr style=\"text-align: right;\">\n",
       "      <th></th>\n",
       "      <th>id</th>\n",
       "      <th>user_id</th>\n",
       "      <th>session_date</th>\n",
       "      <th>mb_used</th>\n",
       "    </tr>\n",
       "  </thead>\n",
       "  <tbody>\n",
       "    <tr>\n",
       "      <th>0</th>\n",
       "      <td>1000_13</td>\n",
       "      <td>1000</td>\n",
       "      <td>2018-12-29</td>\n",
       "      <td>89.86</td>\n",
       "    </tr>\n",
       "    <tr>\n",
       "      <th>1</th>\n",
       "      <td>1000_204</td>\n",
       "      <td>1000</td>\n",
       "      <td>2018-12-31</td>\n",
       "      <td>0.00</td>\n",
       "    </tr>\n",
       "    <tr>\n",
       "      <th>2</th>\n",
       "      <td>1000_379</td>\n",
       "      <td>1000</td>\n",
       "      <td>2018-12-28</td>\n",
       "      <td>660.40</td>\n",
       "    </tr>\n",
       "    <tr>\n",
       "      <th>3</th>\n",
       "      <td>1000_413</td>\n",
       "      <td>1000</td>\n",
       "      <td>2018-12-26</td>\n",
       "      <td>270.99</td>\n",
       "    </tr>\n",
       "    <tr>\n",
       "      <th>4</th>\n",
       "      <td>1000_442</td>\n",
       "      <td>1000</td>\n",
       "      <td>2018-12-27</td>\n",
       "      <td>880.22</td>\n",
       "    </tr>\n",
       "  </tbody>\n",
       "</table>\n",
       "</div>"
      ],
      "text/plain": [
       "         id  user_id session_date  mb_used\n",
       "0   1000_13     1000   2018-12-29    89.86\n",
       "1  1000_204     1000   2018-12-31     0.00\n",
       "2  1000_379     1000   2018-12-28   660.40\n",
       "3  1000_413     1000   2018-12-26   270.99\n",
       "4  1000_442     1000   2018-12-27   880.22"
      ]
     },
     "execution_count": 19,
     "metadata": {},
     "output_type": "execute_result"
    }
   ],
   "source": [
    "# Imprime una muestra de datos para el tráfico de internet\n",
    "df_internet.head()"
   ]
  },
  {
   "cell_type": "markdown",
   "metadata": {
    "id": "EzOG5ik30q1D"
   },
   "source": [
    "En nuestro conjunto de datos de internet tenemos 4 columnas, de las cuales ninguna contiene datos ausentes. Es de resaltar que la columna id y session_date tienen el formato incorrecto."
   ]
  },
  {
   "cell_type": "markdown",
   "metadata": {
    "id": "yA0tkPFg0q1D"
   },
   "source": [
    "### Corregir los datos"
   ]
  },
  {
   "cell_type": "code",
   "execution_count": 20,
   "metadata": {
    "id": "zVeanzdd0q1E",
    "trusted": false
   },
   "outputs": [
    {
     "name": "stdout",
     "output_type": "stream",
     "text": [
      "<class 'pandas.core.frame.DataFrame'>\n",
      "RangeIndex: 104825 entries, 0 to 104824\n",
      "Data columns (total 4 columns):\n",
      " #   Column        Non-Null Count   Dtype         \n",
      "---  ------        --------------   -----         \n",
      " 0   id            104825 non-null  int64         \n",
      " 1   user_id       104825 non-null  int64         \n",
      " 2   session_date  104825 non-null  datetime64[ns]\n",
      " 3   mb_used       104825 non-null  float64       \n",
      "dtypes: datetime64[ns](1), float64(1), int64(2)\n",
      "memory usage: 3.2 MB\n",
      "None\n"
     ]
    }
   ],
   "source": [
    "df_internet['id']= df_internet['id'].astype(int)\n",
    "df_internet['session_date']=pd.to_datetime(df_internet['session_date'],format= '%Y-%m-%d')\n",
    "print(df_internet.info())"
   ]
  },
  {
   "cell_type": "markdown",
   "metadata": {
    "id": "e8_mLF4a0q1E"
   },
   "source": [
    "### Enriquecer los datos"
   ]
  },
  {
   "cell_type": "markdown",
   "metadata": {
    "id": "xhNdn2tE0q1E"
   },
   "source": [
    "En este caso vale la pena revisar si tenemos datos duplicados de las sesiones de internet ya que no podemos estar seguros del número de registros que deberiamos tener.\n",
    "Al igual que en los otros DaaFrame, debemos separar los daots por meses y adicionalmente convertir las MB a GB ya que el cobro se realizará por GB al mes."
   ]
  },
  {
   "cell_type": "code",
   "execution_count": 21,
   "metadata": {
    "id": "ESiYPIEK0q1E",
    "trusted": false
   },
   "outputs": [
    {
     "name": "stdout",
     "output_type": "stream",
     "text": [
      "duplicados: 0\n"
     ]
    },
    {
     "data": {
      "text/html": [
       "<div>\n",
       "<style scoped>\n",
       "    .dataframe tbody tr th:only-of-type {\n",
       "        vertical-align: middle;\n",
       "    }\n",
       "\n",
       "    .dataframe tbody tr th {\n",
       "        vertical-align: top;\n",
       "    }\n",
       "\n",
       "    .dataframe thead th {\n",
       "        text-align: right;\n",
       "    }\n",
       "</style>\n",
       "<table border=\"1\" class=\"dataframe\">\n",
       "  <thead>\n",
       "    <tr style=\"text-align: right;\">\n",
       "      <th></th>\n",
       "      <th>id</th>\n",
       "      <th>user_id</th>\n",
       "      <th>session_date</th>\n",
       "      <th>mb_used</th>\n",
       "      <th>month</th>\n",
       "      <th>gb_used</th>\n",
       "    </tr>\n",
       "  </thead>\n",
       "  <tbody>\n",
       "    <tr>\n",
       "      <th>0</th>\n",
       "      <td>100013</td>\n",
       "      <td>1000</td>\n",
       "      <td>2018-12-29</td>\n",
       "      <td>89.86</td>\n",
       "      <td>12</td>\n",
       "      <td>0.087754</td>\n",
       "    </tr>\n",
       "    <tr>\n",
       "      <th>1</th>\n",
       "      <td>1000204</td>\n",
       "      <td>1000</td>\n",
       "      <td>2018-12-31</td>\n",
       "      <td>0.00</td>\n",
       "      <td>12</td>\n",
       "      <td>0.000000</td>\n",
       "    </tr>\n",
       "    <tr>\n",
       "      <th>2</th>\n",
       "      <td>1000379</td>\n",
       "      <td>1000</td>\n",
       "      <td>2018-12-28</td>\n",
       "      <td>660.40</td>\n",
       "      <td>12</td>\n",
       "      <td>0.644922</td>\n",
       "    </tr>\n",
       "    <tr>\n",
       "      <th>3</th>\n",
       "      <td>1000413</td>\n",
       "      <td>1000</td>\n",
       "      <td>2018-12-26</td>\n",
       "      <td>270.99</td>\n",
       "      <td>12</td>\n",
       "      <td>0.264639</td>\n",
       "    </tr>\n",
       "    <tr>\n",
       "      <th>4</th>\n",
       "      <td>1000442</td>\n",
       "      <td>1000</td>\n",
       "      <td>2018-12-27</td>\n",
       "      <td>880.22</td>\n",
       "      <td>12</td>\n",
       "      <td>0.859590</td>\n",
       "    </tr>\n",
       "  </tbody>\n",
       "</table>\n",
       "</div>"
      ],
      "text/plain": [
       "        id  user_id session_date  mb_used  month   gb_used\n",
       "0   100013     1000   2018-12-29    89.86     12  0.087754\n",
       "1  1000204     1000   2018-12-31     0.00     12  0.000000\n",
       "2  1000379     1000   2018-12-28   660.40     12  0.644922\n",
       "3  1000413     1000   2018-12-26   270.99     12  0.264639\n",
       "4  1000442     1000   2018-12-27   880.22     12  0.859590"
      ]
     },
     "execution_count": 21,
     "metadata": {},
     "output_type": "execute_result"
    }
   ],
   "source": [
    "print('duplicados:', df_internet.duplicated().sum())\n",
    "df_internet['month']=df_internet['session_date'].dt.month\n",
    "df_internet['gb_used']=df_internet['mb_used']/1024\n",
    "df_internet.head()"
   ]
  },
  {
   "cell_type": "markdown",
   "metadata": {},
   "source": [
    "<div class=\"alert alert-block alert-success\">\n",
    "<b>Comentario del revisor</b> <a class=\"tocSkip\"></a><br />\n",
    "Bien hecho!<br/>\n",
    "\n",
    "Los datos fueron revisados y modificados apropiadamente, ahora se puede empezar a trabajar con ellos comodomente\n",
    "</div>\n"
   ]
  },
  {
   "cell_type": "markdown",
   "metadata": {
    "id": "3UA2cqIW0q1E"
   },
   "source": [
    "## Estudiar las condiciones de las tarifas"
   ]
  },
  {
   "cell_type": "markdown",
   "metadata": {
    "id": "T86Sqltq0q1F"
   },
   "source": [
    "[Es sumamente importante entender cómo funcionan las tarifas, cómo se les cobra a los usuarios en función de su plan de suscripción. Así que te sugerimos imprimir la información de la tarifa para ver una vez más sus condiciones.]"
   ]
  },
  {
   "cell_type": "code",
   "execution_count": 22,
   "metadata": {
    "id": "i409op8p0q1F",
    "trusted": false
   },
   "outputs": [
    {
     "data": {
      "text/html": [
       "<div>\n",
       "<style scoped>\n",
       "    .dataframe tbody tr th:only-of-type {\n",
       "        vertical-align: middle;\n",
       "    }\n",
       "\n",
       "    .dataframe tbody tr th {\n",
       "        vertical-align: top;\n",
       "    }\n",
       "\n",
       "    .dataframe thead th {\n",
       "        text-align: right;\n",
       "    }\n",
       "</style>\n",
       "<table border=\"1\" class=\"dataframe\">\n",
       "  <thead>\n",
       "    <tr style=\"text-align: right;\">\n",
       "      <th></th>\n",
       "      <th>messages_included</th>\n",
       "      <th>mb_per_month_included</th>\n",
       "      <th>minutes_included</th>\n",
       "      <th>usd_monthly_pay</th>\n",
       "      <th>usd_per_gb</th>\n",
       "      <th>usd_per_message</th>\n",
       "      <th>usd_per_minute</th>\n",
       "      <th>plan_name</th>\n",
       "      <th>gb_per_month_included</th>\n",
       "    </tr>\n",
       "  </thead>\n",
       "  <tbody>\n",
       "    <tr>\n",
       "      <th>0</th>\n",
       "      <td>50</td>\n",
       "      <td>15360</td>\n",
       "      <td>500</td>\n",
       "      <td>20</td>\n",
       "      <td>10</td>\n",
       "      <td>0.03</td>\n",
       "      <td>0.03</td>\n",
       "      <td>surf</td>\n",
       "      <td>15</td>\n",
       "    </tr>\n",
       "    <tr>\n",
       "      <th>1</th>\n",
       "      <td>1000</td>\n",
       "      <td>30720</td>\n",
       "      <td>3000</td>\n",
       "      <td>70</td>\n",
       "      <td>7</td>\n",
       "      <td>0.01</td>\n",
       "      <td>0.01</td>\n",
       "      <td>ultimate</td>\n",
       "      <td>30</td>\n",
       "    </tr>\n",
       "  </tbody>\n",
       "</table>\n",
       "</div>"
      ],
      "text/plain": [
       "   messages_included  mb_per_month_included  minutes_included  \\\n",
       "0                 50                  15360               500   \n",
       "1               1000                  30720              3000   \n",
       "\n",
       "   usd_monthly_pay  usd_per_gb  usd_per_message  usd_per_minute plan_name  \\\n",
       "0               20          10             0.03            0.03      surf   \n",
       "1               70           7             0.01            0.01  ultimate   \n",
       "\n",
       "   gb_per_month_included  \n",
       "0                     15  \n",
       "1                     30  "
      ]
     },
     "execution_count": 22,
     "metadata": {},
     "output_type": "execute_result"
    }
   ],
   "source": [
    "# Imprime las condiciones de la tarifa y asegúrate de que te quedan claras\n",
    "df_plans.head()"
   ]
  },
  {
   "cell_type": "markdown",
   "metadata": {
    "id": "hMR1tP5d0q1F"
   },
   "source": [
    "## Agregar datos por usuario"
   ]
  },
  {
   "cell_type": "code",
   "execution_count": 23,
   "metadata": {
    "id": "A332cedB0q1G",
    "trusted": false
   },
   "outputs": [
    {
     "data": {
      "text/html": [
       "<div>\n",
       "<style scoped>\n",
       "    .dataframe tbody tr th:only-of-type {\n",
       "        vertical-align: middle;\n",
       "    }\n",
       "\n",
       "    .dataframe tbody tr th {\n",
       "        vertical-align: top;\n",
       "    }\n",
       "\n",
       "    .dataframe thead th {\n",
       "        text-align: right;\n",
       "    }\n",
       "</style>\n",
       "<table border=\"1\" class=\"dataframe\">\n",
       "  <thead>\n",
       "    <tr style=\"text-align: right;\">\n",
       "      <th></th>\n",
       "      <th>user_id</th>\n",
       "      <th>month</th>\n",
       "      <th>duration</th>\n",
       "    </tr>\n",
       "  </thead>\n",
       "  <tbody>\n",
       "    <tr>\n",
       "      <th>0</th>\n",
       "      <td>1000</td>\n",
       "      <td>12</td>\n",
       "      <td>16</td>\n",
       "    </tr>\n",
       "    <tr>\n",
       "      <th>1</th>\n",
       "      <td>1001</td>\n",
       "      <td>8</td>\n",
       "      <td>27</td>\n",
       "    </tr>\n",
       "    <tr>\n",
       "      <th>2</th>\n",
       "      <td>1001</td>\n",
       "      <td>9</td>\n",
       "      <td>49</td>\n",
       "    </tr>\n",
       "    <tr>\n",
       "      <th>3</th>\n",
       "      <td>1001</td>\n",
       "      <td>10</td>\n",
       "      <td>65</td>\n",
       "    </tr>\n",
       "    <tr>\n",
       "      <th>4</th>\n",
       "      <td>1001</td>\n",
       "      <td>11</td>\n",
       "      <td>64</td>\n",
       "    </tr>\n",
       "    <tr>\n",
       "      <th>...</th>\n",
       "      <td>...</td>\n",
       "      <td>...</td>\n",
       "      <td>...</td>\n",
       "    </tr>\n",
       "    <tr>\n",
       "      <th>2253</th>\n",
       "      <td>1498</td>\n",
       "      <td>12</td>\n",
       "      <td>39</td>\n",
       "    </tr>\n",
       "    <tr>\n",
       "      <th>2254</th>\n",
       "      <td>1499</td>\n",
       "      <td>9</td>\n",
       "      <td>41</td>\n",
       "    </tr>\n",
       "    <tr>\n",
       "      <th>2255</th>\n",
       "      <td>1499</td>\n",
       "      <td>10</td>\n",
       "      <td>53</td>\n",
       "    </tr>\n",
       "    <tr>\n",
       "      <th>2256</th>\n",
       "      <td>1499</td>\n",
       "      <td>11</td>\n",
       "      <td>45</td>\n",
       "    </tr>\n",
       "    <tr>\n",
       "      <th>2257</th>\n",
       "      <td>1499</td>\n",
       "      <td>12</td>\n",
       "      <td>65</td>\n",
       "    </tr>\n",
       "  </tbody>\n",
       "</table>\n",
       "<p>2258 rows × 3 columns</p>\n",
       "</div>"
      ],
      "text/plain": [
       "      user_id  month  duration\n",
       "0        1000     12        16\n",
       "1        1001      8        27\n",
       "2        1001      9        49\n",
       "3        1001     10        65\n",
       "4        1001     11        64\n",
       "...       ...    ...       ...\n",
       "2253     1498     12        39\n",
       "2254     1499      9        41\n",
       "2255     1499     10        53\n",
       "2256     1499     11        45\n",
       "2257     1499     12        65\n",
       "\n",
       "[2258 rows x 3 columns]"
      ]
     },
     "execution_count": 23,
     "metadata": {},
     "output_type": "execute_result"
    }
   ],
   "source": [
    "# Calcula el número de llamadas hechas por cada usuario al mes. Guarda el resultado.\n",
    "df_calls_month = df_calls.groupby(['user_id','month'])['duration'].count().reset_index()\n",
    "df_calls_month"
   ]
  },
  {
   "cell_type": "code",
   "execution_count": 24,
   "metadata": {
    "id": "aw2cmuql0q1G",
    "trusted": false
   },
   "outputs": [
    {
     "data": {
      "text/html": [
       "<div>\n",
       "<style scoped>\n",
       "    .dataframe tbody tr th:only-of-type {\n",
       "        vertical-align: middle;\n",
       "    }\n",
       "\n",
       "    .dataframe tbody tr th {\n",
       "        vertical-align: top;\n",
       "    }\n",
       "\n",
       "    .dataframe thead th {\n",
       "        text-align: right;\n",
       "    }\n",
       "</style>\n",
       "<table border=\"1\" class=\"dataframe\">\n",
       "  <thead>\n",
       "    <tr style=\"text-align: right;\">\n",
       "      <th></th>\n",
       "      <th>user_id</th>\n",
       "      <th>month</th>\n",
       "      <th>total_duration</th>\n",
       "    </tr>\n",
       "  </thead>\n",
       "  <tbody>\n",
       "    <tr>\n",
       "      <th>0</th>\n",
       "      <td>1000</td>\n",
       "      <td>12</td>\n",
       "      <td>124</td>\n",
       "    </tr>\n",
       "    <tr>\n",
       "      <th>1</th>\n",
       "      <td>1001</td>\n",
       "      <td>8</td>\n",
       "      <td>182</td>\n",
       "    </tr>\n",
       "    <tr>\n",
       "      <th>2</th>\n",
       "      <td>1001</td>\n",
       "      <td>9</td>\n",
       "      <td>315</td>\n",
       "    </tr>\n",
       "    <tr>\n",
       "      <th>3</th>\n",
       "      <td>1001</td>\n",
       "      <td>10</td>\n",
       "      <td>393</td>\n",
       "    </tr>\n",
       "    <tr>\n",
       "      <th>4</th>\n",
       "      <td>1001</td>\n",
       "      <td>11</td>\n",
       "      <td>426</td>\n",
       "    </tr>\n",
       "    <tr>\n",
       "      <th>...</th>\n",
       "      <td>...</td>\n",
       "      <td>...</td>\n",
       "      <td>...</td>\n",
       "    </tr>\n",
       "    <tr>\n",
       "      <th>2253</th>\n",
       "      <td>1498</td>\n",
       "      <td>12</td>\n",
       "      <td>339</td>\n",
       "    </tr>\n",
       "    <tr>\n",
       "      <th>2254</th>\n",
       "      <td>1499</td>\n",
       "      <td>9</td>\n",
       "      <td>346</td>\n",
       "    </tr>\n",
       "    <tr>\n",
       "      <th>2255</th>\n",
       "      <td>1499</td>\n",
       "      <td>10</td>\n",
       "      <td>385</td>\n",
       "    </tr>\n",
       "    <tr>\n",
       "      <th>2256</th>\n",
       "      <td>1499</td>\n",
       "      <td>11</td>\n",
       "      <td>308</td>\n",
       "    </tr>\n",
       "    <tr>\n",
       "      <th>2257</th>\n",
       "      <td>1499</td>\n",
       "      <td>12</td>\n",
       "      <td>496</td>\n",
       "    </tr>\n",
       "  </tbody>\n",
       "</table>\n",
       "<p>2258 rows × 3 columns</p>\n",
       "</div>"
      ],
      "text/plain": [
       "      user_id  month  total_duration\n",
       "0        1000     12             124\n",
       "1        1001      8             182\n",
       "2        1001      9             315\n",
       "3        1001     10             393\n",
       "4        1001     11             426\n",
       "...       ...    ...             ...\n",
       "2253     1498     12             339\n",
       "2254     1499      9             346\n",
       "2255     1499     10             385\n",
       "2256     1499     11             308\n",
       "2257     1499     12             496\n",
       "\n",
       "[2258 rows x 3 columns]"
      ]
     },
     "execution_count": 24,
     "metadata": {},
     "output_type": "execute_result"
    }
   ],
   "source": [
    "# Calcula la cantidad de minutos usados por cada usuario al mes. Guarda el resultado.\n",
    "df_min_month = df_calls.groupby(['user_id','month'])['duration'].sum().reset_index()\n",
    "df_min_month.rename(columns={'duration':'total_duration'}, inplace= True)\n",
    "df_min_month"
   ]
  },
  {
   "cell_type": "code",
   "execution_count": 25,
   "metadata": {
    "id": "CcQvNHn60q1G",
    "trusted": false
   },
   "outputs": [
    {
     "data": {
      "text/html": [
       "<div>\n",
       "<style scoped>\n",
       "    .dataframe tbody tr th:only-of-type {\n",
       "        vertical-align: middle;\n",
       "    }\n",
       "\n",
       "    .dataframe tbody tr th {\n",
       "        vertical-align: top;\n",
       "    }\n",
       "\n",
       "    .dataframe thead th {\n",
       "        text-align: right;\n",
       "    }\n",
       "</style>\n",
       "<table border=\"1\" class=\"dataframe\">\n",
       "  <thead>\n",
       "    <tr style=\"text-align: right;\">\n",
       "      <th></th>\n",
       "      <th>user_id</th>\n",
       "      <th>month</th>\n",
       "      <th>total_messages</th>\n",
       "    </tr>\n",
       "  </thead>\n",
       "  <tbody>\n",
       "    <tr>\n",
       "      <th>0</th>\n",
       "      <td>1000</td>\n",
       "      <td>12</td>\n",
       "      <td>11</td>\n",
       "    </tr>\n",
       "    <tr>\n",
       "      <th>1</th>\n",
       "      <td>1001</td>\n",
       "      <td>8</td>\n",
       "      <td>30</td>\n",
       "    </tr>\n",
       "    <tr>\n",
       "      <th>2</th>\n",
       "      <td>1001</td>\n",
       "      <td>9</td>\n",
       "      <td>44</td>\n",
       "    </tr>\n",
       "    <tr>\n",
       "      <th>3</th>\n",
       "      <td>1001</td>\n",
       "      <td>10</td>\n",
       "      <td>53</td>\n",
       "    </tr>\n",
       "    <tr>\n",
       "      <th>4</th>\n",
       "      <td>1001</td>\n",
       "      <td>11</td>\n",
       "      <td>36</td>\n",
       "    </tr>\n",
       "    <tr>\n",
       "      <th>...</th>\n",
       "      <td>...</td>\n",
       "      <td>...</td>\n",
       "      <td>...</td>\n",
       "    </tr>\n",
       "    <tr>\n",
       "      <th>1801</th>\n",
       "      <td>1496</td>\n",
       "      <td>9</td>\n",
       "      <td>21</td>\n",
       "    </tr>\n",
       "    <tr>\n",
       "      <th>1802</th>\n",
       "      <td>1496</td>\n",
       "      <td>10</td>\n",
       "      <td>18</td>\n",
       "    </tr>\n",
       "    <tr>\n",
       "      <th>1803</th>\n",
       "      <td>1496</td>\n",
       "      <td>11</td>\n",
       "      <td>13</td>\n",
       "    </tr>\n",
       "    <tr>\n",
       "      <th>1804</th>\n",
       "      <td>1496</td>\n",
       "      <td>12</td>\n",
       "      <td>11</td>\n",
       "    </tr>\n",
       "    <tr>\n",
       "      <th>1805</th>\n",
       "      <td>1497</td>\n",
       "      <td>12</td>\n",
       "      <td>50</td>\n",
       "    </tr>\n",
       "  </tbody>\n",
       "</table>\n",
       "<p>1806 rows × 3 columns</p>\n",
       "</div>"
      ],
      "text/plain": [
       "      user_id  month  total_messages\n",
       "0        1000     12              11\n",
       "1        1001      8              30\n",
       "2        1001      9              44\n",
       "3        1001     10              53\n",
       "4        1001     11              36\n",
       "...       ...    ...             ...\n",
       "1801     1496      9              21\n",
       "1802     1496     10              18\n",
       "1803     1496     11              13\n",
       "1804     1496     12              11\n",
       "1805     1497     12              50\n",
       "\n",
       "[1806 rows x 3 columns]"
      ]
     },
     "execution_count": 25,
     "metadata": {},
     "output_type": "execute_result"
    }
   ],
   "source": [
    "# Calcula el número de mensajes enviados por cada usuario al mes. Guarda el resultado.\n",
    "df_messages_month = df_messages.groupby(['user_id','month'])['id'].count().reset_index()\n",
    "df_messages_month.rename(columns={'id':'total_messages'}, inplace= True)\n",
    "df_messages_month\n"
   ]
  },
  {
   "cell_type": "code",
   "execution_count": 26,
   "metadata": {
    "id": "H1AqN2eG0q1H",
    "trusted": false
   },
   "outputs": [
    {
     "data": {
      "text/html": [
       "<div>\n",
       "<style scoped>\n",
       "    .dataframe tbody tr th:only-of-type {\n",
       "        vertical-align: middle;\n",
       "    }\n",
       "\n",
       "    .dataframe tbody tr th {\n",
       "        vertical-align: top;\n",
       "    }\n",
       "\n",
       "    .dataframe thead th {\n",
       "        text-align: right;\n",
       "    }\n",
       "</style>\n",
       "<table border=\"1\" class=\"dataframe\">\n",
       "  <thead>\n",
       "    <tr style=\"text-align: right;\">\n",
       "      <th></th>\n",
       "      <th>user_id</th>\n",
       "      <th>month</th>\n",
       "      <th>gb_used_month</th>\n",
       "    </tr>\n",
       "  </thead>\n",
       "  <tbody>\n",
       "    <tr>\n",
       "      <th>0</th>\n",
       "      <td>1000</td>\n",
       "      <td>12</td>\n",
       "      <td>2</td>\n",
       "    </tr>\n",
       "    <tr>\n",
       "      <th>1</th>\n",
       "      <td>1001</td>\n",
       "      <td>8</td>\n",
       "      <td>7</td>\n",
       "    </tr>\n",
       "    <tr>\n",
       "      <th>2</th>\n",
       "      <td>1001</td>\n",
       "      <td>9</td>\n",
       "      <td>14</td>\n",
       "    </tr>\n",
       "    <tr>\n",
       "      <th>3</th>\n",
       "      <td>1001</td>\n",
       "      <td>10</td>\n",
       "      <td>22</td>\n",
       "    </tr>\n",
       "    <tr>\n",
       "      <th>4</th>\n",
       "      <td>1001</td>\n",
       "      <td>11</td>\n",
       "      <td>19</td>\n",
       "    </tr>\n",
       "    <tr>\n",
       "      <th>...</th>\n",
       "      <td>...</td>\n",
       "      <td>...</td>\n",
       "      <td>...</td>\n",
       "    </tr>\n",
       "    <tr>\n",
       "      <th>2272</th>\n",
       "      <td>1498</td>\n",
       "      <td>12</td>\n",
       "      <td>23</td>\n",
       "    </tr>\n",
       "    <tr>\n",
       "      <th>2273</th>\n",
       "      <td>1499</td>\n",
       "      <td>9</td>\n",
       "      <td>13</td>\n",
       "    </tr>\n",
       "    <tr>\n",
       "      <th>2274</th>\n",
       "      <td>1499</td>\n",
       "      <td>10</td>\n",
       "      <td>20</td>\n",
       "    </tr>\n",
       "    <tr>\n",
       "      <th>2275</th>\n",
       "      <td>1499</td>\n",
       "      <td>11</td>\n",
       "      <td>17</td>\n",
       "    </tr>\n",
       "    <tr>\n",
       "      <th>2276</th>\n",
       "      <td>1499</td>\n",
       "      <td>12</td>\n",
       "      <td>22</td>\n",
       "    </tr>\n",
       "  </tbody>\n",
       "</table>\n",
       "<p>2277 rows × 3 columns</p>\n",
       "</div>"
      ],
      "text/plain": [
       "      user_id  month  gb_used_month\n",
       "0        1000     12              2\n",
       "1        1001      8              7\n",
       "2        1001      9             14\n",
       "3        1001     10             22\n",
       "4        1001     11             19\n",
       "...       ...    ...            ...\n",
       "2272     1498     12             23\n",
       "2273     1499      9             13\n",
       "2274     1499     10             20\n",
       "2275     1499     11             17\n",
       "2276     1499     12             22\n",
       "\n",
       "[2277 rows x 3 columns]"
      ]
     },
     "execution_count": 26,
     "metadata": {},
     "output_type": "execute_result"
    }
   ],
   "source": [
    "# Calcula el volumen del tráfico de Internet usado por cada usuario al mes. Guarda el resultado.\n",
    "df_internet_month = df_internet.groupby(['user_id','month'])['gb_used'].sum().reset_index()\n",
    "df_internet_month['gb_used']= np.ceil(df_internet_month['gb_used']).astype(int)\n",
    "df_internet_month.rename(columns= {'gb_used': 'gb_used_month'},inplace=True)\n",
    "df_internet_month\n"
   ]
  },
  {
   "cell_type": "code",
   "execution_count": 27,
   "metadata": {
    "id": "FW99ykyf0q1H",
    "trusted": false
   },
   "outputs": [
    {
     "data": {
      "text/html": [
       "<div>\n",
       "<style scoped>\n",
       "    .dataframe tbody tr th:only-of-type {\n",
       "        vertical-align: middle;\n",
       "    }\n",
       "\n",
       "    .dataframe tbody tr th {\n",
       "        vertical-align: top;\n",
       "    }\n",
       "\n",
       "    .dataframe thead th {\n",
       "        text-align: right;\n",
       "    }\n",
       "</style>\n",
       "<table border=\"1\" class=\"dataframe\">\n",
       "  <thead>\n",
       "    <tr style=\"text-align: right;\">\n",
       "      <th></th>\n",
       "      <th>user_id</th>\n",
       "      <th>month</th>\n",
       "      <th>total_duration</th>\n",
       "      <th>total_messages</th>\n",
       "      <th>gb_used_month</th>\n",
       "    </tr>\n",
       "  </thead>\n",
       "  <tbody>\n",
       "    <tr>\n",
       "      <th>0</th>\n",
       "      <td>1000</td>\n",
       "      <td>12</td>\n",
       "      <td>124.0</td>\n",
       "      <td>11.0</td>\n",
       "      <td>2.0</td>\n",
       "    </tr>\n",
       "    <tr>\n",
       "      <th>1</th>\n",
       "      <td>1001</td>\n",
       "      <td>8</td>\n",
       "      <td>182.0</td>\n",
       "      <td>30.0</td>\n",
       "      <td>7.0</td>\n",
       "    </tr>\n",
       "    <tr>\n",
       "      <th>2</th>\n",
       "      <td>1001</td>\n",
       "      <td>9</td>\n",
       "      <td>315.0</td>\n",
       "      <td>44.0</td>\n",
       "      <td>14.0</td>\n",
       "    </tr>\n",
       "    <tr>\n",
       "      <th>3</th>\n",
       "      <td>1001</td>\n",
       "      <td>10</td>\n",
       "      <td>393.0</td>\n",
       "      <td>53.0</td>\n",
       "      <td>22.0</td>\n",
       "    </tr>\n",
       "    <tr>\n",
       "      <th>4</th>\n",
       "      <td>1001</td>\n",
       "      <td>11</td>\n",
       "      <td>426.0</td>\n",
       "      <td>36.0</td>\n",
       "      <td>19.0</td>\n",
       "    </tr>\n",
       "    <tr>\n",
       "      <th>...</th>\n",
       "      <td>...</td>\n",
       "      <td>...</td>\n",
       "      <td>...</td>\n",
       "      <td>...</td>\n",
       "      <td>...</td>\n",
       "    </tr>\n",
       "    <tr>\n",
       "      <th>2288</th>\n",
       "      <td>1349</td>\n",
       "      <td>12</td>\n",
       "      <td>NaN</td>\n",
       "      <td>61.0</td>\n",
       "      <td>13.0</td>\n",
       "    </tr>\n",
       "    <tr>\n",
       "      <th>2289</th>\n",
       "      <td>1361</td>\n",
       "      <td>5</td>\n",
       "      <td>NaN</td>\n",
       "      <td>2.0</td>\n",
       "      <td>2.0</td>\n",
       "    </tr>\n",
       "    <tr>\n",
       "      <th>2290</th>\n",
       "      <td>1482</td>\n",
       "      <td>10</td>\n",
       "      <td>NaN</td>\n",
       "      <td>2.0</td>\n",
       "      <td>NaN</td>\n",
       "    </tr>\n",
       "    <tr>\n",
       "      <th>2291</th>\n",
       "      <td>1108</td>\n",
       "      <td>12</td>\n",
       "      <td>NaN</td>\n",
       "      <td>NaN</td>\n",
       "      <td>1.0</td>\n",
       "    </tr>\n",
       "    <tr>\n",
       "      <th>2292</th>\n",
       "      <td>1311</td>\n",
       "      <td>6</td>\n",
       "      <td>NaN</td>\n",
       "      <td>NaN</td>\n",
       "      <td>2.0</td>\n",
       "    </tr>\n",
       "  </tbody>\n",
       "</table>\n",
       "<p>2293 rows × 5 columns</p>\n",
       "</div>"
      ],
      "text/plain": [
       "      user_id  month  total_duration  total_messages  gb_used_month\n",
       "0        1000     12           124.0            11.0            2.0\n",
       "1        1001      8           182.0            30.0            7.0\n",
       "2        1001      9           315.0            44.0           14.0\n",
       "3        1001     10           393.0            53.0           22.0\n",
       "4        1001     11           426.0            36.0           19.0\n",
       "...       ...    ...             ...             ...            ...\n",
       "2288     1349     12             NaN            61.0           13.0\n",
       "2289     1361      5             NaN             2.0            2.0\n",
       "2290     1482     10             NaN             2.0            NaN\n",
       "2291     1108     12             NaN             NaN            1.0\n",
       "2292     1311      6             NaN             NaN            2.0\n",
       "\n",
       "[2293 rows x 5 columns]"
      ]
     },
     "execution_count": 27,
     "metadata": {},
     "output_type": "execute_result"
    }
   ],
   "source": [
    "# Fusiona los datos de llamadas, minutos, mensajes e Internet con base en user_id y month\n",
    "users_consum = df_min_month.merge(df_messages_month, on =['user_id','month'], how='outer')\n",
    "users_consum = users_consum.merge(df_internet_month, on= ['user_id', 'month'], how='outer')\n",
    "users_consum"
   ]
  },
  {
   "cell_type": "code",
   "execution_count": 28,
   "metadata": {
    "id": "0dNOXHag0q1H",
    "scrolled": true,
    "trusted": false
   },
   "outputs": [
    {
     "data": {
      "text/html": [
       "<div>\n",
       "<style scoped>\n",
       "    .dataframe tbody tr th:only-of-type {\n",
       "        vertical-align: middle;\n",
       "    }\n",
       "\n",
       "    .dataframe tbody tr th {\n",
       "        vertical-align: top;\n",
       "    }\n",
       "\n",
       "    .dataframe thead th {\n",
       "        text-align: right;\n",
       "    }\n",
       "</style>\n",
       "<table border=\"1\" class=\"dataframe\">\n",
       "  <thead>\n",
       "    <tr style=\"text-align: right;\">\n",
       "      <th></th>\n",
       "      <th>user_id</th>\n",
       "      <th>month</th>\n",
       "      <th>total_duration</th>\n",
       "      <th>total_messages</th>\n",
       "      <th>gb_used_month</th>\n",
       "      <th>first_name</th>\n",
       "      <th>last_name</th>\n",
       "      <th>age</th>\n",
       "      <th>city</th>\n",
       "      <th>reg_date</th>\n",
       "      <th>plan_name</th>\n",
       "      <th>churn_date</th>\n",
       "      <th>messages_included</th>\n",
       "      <th>mb_per_month_included</th>\n",
       "      <th>minutes_included</th>\n",
       "      <th>usd_monthly_pay</th>\n",
       "      <th>usd_per_gb</th>\n",
       "      <th>usd_per_message</th>\n",
       "      <th>usd_per_minute</th>\n",
       "      <th>gb_per_month_included</th>\n",
       "    </tr>\n",
       "  </thead>\n",
       "  <tbody>\n",
       "    <tr>\n",
       "      <th>0</th>\n",
       "      <td>1000</td>\n",
       "      <td>12</td>\n",
       "      <td>124.0</td>\n",
       "      <td>11.0</td>\n",
       "      <td>2.0</td>\n",
       "      <td>Anamaria</td>\n",
       "      <td>Bauer</td>\n",
       "      <td>45</td>\n",
       "      <td>Atlanta-Sandy Springs-Roswell, GA MSA</td>\n",
       "      <td>2018-12-24</td>\n",
       "      <td>ultimate</td>\n",
       "      <td>NaT</td>\n",
       "      <td>1000</td>\n",
       "      <td>30720</td>\n",
       "      <td>3000</td>\n",
       "      <td>70</td>\n",
       "      <td>7</td>\n",
       "      <td>0.01</td>\n",
       "      <td>0.01</td>\n",
       "      <td>30</td>\n",
       "    </tr>\n",
       "    <tr>\n",
       "      <th>1</th>\n",
       "      <td>1001</td>\n",
       "      <td>8</td>\n",
       "      <td>182.0</td>\n",
       "      <td>30.0</td>\n",
       "      <td>7.0</td>\n",
       "      <td>Mickey</td>\n",
       "      <td>Wilkerson</td>\n",
       "      <td>28</td>\n",
       "      <td>Seattle-Tacoma-Bellevue, WA MSA</td>\n",
       "      <td>2018-08-13</td>\n",
       "      <td>surf</td>\n",
       "      <td>NaT</td>\n",
       "      <td>50</td>\n",
       "      <td>15360</td>\n",
       "      <td>500</td>\n",
       "      <td>20</td>\n",
       "      <td>10</td>\n",
       "      <td>0.03</td>\n",
       "      <td>0.03</td>\n",
       "      <td>15</td>\n",
       "    </tr>\n",
       "    <tr>\n",
       "      <th>2</th>\n",
       "      <td>1001</td>\n",
       "      <td>9</td>\n",
       "      <td>315.0</td>\n",
       "      <td>44.0</td>\n",
       "      <td>14.0</td>\n",
       "      <td>Mickey</td>\n",
       "      <td>Wilkerson</td>\n",
       "      <td>28</td>\n",
       "      <td>Seattle-Tacoma-Bellevue, WA MSA</td>\n",
       "      <td>2018-08-13</td>\n",
       "      <td>surf</td>\n",
       "      <td>NaT</td>\n",
       "      <td>50</td>\n",
       "      <td>15360</td>\n",
       "      <td>500</td>\n",
       "      <td>20</td>\n",
       "      <td>10</td>\n",
       "      <td>0.03</td>\n",
       "      <td>0.03</td>\n",
       "      <td>15</td>\n",
       "    </tr>\n",
       "    <tr>\n",
       "      <th>3</th>\n",
       "      <td>1001</td>\n",
       "      <td>10</td>\n",
       "      <td>393.0</td>\n",
       "      <td>53.0</td>\n",
       "      <td>22.0</td>\n",
       "      <td>Mickey</td>\n",
       "      <td>Wilkerson</td>\n",
       "      <td>28</td>\n",
       "      <td>Seattle-Tacoma-Bellevue, WA MSA</td>\n",
       "      <td>2018-08-13</td>\n",
       "      <td>surf</td>\n",
       "      <td>NaT</td>\n",
       "      <td>50</td>\n",
       "      <td>15360</td>\n",
       "      <td>500</td>\n",
       "      <td>20</td>\n",
       "      <td>10</td>\n",
       "      <td>0.03</td>\n",
       "      <td>0.03</td>\n",
       "      <td>15</td>\n",
       "    </tr>\n",
       "    <tr>\n",
       "      <th>4</th>\n",
       "      <td>1001</td>\n",
       "      <td>11</td>\n",
       "      <td>426.0</td>\n",
       "      <td>36.0</td>\n",
       "      <td>19.0</td>\n",
       "      <td>Mickey</td>\n",
       "      <td>Wilkerson</td>\n",
       "      <td>28</td>\n",
       "      <td>Seattle-Tacoma-Bellevue, WA MSA</td>\n",
       "      <td>2018-08-13</td>\n",
       "      <td>surf</td>\n",
       "      <td>NaT</td>\n",
       "      <td>50</td>\n",
       "      <td>15360</td>\n",
       "      <td>500</td>\n",
       "      <td>20</td>\n",
       "      <td>10</td>\n",
       "      <td>0.03</td>\n",
       "      <td>0.03</td>\n",
       "      <td>15</td>\n",
       "    </tr>\n",
       "    <tr>\n",
       "      <th>...</th>\n",
       "      <td>...</td>\n",
       "      <td>...</td>\n",
       "      <td>...</td>\n",
       "      <td>...</td>\n",
       "      <td>...</td>\n",
       "      <td>...</td>\n",
       "      <td>...</td>\n",
       "      <td>...</td>\n",
       "      <td>...</td>\n",
       "      <td>...</td>\n",
       "      <td>...</td>\n",
       "      <td>...</td>\n",
       "      <td>...</td>\n",
       "      <td>...</td>\n",
       "      <td>...</td>\n",
       "      <td>...</td>\n",
       "      <td>...</td>\n",
       "      <td>...</td>\n",
       "      <td>...</td>\n",
       "      <td>...</td>\n",
       "    </tr>\n",
       "    <tr>\n",
       "      <th>2288</th>\n",
       "      <td>1204</td>\n",
       "      <td>12</td>\n",
       "      <td>NaN</td>\n",
       "      <td>78.0</td>\n",
       "      <td>36.0</td>\n",
       "      <td>Sherly</td>\n",
       "      <td>Levy</td>\n",
       "      <td>44</td>\n",
       "      <td>Chicago-Naperville-Elgin, IL-IN-WI MSA</td>\n",
       "      <td>2018-08-20</td>\n",
       "      <td>ultimate</td>\n",
       "      <td>NaT</td>\n",
       "      <td>1000</td>\n",
       "      <td>30720</td>\n",
       "      <td>3000</td>\n",
       "      <td>70</td>\n",
       "      <td>7</td>\n",
       "      <td>0.01</td>\n",
       "      <td>0.01</td>\n",
       "      <td>30</td>\n",
       "    </tr>\n",
       "    <tr>\n",
       "      <th>2289</th>\n",
       "      <td>1349</td>\n",
       "      <td>10</td>\n",
       "      <td>NaN</td>\n",
       "      <td>76.0</td>\n",
       "      <td>13.0</td>\n",
       "      <td>Florentina</td>\n",
       "      <td>Diaz</td>\n",
       "      <td>69</td>\n",
       "      <td>Boston-Cambridge-Newton, MA-NH MSA</td>\n",
       "      <td>2018-10-01</td>\n",
       "      <td>surf</td>\n",
       "      <td>NaT</td>\n",
       "      <td>50</td>\n",
       "      <td>15360</td>\n",
       "      <td>500</td>\n",
       "      <td>20</td>\n",
       "      <td>10</td>\n",
       "      <td>0.03</td>\n",
       "      <td>0.03</td>\n",
       "      <td>15</td>\n",
       "    </tr>\n",
       "    <tr>\n",
       "      <th>2290</th>\n",
       "      <td>1349</td>\n",
       "      <td>11</td>\n",
       "      <td>NaN</td>\n",
       "      <td>72.0</td>\n",
       "      <td>17.0</td>\n",
       "      <td>Florentina</td>\n",
       "      <td>Diaz</td>\n",
       "      <td>69</td>\n",
       "      <td>Boston-Cambridge-Newton, MA-NH MSA</td>\n",
       "      <td>2018-10-01</td>\n",
       "      <td>surf</td>\n",
       "      <td>NaT</td>\n",
       "      <td>50</td>\n",
       "      <td>15360</td>\n",
       "      <td>500</td>\n",
       "      <td>20</td>\n",
       "      <td>10</td>\n",
       "      <td>0.03</td>\n",
       "      <td>0.03</td>\n",
       "      <td>15</td>\n",
       "    </tr>\n",
       "    <tr>\n",
       "      <th>2291</th>\n",
       "      <td>1349</td>\n",
       "      <td>12</td>\n",
       "      <td>NaN</td>\n",
       "      <td>61.0</td>\n",
       "      <td>13.0</td>\n",
       "      <td>Florentina</td>\n",
       "      <td>Diaz</td>\n",
       "      <td>69</td>\n",
       "      <td>Boston-Cambridge-Newton, MA-NH MSA</td>\n",
       "      <td>2018-10-01</td>\n",
       "      <td>surf</td>\n",
       "      <td>NaT</td>\n",
       "      <td>50</td>\n",
       "      <td>15360</td>\n",
       "      <td>500</td>\n",
       "      <td>20</td>\n",
       "      <td>10</td>\n",
       "      <td>0.03</td>\n",
       "      <td>0.03</td>\n",
       "      <td>15</td>\n",
       "    </tr>\n",
       "    <tr>\n",
       "      <th>2292</th>\n",
       "      <td>1108</td>\n",
       "      <td>12</td>\n",
       "      <td>NaN</td>\n",
       "      <td>NaN</td>\n",
       "      <td>1.0</td>\n",
       "      <td>Porfirio</td>\n",
       "      <td>Kane</td>\n",
       "      <td>45</td>\n",
       "      <td>Salt Lake City, UT MSA</td>\n",
       "      <td>2018-12-30</td>\n",
       "      <td>ultimate</td>\n",
       "      <td>NaT</td>\n",
       "      <td>1000</td>\n",
       "      <td>30720</td>\n",
       "      <td>3000</td>\n",
       "      <td>70</td>\n",
       "      <td>7</td>\n",
       "      <td>0.01</td>\n",
       "      <td>0.01</td>\n",
       "      <td>30</td>\n",
       "    </tr>\n",
       "  </tbody>\n",
       "</table>\n",
       "<p>2293 rows × 20 columns</p>\n",
       "</div>"
      ],
      "text/plain": [
       "      user_id  month  total_duration  total_messages  gb_used_month  \\\n",
       "0        1000     12           124.0            11.0            2.0   \n",
       "1        1001      8           182.0            30.0            7.0   \n",
       "2        1001      9           315.0            44.0           14.0   \n",
       "3        1001     10           393.0            53.0           22.0   \n",
       "4        1001     11           426.0            36.0           19.0   \n",
       "...       ...    ...             ...             ...            ...   \n",
       "2288     1204     12             NaN            78.0           36.0   \n",
       "2289     1349     10             NaN            76.0           13.0   \n",
       "2290     1349     11             NaN            72.0           17.0   \n",
       "2291     1349     12             NaN            61.0           13.0   \n",
       "2292     1108     12             NaN             NaN            1.0   \n",
       "\n",
       "      first_name  last_name  age                                    city  \\\n",
       "0       Anamaria      Bauer   45   Atlanta-Sandy Springs-Roswell, GA MSA   \n",
       "1         Mickey  Wilkerson   28         Seattle-Tacoma-Bellevue, WA MSA   \n",
       "2         Mickey  Wilkerson   28         Seattle-Tacoma-Bellevue, WA MSA   \n",
       "3         Mickey  Wilkerson   28         Seattle-Tacoma-Bellevue, WA MSA   \n",
       "4         Mickey  Wilkerson   28         Seattle-Tacoma-Bellevue, WA MSA   \n",
       "...          ...        ...  ...                                     ...   \n",
       "2288      Sherly       Levy   44  Chicago-Naperville-Elgin, IL-IN-WI MSA   \n",
       "2289  Florentina       Diaz   69      Boston-Cambridge-Newton, MA-NH MSA   \n",
       "2290  Florentina       Diaz   69      Boston-Cambridge-Newton, MA-NH MSA   \n",
       "2291  Florentina       Diaz   69      Boston-Cambridge-Newton, MA-NH MSA   \n",
       "2292    Porfirio       Kane   45                  Salt Lake City, UT MSA   \n",
       "\n",
       "       reg_date plan_name churn_date  messages_included  \\\n",
       "0    2018-12-24  ultimate        NaT               1000   \n",
       "1    2018-08-13      surf        NaT                 50   \n",
       "2    2018-08-13      surf        NaT                 50   \n",
       "3    2018-08-13      surf        NaT                 50   \n",
       "4    2018-08-13      surf        NaT                 50   \n",
       "...         ...       ...        ...                ...   \n",
       "2288 2018-08-20  ultimate        NaT               1000   \n",
       "2289 2018-10-01      surf        NaT                 50   \n",
       "2290 2018-10-01      surf        NaT                 50   \n",
       "2291 2018-10-01      surf        NaT                 50   \n",
       "2292 2018-12-30  ultimate        NaT               1000   \n",
       "\n",
       "      mb_per_month_included  minutes_included  usd_monthly_pay  usd_per_gb  \\\n",
       "0                     30720              3000               70           7   \n",
       "1                     15360               500               20          10   \n",
       "2                     15360               500               20          10   \n",
       "3                     15360               500               20          10   \n",
       "4                     15360               500               20          10   \n",
       "...                     ...               ...              ...         ...   \n",
       "2288                  30720              3000               70           7   \n",
       "2289                  15360               500               20          10   \n",
       "2290                  15360               500               20          10   \n",
       "2291                  15360               500               20          10   \n",
       "2292                  30720              3000               70           7   \n",
       "\n",
       "      usd_per_message  usd_per_minute  gb_per_month_included  \n",
       "0                0.01            0.01                     30  \n",
       "1                0.03            0.03                     15  \n",
       "2                0.03            0.03                     15  \n",
       "3                0.03            0.03                     15  \n",
       "4                0.03            0.03                     15  \n",
       "...               ...             ...                    ...  \n",
       "2288             0.01            0.01                     30  \n",
       "2289             0.03            0.03                     15  \n",
       "2290             0.03            0.03                     15  \n",
       "2291             0.03            0.03                     15  \n",
       "2292             0.01            0.01                     30  \n",
       "\n",
       "[2293 rows x 20 columns]"
      ]
     },
     "execution_count": 28,
     "metadata": {},
     "output_type": "execute_result"
    }
   ],
   "source": [
    "# Añade la información de la tarifa\n",
    "users_plan= df_users.merge(df_plans,on= 'plan_name', how='outer')\n",
    "users_total = users_consum.merge(users_plan, on= 'user_id')\n",
    "users_total"
   ]
  },
  {
   "cell_type": "code",
   "execution_count": 29,
   "metadata": {
    "id": "5FGCf_c60q1I",
    "trusted": false
   },
   "outputs": [
    {
     "data": {
      "text/html": [
       "<div>\n",
       "<style scoped>\n",
       "    .dataframe tbody tr th:only-of-type {\n",
       "        vertical-align: middle;\n",
       "    }\n",
       "\n",
       "    .dataframe tbody tr th {\n",
       "        vertical-align: top;\n",
       "    }\n",
       "\n",
       "    .dataframe thead th {\n",
       "        text-align: right;\n",
       "    }\n",
       "</style>\n",
       "<table border=\"1\" class=\"dataframe\">\n",
       "  <thead>\n",
       "    <tr style=\"text-align: right;\">\n",
       "      <th></th>\n",
       "      <th>user_id</th>\n",
       "      <th>month</th>\n",
       "      <th>total_duration</th>\n",
       "      <th>total_messages</th>\n",
       "      <th>gb_used_month</th>\n",
       "      <th>first_name</th>\n",
       "      <th>last_name</th>\n",
       "      <th>age</th>\n",
       "      <th>city</th>\n",
       "      <th>reg_date</th>\n",
       "      <th>...</th>\n",
       "      <th>usd_per_gb</th>\n",
       "      <th>usd_per_message</th>\n",
       "      <th>usd_per_minute</th>\n",
       "      <th>gb_per_month_included</th>\n",
       "      <th>minutes_charge</th>\n",
       "      <th>price_minutes</th>\n",
       "      <th>messages_charge</th>\n",
       "      <th>price_messages</th>\n",
       "      <th>internet_charge</th>\n",
       "      <th>price_internet</th>\n",
       "    </tr>\n",
       "  </thead>\n",
       "  <tbody>\n",
       "    <tr>\n",
       "      <th>0</th>\n",
       "      <td>1000</td>\n",
       "      <td>12</td>\n",
       "      <td>124.0</td>\n",
       "      <td>11.0</td>\n",
       "      <td>2.0</td>\n",
       "      <td>Anamaria</td>\n",
       "      <td>Bauer</td>\n",
       "      <td>45</td>\n",
       "      <td>Atlanta-Sandy Springs-Roswell, GA MSA</td>\n",
       "      <td>2018-12-24</td>\n",
       "      <td>...</td>\n",
       "      <td>7</td>\n",
       "      <td>0.01</td>\n",
       "      <td>0.01</td>\n",
       "      <td>30</td>\n",
       "      <td>0.0</td>\n",
       "      <td>0.0</td>\n",
       "      <td>0.0</td>\n",
       "      <td>0.00</td>\n",
       "      <td>0.0</td>\n",
       "      <td>0.0</td>\n",
       "    </tr>\n",
       "    <tr>\n",
       "      <th>1</th>\n",
       "      <td>1001</td>\n",
       "      <td>8</td>\n",
       "      <td>182.0</td>\n",
       "      <td>30.0</td>\n",
       "      <td>7.0</td>\n",
       "      <td>Mickey</td>\n",
       "      <td>Wilkerson</td>\n",
       "      <td>28</td>\n",
       "      <td>Seattle-Tacoma-Bellevue, WA MSA</td>\n",
       "      <td>2018-08-13</td>\n",
       "      <td>...</td>\n",
       "      <td>10</td>\n",
       "      <td>0.03</td>\n",
       "      <td>0.03</td>\n",
       "      <td>15</td>\n",
       "      <td>0.0</td>\n",
       "      <td>0.0</td>\n",
       "      <td>0.0</td>\n",
       "      <td>0.00</td>\n",
       "      <td>0.0</td>\n",
       "      <td>0.0</td>\n",
       "    </tr>\n",
       "    <tr>\n",
       "      <th>2</th>\n",
       "      <td>1001</td>\n",
       "      <td>9</td>\n",
       "      <td>315.0</td>\n",
       "      <td>44.0</td>\n",
       "      <td>14.0</td>\n",
       "      <td>Mickey</td>\n",
       "      <td>Wilkerson</td>\n",
       "      <td>28</td>\n",
       "      <td>Seattle-Tacoma-Bellevue, WA MSA</td>\n",
       "      <td>2018-08-13</td>\n",
       "      <td>...</td>\n",
       "      <td>10</td>\n",
       "      <td>0.03</td>\n",
       "      <td>0.03</td>\n",
       "      <td>15</td>\n",
       "      <td>0.0</td>\n",
       "      <td>0.0</td>\n",
       "      <td>0.0</td>\n",
       "      <td>0.00</td>\n",
       "      <td>0.0</td>\n",
       "      <td>0.0</td>\n",
       "    </tr>\n",
       "    <tr>\n",
       "      <th>3</th>\n",
       "      <td>1001</td>\n",
       "      <td>10</td>\n",
       "      <td>393.0</td>\n",
       "      <td>53.0</td>\n",
       "      <td>22.0</td>\n",
       "      <td>Mickey</td>\n",
       "      <td>Wilkerson</td>\n",
       "      <td>28</td>\n",
       "      <td>Seattle-Tacoma-Bellevue, WA MSA</td>\n",
       "      <td>2018-08-13</td>\n",
       "      <td>...</td>\n",
       "      <td>10</td>\n",
       "      <td>0.03</td>\n",
       "      <td>0.03</td>\n",
       "      <td>15</td>\n",
       "      <td>0.0</td>\n",
       "      <td>0.0</td>\n",
       "      <td>3.0</td>\n",
       "      <td>0.09</td>\n",
       "      <td>7.0</td>\n",
       "      <td>70.0</td>\n",
       "    </tr>\n",
       "    <tr>\n",
       "      <th>4</th>\n",
       "      <td>1001</td>\n",
       "      <td>11</td>\n",
       "      <td>426.0</td>\n",
       "      <td>36.0</td>\n",
       "      <td>19.0</td>\n",
       "      <td>Mickey</td>\n",
       "      <td>Wilkerson</td>\n",
       "      <td>28</td>\n",
       "      <td>Seattle-Tacoma-Bellevue, WA MSA</td>\n",
       "      <td>2018-08-13</td>\n",
       "      <td>...</td>\n",
       "      <td>10</td>\n",
       "      <td>0.03</td>\n",
       "      <td>0.03</td>\n",
       "      <td>15</td>\n",
       "      <td>0.0</td>\n",
       "      <td>0.0</td>\n",
       "      <td>0.0</td>\n",
       "      <td>0.00</td>\n",
       "      <td>4.0</td>\n",
       "      <td>40.0</td>\n",
       "    </tr>\n",
       "  </tbody>\n",
       "</table>\n",
       "<p>5 rows × 26 columns</p>\n",
       "</div>"
      ],
      "text/plain": [
       "   user_id  month  total_duration  total_messages  gb_used_month first_name  \\\n",
       "0     1000     12           124.0            11.0            2.0   Anamaria   \n",
       "1     1001      8           182.0            30.0            7.0     Mickey   \n",
       "2     1001      9           315.0            44.0           14.0     Mickey   \n",
       "3     1001     10           393.0            53.0           22.0     Mickey   \n",
       "4     1001     11           426.0            36.0           19.0     Mickey   \n",
       "\n",
       "   last_name  age                                   city   reg_date  ...  \\\n",
       "0      Bauer   45  Atlanta-Sandy Springs-Roswell, GA MSA 2018-12-24  ...   \n",
       "1  Wilkerson   28        Seattle-Tacoma-Bellevue, WA MSA 2018-08-13  ...   \n",
       "2  Wilkerson   28        Seattle-Tacoma-Bellevue, WA MSA 2018-08-13  ...   \n",
       "3  Wilkerson   28        Seattle-Tacoma-Bellevue, WA MSA 2018-08-13  ...   \n",
       "4  Wilkerson   28        Seattle-Tacoma-Bellevue, WA MSA 2018-08-13  ...   \n",
       "\n",
       "  usd_per_gb usd_per_message  usd_per_minute  gb_per_month_included  \\\n",
       "0          7            0.01            0.01                     30   \n",
       "1         10            0.03            0.03                     15   \n",
       "2         10            0.03            0.03                     15   \n",
       "3         10            0.03            0.03                     15   \n",
       "4         10            0.03            0.03                     15   \n",
       "\n",
       "   minutes_charge  price_minutes  messages_charge  price_messages  \\\n",
       "0             0.0            0.0              0.0            0.00   \n",
       "1             0.0            0.0              0.0            0.00   \n",
       "2             0.0            0.0              0.0            0.00   \n",
       "3             0.0            0.0              3.0            0.09   \n",
       "4             0.0            0.0              0.0            0.00   \n",
       "\n",
       "   internet_charge  price_internet  \n",
       "0              0.0             0.0  \n",
       "1              0.0             0.0  \n",
       "2              0.0             0.0  \n",
       "3              7.0            70.0  \n",
       "4              4.0            40.0  \n",
       "\n",
       "[5 rows x 26 columns]"
      ]
     },
     "execution_count": 29,
     "metadata": {},
     "output_type": "execute_result"
    }
   ],
   "source": [
    "# Calcula el ingreso mensual para cada usuario\n",
    "# Llamadas\n",
    "users_total['minutes_charge']= users_total['total_duration'] - users_total['minutes_included']\n",
    "users_total['minutes_charge']= users_total['minutes_charge'].clip(lower=0)\n",
    "users_total['price_minutes']=users_total['minutes_charge']* users_total['usd_per_minute']\n",
    "users_total['price_minutes']\n",
    "#Mensajes\n",
    "users_total['messages_charge']= users_total['total_messages'] - users_total['messages_included']\n",
    "users_total['messages_charge']= users_total['messages_charge'].clip(lower=0)\n",
    "users_total['price_messages']=users_total['messages_charge']* users_total['usd_per_message']\n",
    "users_total['price_messages']\n",
    "#Internet\n",
    "\n",
    "users_total['internet_charge']= users_total['gb_used_month'] - users_total['gb_per_month_included']\n",
    "users_total['internet_charge']= users_total['internet_charge'].clip(lower=0)\n",
    "users_total['price_internet']=users_total['internet_charge']* users_total['usd_per_gb']\n",
    "users_total['price_internet']\n",
    "\n",
    "users_total.head()"
   ]
  },
  {
   "cell_type": "code",
   "execution_count": 30,
   "metadata": {
    "scrolled": false,
    "trusted": false
   },
   "outputs": [
    {
     "data": {
      "text/html": [
       "<div>\n",
       "<style scoped>\n",
       "    .dataframe tbody tr th:only-of-type {\n",
       "        vertical-align: middle;\n",
       "    }\n",
       "\n",
       "    .dataframe tbody tr th {\n",
       "        vertical-align: top;\n",
       "    }\n",
       "\n",
       "    .dataframe thead th {\n",
       "        text-align: right;\n",
       "    }\n",
       "</style>\n",
       "<table border=\"1\" class=\"dataframe\">\n",
       "  <thead>\n",
       "    <tr style=\"text-align: right;\">\n",
       "      <th></th>\n",
       "      <th>user_id</th>\n",
       "      <th>month</th>\n",
       "      <th>total_duration</th>\n",
       "      <th>total_messages</th>\n",
       "      <th>gb_used_month</th>\n",
       "      <th>first_name</th>\n",
       "      <th>last_name</th>\n",
       "      <th>age</th>\n",
       "      <th>city</th>\n",
       "      <th>reg_date</th>\n",
       "      <th>...</th>\n",
       "      <th>usd_per_message</th>\n",
       "      <th>usd_per_minute</th>\n",
       "      <th>gb_per_month_included</th>\n",
       "      <th>minutes_charge</th>\n",
       "      <th>price_minutes</th>\n",
       "      <th>messages_charge</th>\n",
       "      <th>price_messages</th>\n",
       "      <th>internet_charge</th>\n",
       "      <th>price_internet</th>\n",
       "      <th>total_price</th>\n",
       "    </tr>\n",
       "  </thead>\n",
       "  <tbody>\n",
       "    <tr>\n",
       "      <th>0</th>\n",
       "      <td>1000</td>\n",
       "      <td>12</td>\n",
       "      <td>124.0</td>\n",
       "      <td>11.0</td>\n",
       "      <td>2.0</td>\n",
       "      <td>Anamaria</td>\n",
       "      <td>Bauer</td>\n",
       "      <td>45</td>\n",
       "      <td>Atlanta-Sandy Springs-Roswell, GA MSA</td>\n",
       "      <td>2018-12-24</td>\n",
       "      <td>...</td>\n",
       "      <td>0.01</td>\n",
       "      <td>0.01</td>\n",
       "      <td>30</td>\n",
       "      <td>0.0</td>\n",
       "      <td>0.0</td>\n",
       "      <td>0.0</td>\n",
       "      <td>0.00</td>\n",
       "      <td>0.0</td>\n",
       "      <td>0.0</td>\n",
       "      <td>70.00</td>\n",
       "    </tr>\n",
       "    <tr>\n",
       "      <th>1</th>\n",
       "      <td>1001</td>\n",
       "      <td>8</td>\n",
       "      <td>182.0</td>\n",
       "      <td>30.0</td>\n",
       "      <td>7.0</td>\n",
       "      <td>Mickey</td>\n",
       "      <td>Wilkerson</td>\n",
       "      <td>28</td>\n",
       "      <td>Seattle-Tacoma-Bellevue, WA MSA</td>\n",
       "      <td>2018-08-13</td>\n",
       "      <td>...</td>\n",
       "      <td>0.03</td>\n",
       "      <td>0.03</td>\n",
       "      <td>15</td>\n",
       "      <td>0.0</td>\n",
       "      <td>0.0</td>\n",
       "      <td>0.0</td>\n",
       "      <td>0.00</td>\n",
       "      <td>0.0</td>\n",
       "      <td>0.0</td>\n",
       "      <td>20.00</td>\n",
       "    </tr>\n",
       "    <tr>\n",
       "      <th>2</th>\n",
       "      <td>1001</td>\n",
       "      <td>9</td>\n",
       "      <td>315.0</td>\n",
       "      <td>44.0</td>\n",
       "      <td>14.0</td>\n",
       "      <td>Mickey</td>\n",
       "      <td>Wilkerson</td>\n",
       "      <td>28</td>\n",
       "      <td>Seattle-Tacoma-Bellevue, WA MSA</td>\n",
       "      <td>2018-08-13</td>\n",
       "      <td>...</td>\n",
       "      <td>0.03</td>\n",
       "      <td>0.03</td>\n",
       "      <td>15</td>\n",
       "      <td>0.0</td>\n",
       "      <td>0.0</td>\n",
       "      <td>0.0</td>\n",
       "      <td>0.00</td>\n",
       "      <td>0.0</td>\n",
       "      <td>0.0</td>\n",
       "      <td>20.00</td>\n",
       "    </tr>\n",
       "    <tr>\n",
       "      <th>3</th>\n",
       "      <td>1001</td>\n",
       "      <td>10</td>\n",
       "      <td>393.0</td>\n",
       "      <td>53.0</td>\n",
       "      <td>22.0</td>\n",
       "      <td>Mickey</td>\n",
       "      <td>Wilkerson</td>\n",
       "      <td>28</td>\n",
       "      <td>Seattle-Tacoma-Bellevue, WA MSA</td>\n",
       "      <td>2018-08-13</td>\n",
       "      <td>...</td>\n",
       "      <td>0.03</td>\n",
       "      <td>0.03</td>\n",
       "      <td>15</td>\n",
       "      <td>0.0</td>\n",
       "      <td>0.0</td>\n",
       "      <td>3.0</td>\n",
       "      <td>0.09</td>\n",
       "      <td>7.0</td>\n",
       "      <td>70.0</td>\n",
       "      <td>90.09</td>\n",
       "    </tr>\n",
       "    <tr>\n",
       "      <th>4</th>\n",
       "      <td>1001</td>\n",
       "      <td>11</td>\n",
       "      <td>426.0</td>\n",
       "      <td>36.0</td>\n",
       "      <td>19.0</td>\n",
       "      <td>Mickey</td>\n",
       "      <td>Wilkerson</td>\n",
       "      <td>28</td>\n",
       "      <td>Seattle-Tacoma-Bellevue, WA MSA</td>\n",
       "      <td>2018-08-13</td>\n",
       "      <td>...</td>\n",
       "      <td>0.03</td>\n",
       "      <td>0.03</td>\n",
       "      <td>15</td>\n",
       "      <td>0.0</td>\n",
       "      <td>0.0</td>\n",
       "      <td>0.0</td>\n",
       "      <td>0.00</td>\n",
       "      <td>4.0</td>\n",
       "      <td>40.0</td>\n",
       "      <td>60.00</td>\n",
       "    </tr>\n",
       "  </tbody>\n",
       "</table>\n",
       "<p>5 rows × 27 columns</p>\n",
       "</div>"
      ],
      "text/plain": [
       "   user_id  month  total_duration  total_messages  gb_used_month first_name  \\\n",
       "0     1000     12           124.0            11.0            2.0   Anamaria   \n",
       "1     1001      8           182.0            30.0            7.0     Mickey   \n",
       "2     1001      9           315.0            44.0           14.0     Mickey   \n",
       "3     1001     10           393.0            53.0           22.0     Mickey   \n",
       "4     1001     11           426.0            36.0           19.0     Mickey   \n",
       "\n",
       "   last_name  age                                   city   reg_date  ...  \\\n",
       "0      Bauer   45  Atlanta-Sandy Springs-Roswell, GA MSA 2018-12-24  ...   \n",
       "1  Wilkerson   28        Seattle-Tacoma-Bellevue, WA MSA 2018-08-13  ...   \n",
       "2  Wilkerson   28        Seattle-Tacoma-Bellevue, WA MSA 2018-08-13  ...   \n",
       "3  Wilkerson   28        Seattle-Tacoma-Bellevue, WA MSA 2018-08-13  ...   \n",
       "4  Wilkerson   28        Seattle-Tacoma-Bellevue, WA MSA 2018-08-13  ...   \n",
       "\n",
       "  usd_per_message usd_per_minute  gb_per_month_included  minutes_charge  \\\n",
       "0            0.01           0.01                     30             0.0   \n",
       "1            0.03           0.03                     15             0.0   \n",
       "2            0.03           0.03                     15             0.0   \n",
       "3            0.03           0.03                     15             0.0   \n",
       "4            0.03           0.03                     15             0.0   \n",
       "\n",
       "   price_minutes  messages_charge  price_messages  internet_charge  \\\n",
       "0            0.0              0.0            0.00              0.0   \n",
       "1            0.0              0.0            0.00              0.0   \n",
       "2            0.0              0.0            0.00              0.0   \n",
       "3            0.0              3.0            0.09              7.0   \n",
       "4            0.0              0.0            0.00              4.0   \n",
       "\n",
       "   price_internet  total_price  \n",
       "0             0.0        70.00  \n",
       "1             0.0        20.00  \n",
       "2             0.0        20.00  \n",
       "3            70.0        90.09  \n",
       "4            40.0        60.00  \n",
       "\n",
       "[5 rows x 27 columns]"
      ]
     },
     "execution_count": 30,
     "metadata": {},
     "output_type": "execute_result"
    }
   ],
   "source": [
    "users_total['total_price']= users_total['price_internet'] + users_total['price_messages'] + users_total['price_minutes'] + users_total['usd_monthly_pay']\n",
    "users_total.head()"
   ]
  },
  {
   "cell_type": "markdown",
   "metadata": {},
   "source": [
    "<div class=\"alert alert-block alert-success\">\n",
    "<b>Comentario del revisor</b> <a class=\"tocSkip\"></a><br />\n",
    "\n",
    "Buena manera de agregar los datos por usuario, ahora tenemos columnas extras que nos ayudarán con el analisis posterior\n",
    "</div>\n"
   ]
  },
  {
   "cell_type": "markdown",
   "metadata": {
    "id": "-jtyHzJb0q1I"
   },
   "source": [
    "## Estudia el comportamiento de usuario"
   ]
  },
  {
   "cell_type": "markdown",
   "metadata": {
    "id": "AxU3Y0N70q1J"
   },
   "source": [
    "[Calcula algunas estadísticas descriptivas para los datos agregados y fusionados que nos sean útiles y que muestren un panorama general captado por los datos. Dibuja gráficos útiles para facilitar la comprensión. Dado que la tarea principal es comparar las tarifas y decidir cuál es más rentable, las estadísticas y gráficas deben calcularse por tarifa.]\n",
    "\n",
    "[En los comentarios hallarás pistas relevantes para las llamadas, pero no las hay para los mensajes e Internet. Sin embargo, el principio del estudio estadístico que se aplica para ellos es el mismo que para las llamadas.]"
   ]
  },
  {
   "cell_type": "markdown",
   "metadata": {
    "id": "vtW4CJEe0q1J"
   },
   "source": [
    "### Llamadas"
   ]
  },
  {
   "cell_type": "code",
   "execution_count": 31,
   "metadata": {
    "id": "Jf5v5--k0q1J",
    "trusted": false
   },
   "outputs": [
    {
     "data": {
      "image/png": "[encoded data removed]",
      "text/plain": [
       "<Figure size 640x480 with 1 Axes>"
      ]
     },
     "metadata": {},
     "output_type": "display_data"
    }
   ],
   "source": [
    "# Compara la duración promedio de llamadas por cada plan y por cada mes. Traza un gráfico de barras para visualizarla.\n",
    "\n",
    "avg_duration = users_total.groupby(['plan_name', 'month'])['total_duration'].mean().reset_index()\n",
    "\n",
    "sns.barplot(data= avg_duration, x='month', y='total_duration', hue='plan_name', palette=['cyan', 'moccasin'])\n",
    "\n",
    "plt.title('Duración promedio de llamadas por mes y por plan')\n",
    "plt.xlabel('Mes')\n",
    "plt.ylabel('Duración promedio (minutos)')\n",
    "plt.legend(title='Plan', bbox_to_anchor=(1, 1))\n",
    "\n",
    "plt.show()"
   ]
  },
  {
   "cell_type": "markdown",
   "metadata": {},
   "source": [
    "<div class=\"alert alert-block alert-success\">\n",
    "<b>Comentario del revisor</b> <a class=\"tocSkip\"></a><br />\n",
    "Correcto!<br/>\n",
    "\n",
    "Buena manera de mostrar los datos, se puede ver claramente las tendencias de cada uno de los planes\n",
    "</div>\n"
   ]
  },
  {
   "cell_type": "code",
   "execution_count": 32,
   "metadata": {
    "trusted": false
   },
   "outputs": [
    {
     "name": "stdout",
     "output_type": "stream",
     "text": [
      "0\n",
      "['ultimate' 'surf']\n"
     ]
    }
   ],
   "source": [
    "print(users_total['plan_name'].isnull().sum())\n",
    "print(users_total['plan_name'].unique())"
   ]
  },
  {
   "cell_type": "code",
   "execution_count": 33,
   "metadata": {
    "id": "QoLqW1S_0q1J",
    "trusted": false
   },
   "outputs": [
    {
     "data": {
      "image/png": "[encoded data removed]",
      "text/plain": [
       "<Figure size 640x480 with 1 Axes>"
      ]
     },
     "metadata": {},
     "output_type": "display_data"
    }
   ],
   "source": [
    "# Compara el número de minutos mensuales que necesitan los usuarios de cada plan. Traza un histograma.\n",
    "\n",
    "\n",
    "sns.histplot(data = users_total, x='total_duration', hue='plan_name', \n",
    "             bins=30,\n",
    "             multiple='stack',\n",
    "             palette=['moccasin','cyan'],\n",
    "            )\n",
    "\n",
    "plt.title('minutos mensuales que necesitan los usuarios de cada plan')\n",
    "plt.xlabel('Minutos totales por mes')\n",
    "plt.ylabel(' Cantidad de usuarios')\n",
    "plt.show()\n"
   ]
  },
  {
   "cell_type": "code",
   "execution_count": 34,
   "metadata": {
    "id": "oSndbAnt0q1K",
    "trusted": false
   },
   "outputs": [
    {
     "data": {
      "text/html": [
       "<div>\n",
       "<style scoped>\n",
       "    .dataframe tbody tr th:only-of-type {\n",
       "        vertical-align: middle;\n",
       "    }\n",
       "\n",
       "    .dataframe tbody tr th {\n",
       "        vertical-align: top;\n",
       "    }\n",
       "\n",
       "    .dataframe thead th {\n",
       "        text-align: right;\n",
       "    }\n",
       "</style>\n",
       "<table border=\"1\" class=\"dataframe\">\n",
       "  <thead>\n",
       "    <tr style=\"text-align: right;\">\n",
       "      <th></th>\n",
       "      <th>plan_name</th>\n",
       "      <th>month</th>\n",
       "      <th>mean</th>\n",
       "      <th>var</th>\n",
       "    </tr>\n",
       "  </thead>\n",
       "  <tbody>\n",
       "    <tr>\n",
       "      <th>0</th>\n",
       "      <td>surf</td>\n",
       "      <td>1</td>\n",
       "      <td>203.00</td>\n",
       "      <td>15842.000000</td>\n",
       "    </tr>\n",
       "    <tr>\n",
       "      <th>1</th>\n",
       "      <td>surf</td>\n",
       "      <td>2</td>\n",
       "      <td>297.00</td>\n",
       "      <td>52226.500000</td>\n",
       "    </tr>\n",
       "    <tr>\n",
       "      <th>2</th>\n",
       "      <td>surf</td>\n",
       "      <td>3</td>\n",
       "      <td>330.00</td>\n",
       "      <td>35809.363636</td>\n",
       "    </tr>\n",
       "    <tr>\n",
       "      <th>3</th>\n",
       "      <td>surf</td>\n",
       "      <td>4</td>\n",
       "      <td>351.54</td>\n",
       "      <td>50866.743265</td>\n",
       "    </tr>\n",
       "    <tr>\n",
       "      <th>4</th>\n",
       "      <td>surf</td>\n",
       "      <td>5</td>\n",
       "      <td>410.24</td>\n",
       "      <td>56938.779459</td>\n",
       "    </tr>\n",
       "  </tbody>\n",
       "</table>\n",
       "</div>"
      ],
      "text/plain": [
       "  plan_name  month    mean           var\n",
       "0      surf      1  203.00  15842.000000\n",
       "1      surf      2  297.00  52226.500000\n",
       "2      surf      3  330.00  35809.363636\n",
       "3      surf      4  351.54  50866.743265\n",
       "4      surf      5  410.24  56938.779459"
      ]
     },
     "execution_count": 34,
     "metadata": {},
     "output_type": "execute_result"
    }
   ],
   "source": [
    "# Calcula la media y la varianza de la duración mensual de llamadas.\n",
    "stats_by_plan = users_total.groupby(['plan_name','month'])['total_duration'].agg(['mean', 'var']).reset_index()\n",
    "stats_by_plan.head()"
   ]
  },
  {
   "cell_type": "code",
   "execution_count": 35,
   "metadata": {
    "id": "nZzoRUKc0q1K",
    "trusted": false
   },
   "outputs": [
    {
     "data": {
      "image/png": "[encoded data removed]",
      "text/plain": [
       "<Figure size 640x480 with 1 Axes>"
      ]
     },
     "metadata": {},
     "output_type": "display_data"
    }
   ],
   "source": [
    "# Traza un diagrama de caja para visualizar la distribución de la duración mensual de llamadas\n",
    "sns.boxplot(data=users_total, x='month', y='total_duration', hue='plan_name',\n",
    "            palette=['moccasin', 'cyan'])\n",
    "\n",
    "plt.legend(title='Plan')\n",
    "plt.ylabel('Total Minutes')\n",
    "plt.show()"
   ]
  },
  {
   "cell_type": "markdown",
   "metadata": {
    "id": "r627zBO50q1K"
   },
   "source": [
    "Al ver los datos y la grafica comparativa de los dos planes en lo referente a los minutos totales en llamadas, podemos concluir que el comportamiento de los usuarios no varia ni en cuanto al paso del tiempo, en este caso los meses, ni en función del plan contratado, ya que la media y los datos se encuentra aproximadamente en el mismo rango."
   ]
  },
  {
   "cell_type": "markdown",
   "metadata": {},
   "source": [
    "<div class=\"alert alert-block alert-success\">\n",
    "<b>Comentario del revisor</b> <a class=\"tocSkip\"></a><br />\n",
    "Bien hecho!<br/>\n",
    "\n",
    "Los diagramas de caja nos permiten ver la distribución de ambos conjuntos de datos de una manera clara\n",
    "\n",
    "</div>\n"
   ]
  },
  {
   "cell_type": "markdown",
   "metadata": {
    "id": "8idKy8Wh0q1L"
   },
   "source": [
    "### Mensajes"
   ]
  },
  {
   "cell_type": "code",
   "execution_count": 36,
   "metadata": {
    "id": "NXLxiTit0q1L",
    "trusted": false
   },
   "outputs": [
    {
     "data": {
      "image/png": "[encoded data removed]",
      "text/plain": [
       "<Figure size 640x480 with 1 Axes>"
      ]
     },
     "metadata": {},
     "output_type": "display_data"
    }
   ],
   "source": [
    "# Comprara el número de mensajes que tienden a enviar cada mes los usuarios de cada plan\n",
    "avg_messages = users_total.groupby(['plan_name', 'month'])['total_messages'].mean().reset_index()\n",
    "\n",
    "sns.barplot(data= avg_messages, x='month', y='total_messages', hue='plan_name', palette=['cyan', 'moccasin'])\n",
    "\n",
    "plt.title('promedio de mensajes por mes y por plan')\n",
    "plt.xlabel('Mes')\n",
    "plt.ylabel('Mensajes promedio')\n",
    "plt.legend(title='Plan', loc='upper left')\n",
    "\n",
    "plt.show()"
   ]
  },
  {
   "cell_type": "code",
   "execution_count": 37,
   "metadata": {
    "id": "GRI_R7xF0q1L",
    "trusted": false
   },
   "outputs": [
    {
     "data": {
      "image/png": "[encoded data removed]",
      "text/plain": [
       "<Figure size 640x480 with 1 Axes>"
      ]
     },
     "metadata": {},
     "output_type": "display_data"
    }
   ],
   "source": [
    "# Compara el número de mensajes mensuales que necesitan los usuarios de cada plan. Traza un histograma.\n",
    "\n",
    "\n",
    "sns.histplot(data = users_total, x='total_messages', hue='plan_name', \n",
    "             bins=30,\n",
    "             multiple='stack',\n",
    "             palette=['moccasin','cyan'],\n",
    "            )\n",
    "\n",
    "plt.title('Mensajes mensuales de cada plan')\n",
    "plt.xlabel('Mensajes totales por mes')\n",
    "plt.ylabel('Cantidad de usuarios')\n",
    "plt.show()\n"
   ]
  },
  {
   "cell_type": "code",
   "execution_count": 38,
   "metadata": {
    "id": "dtFwCGAp0q1M",
    "trusted": false
   },
   "outputs": [
    {
     "data": {
      "text/html": [
       "<div>\n",
       "<style scoped>\n",
       "    .dataframe tbody tr th:only-of-type {\n",
       "        vertical-align: middle;\n",
       "    }\n",
       "\n",
       "    .dataframe tbody tr th {\n",
       "        vertical-align: top;\n",
       "    }\n",
       "\n",
       "    .dataframe thead th {\n",
       "        text-align: right;\n",
       "    }\n",
       "</style>\n",
       "<table border=\"1\" class=\"dataframe\">\n",
       "  <thead>\n",
       "    <tr style=\"text-align: right;\">\n",
       "      <th></th>\n",
       "      <th>plan_name</th>\n",
       "      <th>month</th>\n",
       "      <th>mean</th>\n",
       "      <th>var</th>\n",
       "    </tr>\n",
       "  </thead>\n",
       "  <tbody>\n",
       "    <tr>\n",
       "      <th>0</th>\n",
       "      <td>surf</td>\n",
       "      <td>1</td>\n",
       "      <td>21.000000</td>\n",
       "      <td>NaN</td>\n",
       "    </tr>\n",
       "    <tr>\n",
       "      <th>1</th>\n",
       "      <td>surf</td>\n",
       "      <td>2</td>\n",
       "      <td>21.600000</td>\n",
       "      <td>512.800000</td>\n",
       "    </tr>\n",
       "    <tr>\n",
       "      <th>2</th>\n",
       "      <td>surf</td>\n",
       "      <td>3</td>\n",
       "      <td>21.937500</td>\n",
       "      <td>352.062500</td>\n",
       "    </tr>\n",
       "    <tr>\n",
       "      <th>3</th>\n",
       "      <td>surf</td>\n",
       "      <td>4</td>\n",
       "      <td>24.166667</td>\n",
       "      <td>534.028571</td>\n",
       "    </tr>\n",
       "    <tr>\n",
       "      <th>4</th>\n",
       "      <td>surf</td>\n",
       "      <td>5</td>\n",
       "      <td>33.017857</td>\n",
       "      <td>867.945130</td>\n",
       "    </tr>\n",
       "  </tbody>\n",
       "</table>\n",
       "</div>"
      ],
      "text/plain": [
       "  plan_name  month       mean         var\n",
       "0      surf      1  21.000000         NaN\n",
       "1      surf      2  21.600000  512.800000\n",
       "2      surf      3  21.937500  352.062500\n",
       "3      surf      4  24.166667  534.028571\n",
       "4      surf      5  33.017857  867.945130"
      ]
     },
     "execution_count": 38,
     "metadata": {},
     "output_type": "execute_result"
    }
   ],
   "source": [
    "# Calcula la media y la varianza de los mensajes mensuales.\n",
    "stats_by_message = users_total.groupby(['plan_name','month'])['total_messages'].agg(['mean', 'var']).reset_index()\n",
    "stats_by_message.head()"
   ]
  },
  {
   "cell_type": "code",
   "execution_count": 39,
   "metadata": {
    "trusted": false
   },
   "outputs": [
    {
     "data": {
      "image/png": "[encoded data removed]",
      "text/plain": [
       "<Figure size 640x480 with 1 Axes>"
      ]
     },
     "metadata": {},
     "output_type": "display_data"
    }
   ],
   "source": [
    "# Traza un diagrama de caja para visualizar la distribución de los mensajes mensuales\n",
    "sns.boxplot(data=users_total, x='month', y='total_messages', hue='plan_name',\n",
    "            palette=['moccasin', 'cyan'])\n",
    "\n",
    "plt.legend(title='Plan')\n",
    "plt.ylabel('Total Messages')\n",
    "plt.show()"
   ]
  },
  {
   "cell_type": "markdown",
   "metadata": {
    "id": "390SSL480q1M"
   },
   "source": [
    "\n",
    "Podemos concluir con base a los datos y sus estadísticas, que los usuarios del plan ultimate consumen en promedio más mensajes de texto que los del plan surf. Adicionalmente, vemos que la media esta al rededor de los 20 mensajes de texto por mes."
   ]
  },
  {
   "cell_type": "markdown",
   "metadata": {},
   "source": [
    "<div class=\"alert alert-block alert-success\">\n",
    "<b>Comentario del revisor</b> <a class=\"tocSkip\"></a><br />\n",
    "Correcto!\n",
    "\n",
    "Buenas observaciones, buena manera de pensar en como se pueden aplicar estos conocimientos a casos útiles y reales\n",
    "</div>\n"
   ]
  },
  {
   "cell_type": "markdown",
   "metadata": {
    "id": "42YSypXz0q1M"
   },
   "source": [
    "### Internet"
   ]
  },
  {
   "cell_type": "code",
   "execution_count": 40,
   "metadata": {
    "id": "lSuKPtjh0q1M",
    "trusted": false
   },
   "outputs": [
    {
     "data": {
      "image/png": "[encoded data removed]",
      "text/plain": [
       "<Figure size 640x480 with 1 Axes>"
      ]
     },
     "metadata": {},
     "output_type": "display_data"
    }
   ],
   "source": [
    "# Comprara la cnatidad de gb que tienden a usar cada mes los usuarios de cada plan\n",
    "avg_internet = users_total.groupby(['plan_name', 'month'])['gb_used_month'].mean().reset_index()\n",
    "\n",
    "sns.barplot(data= avg_internet, x='month', y='gb_used_month', hue='plan_name', palette=['cyan', 'moccasin'])\n",
    "\n",
    "plt.title('Uso promedio de GB por mes y por plan')\n",
    "plt.xlabel('Mes')\n",
    "plt.ylabel('Uso de GB promedio')\n",
    "plt.legend(title='Plan', bbox_to_anchor=(1,1))\n",
    "\n",
    "plt.show()"
   ]
  },
  {
   "cell_type": "code",
   "execution_count": 41,
   "metadata": {
    "id": "wnh8jYXi0q1N",
    "trusted": false
   },
   "outputs": [
    {
     "data": {
      "image/png": "[encoded data removed]",
      "text/plain": [
       "<Figure size 640x480 with 1 Axes>"
      ]
     },
     "metadata": {},
     "output_type": "display_data"
    }
   ],
   "source": [
    "# Compara el número de GB mensuales que necesitan los usuarios de cada plan. Traza un histograma.\n",
    "\n",
    "\n",
    "sns.histplot(data = users_total, x='gb_used_month', hue='plan_name', \n",
    "             bins=30,\n",
    "             multiple='stack',\n",
    "             palette=['moccasin','cyan'],\n",
    "            )\n",
    "\n",
    "plt.title('GB mensuales de cada plan')\n",
    "plt.xlabel('GB totales por mes')\n",
    "plt.ylabel('Cantidad de usuarios')\n",
    "plt.show()\n"
   ]
  },
  {
   "cell_type": "code",
   "execution_count": 42,
   "metadata": {
    "id": "5VlyJ9ry0q1N",
    "trusted": false
   },
   "outputs": [
    {
     "data": {
      "text/html": [
       "<div>\n",
       "<style scoped>\n",
       "    .dataframe tbody tr th:only-of-type {\n",
       "        vertical-align: middle;\n",
       "    }\n",
       "\n",
       "    .dataframe tbody tr th {\n",
       "        vertical-align: top;\n",
       "    }\n",
       "\n",
       "    .dataframe thead th {\n",
       "        text-align: right;\n",
       "    }\n",
       "</style>\n",
       "<table border=\"1\" class=\"dataframe\">\n",
       "  <thead>\n",
       "    <tr style=\"text-align: right;\">\n",
       "      <th></th>\n",
       "      <th>plan_name</th>\n",
       "      <th>month</th>\n",
       "      <th>mean</th>\n",
       "      <th>var</th>\n",
       "    </tr>\n",
       "  </thead>\n",
       "  <tbody>\n",
       "    <tr>\n",
       "      <th>0</th>\n",
       "      <td>surf</td>\n",
       "      <td>1</td>\n",
       "      <td>5.000000</td>\n",
       "      <td>18.000000</td>\n",
       "    </tr>\n",
       "    <tr>\n",
       "      <th>1</th>\n",
       "      <td>surf</td>\n",
       "      <td>2</td>\n",
       "      <td>12.222222</td>\n",
       "      <td>41.444444</td>\n",
       "    </tr>\n",
       "    <tr>\n",
       "      <th>2</th>\n",
       "      <td>surf</td>\n",
       "      <td>3</td>\n",
       "      <td>13.565217</td>\n",
       "      <td>63.984190</td>\n",
       "    </tr>\n",
       "    <tr>\n",
       "      <th>3</th>\n",
       "      <td>surf</td>\n",
       "      <td>4</td>\n",
       "      <td>12.469388</td>\n",
       "      <td>54.212585</td>\n",
       "    </tr>\n",
       "    <tr>\n",
       "      <th>4</th>\n",
       "      <td>surf</td>\n",
       "      <td>5</td>\n",
       "      <td>14.302632</td>\n",
       "      <td>56.267193</td>\n",
       "    </tr>\n",
       "  </tbody>\n",
       "</table>\n",
       "</div>"
      ],
      "text/plain": [
       "  plan_name  month       mean        var\n",
       "0      surf      1   5.000000  18.000000\n",
       "1      surf      2  12.222222  41.444444\n",
       "2      surf      3  13.565217  63.984190\n",
       "3      surf      4  12.469388  54.212585\n",
       "4      surf      5  14.302632  56.267193"
      ]
     },
     "execution_count": 42,
     "metadata": {},
     "output_type": "execute_result"
    }
   ],
   "source": [
    "# Calcula la media y la varianza de las GB mensuales.\n",
    "stats_by_internet = users_total.groupby(['plan_name','month'])['gb_used_month'].agg(['mean', 'var']).reset_index()\n",
    "stats_by_internet.head()"
   ]
  },
  {
   "cell_type": "code",
   "execution_count": 43,
   "metadata": {
    "trusted": false
   },
   "outputs": [
    {
     "data": {
      "image/png": "[encoded data removed]",
      "text/plain": [
       "<Figure size 640x480 with 1 Axes>"
      ]
     },
     "metadata": {},
     "output_type": "display_data"
    }
   ],
   "source": [
    "# Traza un diagrama de caja para visualizar la distribución de las GB mensuales\n",
    "sns.boxplot(data=users_total, x='month', y='gb_used_month', hue='plan_name',\n",
    "            palette=['moccasin', 'cyan'])\n",
    "\n",
    "plt.legend(title='Plan')\n",
    "plt.ylabel('Total GB')\n",
    "plt.show()"
   ]
  },
  {
   "cell_type": "markdown",
   "metadata": {
    "id": "UN9zwuMP0q1N"
   },
   "source": [
    "Aca podemos observar que a pesar de las diferencias en cuanto al cobro de las GB no incluidas al mes, el comportamiento de los usuarios es similar para ambos planes, tendiendo los usuarios de Ultimate a usar un poco más de GB."
   ]
  },
  {
   "cell_type": "markdown",
   "metadata": {},
   "source": [
    "<div class=\"alert alert-block alert-success\">\n",
    "<b>Comentario del revisor</b> <a class=\"tocSkip\"></a><br />\n",
    "Bien hecho!<br/>\n",
    "Gracias a estos analisis podemos crear nuevas estrategias para optimizar los planes y dar un mayor beneficio a cambio de mejores ingresos\n",
    "</div>\n"
   ]
  },
  {
   "cell_type": "markdown",
   "metadata": {
    "id": "tCijq3260q1N"
   },
   "source": [
    "## Ingreso"
   ]
  },
  {
   "cell_type": "markdown",
   "metadata": {
    "id": "9nq5IAcy0q1O"
   },
   "source": [
    "[Del mismo modo que has estudiado el comportamiento de los usuarios, describe estadísticamente los ingresos de los planes.]"
   ]
  },
  {
   "cell_type": "code",
   "execution_count": 44,
   "metadata": {
    "id": "tz-dq_V00q1O",
    "trusted": false
   },
   "outputs": [
    {
     "data": {
      "image/png": "[encoded data removed]",
      "text/plain": [
       "<Figure size 640x480 with 1 Axes>"
      ]
     },
     "metadata": {},
     "output_type": "display_data"
    }
   ],
   "source": [
    "# Comprara la cantidad de ingresos por mes por usuarios de cada plan\n",
    "avg_charge = users_total.groupby(['plan_name', 'month'])['total_price'].mean().reset_index()\n",
    "\n",
    "sns.barplot(data= avg_charge, x='month', y='total_price', hue='plan_name', palette=['cyan', 'moccasin'])\n",
    "\n",
    "plt.title('Ingresos por mes y por plan')\n",
    "plt.xlabel('Mes')\n",
    "plt.ylabel('Pago promedio')\n",
    "plt.legend(title='Plan', bbox_to_anchor=(1,1))\n",
    "\n",
    "plt.show()"
   ]
  },
  {
   "cell_type": "code",
   "execution_count": 45,
   "metadata": {
    "id": "0Y1v8ZUz0q1P",
    "trusted": false
   },
   "outputs": [
    {
     "data": {
      "image/png": "[encoded data removed]",
      "text/plain": [
       "<Figure size 640x480 with 1 Axes>"
      ]
     },
     "metadata": {},
     "output_type": "display_data"
    }
   ],
   "source": [
    "# Compara el ingreso por los usuarios de cada plan. Traza un histograma.\n",
    "\n",
    "\n",
    "sns.histplot(data = users_total, x='total_price', hue='plan_name', \n",
    "             bins=30,\n",
    "             multiple='stack',\n",
    "             palette=['moccasin','cyan'],\n",
    "            )\n",
    "\n",
    "plt.title('Costo de cada plan')\n",
    "plt.xlabel('Ingreso total por mes')\n",
    "plt.ylabel('Cantidad de usuarios')\n",
    "plt.show()\n"
   ]
  },
  {
   "cell_type": "code",
   "execution_count": 46,
   "metadata": {
    "id": "bYmwxyVh0q1P",
    "trusted": false
   },
   "outputs": [
    {
     "data": {
      "text/html": [
       "<div>\n",
       "<style scoped>\n",
       "    .dataframe tbody tr th:only-of-type {\n",
       "        vertical-align: middle;\n",
       "    }\n",
       "\n",
       "    .dataframe tbody tr th {\n",
       "        vertical-align: top;\n",
       "    }\n",
       "\n",
       "    .dataframe thead th {\n",
       "        text-align: right;\n",
       "    }\n",
       "</style>\n",
       "<table border=\"1\" class=\"dataframe\">\n",
       "  <thead>\n",
       "    <tr style=\"text-align: right;\">\n",
       "      <th></th>\n",
       "      <th>plan_name</th>\n",
       "      <th>month</th>\n",
       "      <th>mean</th>\n",
       "      <th>var</th>\n",
       "    </tr>\n",
       "  </thead>\n",
       "  <tbody>\n",
       "    <tr>\n",
       "      <th>0</th>\n",
       "      <td>surf</td>\n",
       "      <td>1</td>\n",
       "      <td>20.000000</td>\n",
       "      <td>NaN</td>\n",
       "    </tr>\n",
       "    <tr>\n",
       "      <th>1</th>\n",
       "      <td>surf</td>\n",
       "      <td>2</td>\n",
       "      <td>23.914000</td>\n",
       "      <td>28.746980</td>\n",
       "    </tr>\n",
       "    <tr>\n",
       "      <th>2</th>\n",
       "      <td>surf</td>\n",
       "      <td>3</td>\n",
       "      <td>38.540625</td>\n",
       "      <td>549.488006</td>\n",
       "    </tr>\n",
       "    <tr>\n",
       "      <th>3</th>\n",
       "      <td>surf</td>\n",
       "      <td>4</td>\n",
       "      <td>40.591429</td>\n",
       "      <td>1250.948289</td>\n",
       "    </tr>\n",
       "    <tr>\n",
       "      <th>4</th>\n",
       "      <td>surf</td>\n",
       "      <td>5</td>\n",
       "      <td>50.857170</td>\n",
       "      <td>2308.394898</td>\n",
       "    </tr>\n",
       "  </tbody>\n",
       "</table>\n",
       "</div>"
      ],
      "text/plain": [
       "  plan_name  month       mean          var\n",
       "0      surf      1  20.000000          NaN\n",
       "1      surf      2  23.914000    28.746980\n",
       "2      surf      3  38.540625   549.488006\n",
       "3      surf      4  40.591429  1250.948289\n",
       "4      surf      5  50.857170  2308.394898"
      ]
     },
     "execution_count": 46,
     "metadata": {},
     "output_type": "execute_result"
    }
   ],
   "source": [
    "# Calcula la media y la varianza de los ingresos mensuales.\n",
    "stats_by_charge = users_total.groupby(['plan_name','month'])['total_price'].agg(['mean', 'var']).reset_index()\n",
    "stats_by_charge.head()"
   ]
  },
  {
   "cell_type": "code",
   "execution_count": 47,
   "metadata": {
    "trusted": false
   },
   "outputs": [
    {
     "data": {
      "image/png": "[encoded data removed]",
      "text/plain": [
       "<Figure size 640x480 with 1 Axes>"
      ]
     },
     "metadata": {},
     "output_type": "display_data"
    }
   ],
   "source": [
    "# Traza un diagrama de caja para visualizar la distribución de los ingresos mensuales\n",
    "sns.boxplot(data=users_total, x='month', y='total_price', hue='plan_name',\n",
    "            palette=['moccasin', 'cyan'])\n",
    "\n",
    "plt.legend(title='Plan')\n",
    "plt.ylabel('Total ingresos')\n",
    "plt.show()"
   ]
  },
  {
   "cell_type": "markdown",
   "metadata": {
    "id": "KAFidcXZ0q1P"
   },
   "source": [
    "Podemos concluir que los usuarios que dentro del plan ultimate, generalmente no tienen que pagar algo adicional a su tarifa pactada, mientras que los del plan surf, tienen que pagar en su mayoria más de los 20 USD pactados para su tarifa, pero sin embargo, no pagan más que los 70USD que cuesta el plan ultimate."
   ]
  },
  {
   "cell_type": "markdown",
   "metadata": {},
   "source": [
    "<div class=\"alert alert-block alert-success\">\n",
    "<b>Comentario del revisor</b> <a class=\"tocSkip\"></a><br />\n",
    "Correcto!\n",
    "\n",
    "Esta es una grafica donde podemos ver diferencias más claras entre los planes, lo que nos ayuda a tomar mejores decisiones\n",
    "</div>\n"
   ]
  },
  {
   "cell_type": "markdown",
   "metadata": {
    "id": "ajJ7VKeI0q1Q"
   },
   "source": [
    "## Prueba las hipótesis estadísticas"
   ]
  },
  {
   "cell_type": "markdown",
   "metadata": {
    "id": "AdXAZ-yL0q1Q"
   },
   "source": [
    "[Prueba la hipótesis de que son diferentes los ingresos promedio procedentes de los usuarios de los planes de llamada Ultimate y Surf.]"
   ]
  },
  {
   "cell_type": "markdown",
   "metadata": {
    "id": "IQwa_hsh0q1Q"
   },
   "source": [
    "**Hipotesis 1:** \n",
    "El ingreso promedio de los usuarios de las tarifas Ultimate y Surf difiere.\n",
    "- Nula: Son iguales \n",
    "-Alternativa: Difieren"
   ]
  },
  {
   "cell_type": "code",
   "execution_count": 48,
   "metadata": {
    "id": "nFoPNlPq0q1R",
    "trusted": false
   },
   "outputs": [
    {
     "name": "stdout",
     "output_type": "stream",
     "text": [
      "pvalue: 1.6396969942407258e-07\n",
      "Rechazamos la hipótesis nula\n"
     ]
    }
   ],
   "source": [
    "# Prueba las hipótesis\n",
    "\n",
    "surf_info = users_total[users_total['plan_name']=='surf']['total_price'].dropna()\n",
    "ultimate_info = users_total[users_total['plan_name']=='ultimate']['total_price'].dropna()\n",
    "\n",
    "alpha= 0.05\n",
    "results=st.ttest_ind(surf_info, ultimate_info, equal_var= True)\n",
    "print('pvalue:', results.pvalue)\n",
    "if (results.pvalue < alpha):\n",
    "    print(\"Rechazamos la hipótesis nula\")\n",
    "else:\n",
    "    print(\"No podemos rechazar la hipótesis nula\")"
   ]
  },
  {
   "cell_type": "markdown",
   "metadata": {
    "id": "LsBgitqj0q1R"
   },
   "source": [
    "**Hipotesis 2:** el ingreso promedio de los usuarios del área NY-NJ es diferente al de los usuarios de otras regiones.\n",
    "- Nula: Son iguales\n",
    "-Alternativa: Difieren"
   ]
  },
  {
   "cell_type": "code",
   "execution_count": 49,
   "metadata": {
    "id": "Cqcj7wrZ0q1S",
    "scrolled": true,
    "trusted": false
   },
   "outputs": [
    {
     "name": "stdout",
     "output_type": "stream",
     "text": [
      "pvalue: 0.010353440224856581\n",
      "Rechazamos la hipótesis nula\n"
     ]
    }
   ],
   "source": [
    "# Prueba las hipótesis\n",
    "NY_NJ_info= users_total[users_total['city']=='New York-Newark-Jersey City, NY-NJ-PA MSA']['total_price'].dropna()\n",
    "city_info=users_total[users_total['city']!='New York-Newark-Jersey City, NY-NJ-PA MSA']['total_price'].dropna()\n",
    "\n",
    "alpha= 0.05\n",
    "results=st.ttest_ind(NY_NJ_info, city_info, equal_var= True)\n",
    "print('pvalue:', results.pvalue)\n",
    "if (results.pvalue < alpha):\n",
    "    print(\"Rechazamos la hipótesis nula\")\n",
    "else:\n",
    "    print(\"No podemos rechazar la hipótesis nula\")"
   ]
  },
  {
   "cell_type": "markdown",
   "metadata": {},
   "source": [
    "<div class=\"alert alert-block alert-success\">\n",
    "<b>Comentario del revisor</b> <a class=\"tocSkip\"></a><br />\n",
    "Bien hecho!\n",
    "\n",
    "La aplicación de las pruebas de hipotesis me parece acertada, seleccionando los datos y valores correctos\n",
    "</div>\n"
   ]
  },
  {
   "cell_type": "markdown",
   "metadata": {
    "id": "bbTR8UQO0q1T"
   },
   "source": [
    "## Conclusión general\n",
    "\n",
    "El objetivo principal de este proyecto fue saber cuál de los planes genera más ingresos para poder ajustar el presupuesto de publicidad.\n",
    "\n",
    "Al analizar el comportamiento de los clientes y determinar qué tarifa de prepago genera más ingresos, nos damos cuenta que los clientes del plan surf suelen pasarse de los límites incluidos en su plan, sin embargo a detalle por servicio podemos ver que: \n",
    "- El promedio de minutos en llamadas realizadas por cada usuario, son aproximadamente iguales para ambos planes, sin embargo, la mayoria de usuarios del plan surf sobrepasan los 500 minutos al mes, lo cual les genera un costo adicional.\n",
    "- En cuanto a los mensajes en promedio se mandan 50 mensajes que son los incluidos en la tarifa surfer, pero nadie envia mas de 1000 mensajes de texto que son los incluidos en el plan ultimate, lo cual nos confirma que ninguno de los usuarios del plan ultimate va a pagar adicional por este servicio y de los usuarios del plan surf, la mayoria se mantienen alrededor de los 50 mensajes al mes, pero muchos de ellos pagan adicional.\n",
    "- Con el servicio de internet vemos un comportamiento similar a los mensajes. Los usuarios del plan surf sobrepasan su limite de 15GB al mes y frecuentemente pagan adicional, mientras que muy pocos usuarios del plan ulitmate sobrepasan sus 30 GB. \n",
    "\n",
    "Ya adentrando al tema de que plan genera un mayor ingreso, concluimos que:\n",
    "Constatando con la prueba de hipotesis, la cual rechazamos, sabemos que los ingresos por cada plan difieren.\n",
    "A pesar de ser el plan surf más económico, es el que más difiere en cuanto a su costo, mientras que la mayoría de los usuarios del plan ultimate cancelan su tarifa sin adicionales. No obstante, el plan surf incluso con sus adicionales, no alcanza a generar los mismos ingresos que el plan ultimate, siendo este el que más ingresos genera a la compañia.\n",
    "\n",
    "Por esta razón, sería recomendable ajustar el presupuesto de publicidad favoreciendo el plan ultimate. "
   ]
  },
  {
   "cell_type": "markdown",
   "metadata": {},
   "source": [
    "## Comentario general del revisor\n",
    "<div class=\"alert alert-block alert-success\">\n",
    "<b>Comentario del revisor</b> <a class=\"tocSkip\"></a><br />\n",
    "Has realizado un muy buen trabajo al desarrollar este proyecto, las observaciones que has hecho a lo largo del mismo han servido para tomar acción en los pasos posteriores, terminando en resultados positivos.\n",
    "\n",
    "Este es un proyecto que nos adentra mucho en los analisis que se hacen recurrentemente en las compañías donde se obtiene información para tomar decisiones sobre el negocio que impactan directamente los ingresos, lo has hecho bastante bien!\n",
    "\n",
    "Continúa con el buen trabajo y mucho éxito en el siguiente Sprint!    \n",
    "</div>\n"
   ]
  }
 ],
 "metadata": {
  "ExecuteTimeLog": [
   {
    "duration": 828,
    "start_time": "2021-11-16T09:21:11.304Z"
   },
   {
    "duration": 893,
    "start_time": "2021-11-16T09:21:17.728Z"
   },
   {
    "duration": 1150,
    "start_time": "2021-11-16T09:21:29.568Z"
   },
   {
    "duration": 3,
    "start_time": "2021-11-16T09:24:14.495Z"
   },
   {
    "duration": 120,
    "start_time": "2021-11-16T09:24:46.630Z"
   },
   {
    "duration": 3,
    "start_time": "2021-11-16T09:28:27.882Z"
   },
   {
    "duration": 4,
    "start_time": "2021-11-16T09:29:54.281Z"
   },
   {
    "duration": 3,
    "start_time": "2021-11-16T09:30:45.936Z"
   },
   {
    "duration": 4,
    "start_time": "2021-11-16T09:31:06.300Z"
   },
   {
    "duration": 113,
    "start_time": "2021-11-16T09:31:37.208Z"
   },
   {
    "duration": 143,
    "start_time": "2021-11-16T09:31:48.656Z"
   },
   {
    "duration": 98,
    "start_time": "2021-11-16T09:31:55.678Z"
   },
   {
    "duration": 3,
    "start_time": "2021-11-16T09:32:08.535Z"
   },
   {
    "duration": 111,
    "start_time": "2021-11-16T09:32:10.120Z"
   },
   {
    "duration": 3,
    "start_time": "2021-11-16T09:32:15.732Z"
   },
   {
    "duration": 4,
    "start_time": "2021-11-16T09:32:29.423Z"
   },
   {
    "duration": 3,
    "start_time": "2021-11-16T10:03:03.074Z"
   },
   {
    "duration": 3,
    "start_time": "2021-11-16T10:10:01.288Z"
   },
   {
    "duration": 3,
    "start_time": "2021-11-16T10:10:46.923Z"
   },
   {
    "duration": 121,
    "start_time": "2021-11-16T10:37:46.494Z"
   },
   {
    "duration": 125,
    "start_time": "2021-11-16T10:38:20.632Z"
   },
   {
    "duration": 112,
    "start_time": "2021-11-16T10:46:53.001Z"
   },
   {
    "duration": 110,
    "start_time": "2021-11-16T10:48:25.775Z"
   },
   {
    "duration": 3,
    "start_time": "2021-11-16T10:50:18.720Z"
   },
   {
    "duration": 4,
    "start_time": "2021-11-16T10:50:37.649Z"
   },
   {
    "duration": 2,
    "start_time": "2021-11-16T10:50:51.884Z"
   },
   {
    "duration": 3,
    "start_time": "2021-11-16T10:51:56.237Z"
   },
   {
    "duration": 101,
    "start_time": "2021-11-16T10:53:13.791Z"
   },
   {
    "duration": 3,
    "start_time": "2021-11-16T10:55:59.186Z"
   },
   {
    "duration": 3,
    "start_time": "2021-11-16T10:56:10.751Z"
   },
   {
    "duration": 3,
    "start_time": "2021-11-16T10:56:49.038Z"
   },
   {
    "duration": 3,
    "start_time": "2021-11-16T10:56:49.174Z"
   },
   {
    "duration": 4,
    "start_time": "2021-11-16T10:56:49.414Z"
   },
   {
    "duration": 3,
    "start_time": "2021-11-16T10:56:49.680Z"
   },
   {
    "duration": 3,
    "start_time": "2021-11-16T10:56:50.370Z"
   },
   {
    "duration": 114,
    "start_time": "2021-11-16T10:59:34.518Z"
   },
   {
    "duration": 3,
    "start_time": "2021-11-16T11:01:41.201Z"
   },
   {
    "duration": 116,
    "start_time": "2021-11-16T11:01:48.754Z"
   },
   {
    "duration": 3,
    "start_time": "2021-11-16T11:02:16.685Z"
   },
   {
    "duration": 3,
    "start_time": "2021-11-16T11:02:19.479Z"
   },
   {
    "duration": 3,
    "start_time": "2021-11-16T11:02:47.067Z"
   },
   {
    "duration": 3,
    "start_time": "2021-11-16T11:02:49.353Z"
   },
   {
    "duration": 3,
    "start_time": "2021-11-16T11:03:07.835Z"
   },
   {
    "duration": 3,
    "start_time": "2021-11-16T11:03:07.953Z"
   },
   {
    "duration": 112,
    "start_time": "2021-11-16T11:07:52.072Z"
   },
   {
    "duration": 187,
    "start_time": "2021-11-16T11:09:23.468Z"
   },
   {
    "duration": 4,
    "start_time": "2021-11-16T11:10:01.455Z"
   },
   {
    "duration": 3,
    "start_time": "2021-11-16T11:10:05.069Z"
   },
   {
    "duration": 4,
    "start_time": "2021-11-16T11:10:13.376Z"
   },
   {
    "duration": 3,
    "start_time": "2021-11-16T11:10:14.434Z"
   },
   {
    "duration": 3,
    "start_time": "2021-11-16T11:10:22.853Z"
   },
   {
    "duration": 4,
    "start_time": "2021-11-16T11:27:29.279Z"
   },
   {
    "duration": 4,
    "start_time": "2021-11-16T11:29:08.919Z"
   },
   {
    "duration": 118,
    "start_time": "2021-11-16T11:29:46.703Z"
   },
   {
    "duration": 437,
    "start_time": "2021-11-16T11:36:02.181Z"
   },
   {
    "duration": 157,
    "start_time": "2021-11-16T11:36:14.388Z"
   },
   {
    "duration": 207,
    "start_time": "2021-11-16T11:47:15.898Z"
   },
   {
    "duration": 3,
    "start_time": "2021-11-16T11:53:52.092Z"
   },
   {
    "duration": 3,
    "start_time": "2021-11-16T11:53:52.236Z"
   },
   {
    "duration": 3,
    "start_time": "2021-11-16T11:59:12.005Z"
   },
   {
    "duration": 112,
    "start_time": "2021-11-16T12:00:33.446Z"
   },
   {
    "duration": 3,
    "start_time": "2021-11-16T12:02:14.453Z"
   },
   {
    "duration": 3,
    "start_time": "2021-11-16T12:02:39.512Z"
   },
   {
    "duration": 106,
    "start_time": "2021-11-16T12:03:03.460Z"
   },
   {
    "duration": 3,
    "start_time": "2021-11-17T20:37:21.139Z"
   },
   {
    "duration": 3,
    "start_time": "2021-11-17T20:37:22.229Z"
   },
   {
    "duration": 3,
    "start_time": "2021-11-17T20:38:38.806Z"
   },
   {
    "duration": 3,
    "start_time": "2021-11-17T20:38:41.958Z"
   },
   {
    "duration": 3,
    "start_time": "2021-11-17T20:43:46.551Z"
   },
   {
    "duration": 4,
    "start_time": "2021-11-17T20:58:21.835Z"
   },
   {
    "duration": 3,
    "start_time": "2021-11-17T20:59:21.872Z"
   },
   {
    "duration": 4,
    "start_time": "2021-11-17T20:59:45.352Z"
   },
   {
    "duration": 4,
    "start_time": "2021-11-17T20:59:49.646Z"
   },
   {
    "duration": 159,
    "start_time": "2021-11-17T21:02:26.949Z"
   },
   {
    "duration": 3,
    "start_time": "2021-11-17T21:03:53.461Z"
   },
   {
    "duration": 3,
    "start_time": "2021-11-17T21:03:53.694Z"
   },
   {
    "duration": 3,
    "start_time": "2021-11-17T21:05:28.145Z"
   },
   {
    "duration": 116,
    "start_time": "2021-11-17T21:05:57.787Z"
   },
   {
    "duration": 3,
    "start_time": "2021-11-17T21:06:37.993Z"
   },
   {
    "duration": 3,
    "start_time": "2021-11-17T21:06:38.261Z"
   },
   {
    "duration": 3,
    "start_time": "2021-11-17T21:11:54.358Z"
   },
   {
    "duration": 3,
    "start_time": "2021-11-17T21:12:43.846Z"
   },
   {
    "duration": 4,
    "start_time": "2021-11-17T21:13:08.773Z"
   },
   {
    "duration": 3,
    "start_time": "2021-11-17T21:14:44.441Z"
   },
   {
    "duration": 3,
    "start_time": "2021-11-17T21:15:42.059Z"
   },
   {
    "duration": 4,
    "start_time": "2021-11-17T21:15:51.995Z"
   },
   {
    "duration": 3,
    "start_time": "2021-11-17T21:15:53.923Z"
   },
   {
    "duration": 3,
    "start_time": "2021-11-17T21:15:55.282Z"
   },
   {
    "duration": 3,
    "start_time": "2021-11-17T21:16:28.492Z"
   },
   {
    "duration": 3,
    "start_time": "2021-11-17T21:16:32.603Z"
   },
   {
    "duration": 3,
    "start_time": "2021-11-17T21:17:06.941Z"
   },
   {
    "duration": 98,
    "start_time": "2021-11-17T21:18:05.733Z"
   },
   {
    "duration": 4,
    "start_time": "2021-11-17T21:21:35.255Z"
   },
   {
    "duration": 3,
    "start_time": "2021-11-17T21:21:37.804Z"
   },
   {
    "duration": 4,
    "start_time": "2021-11-17T21:23:06.071Z"
   },
   {
    "duration": 3,
    "start_time": "2021-11-17T21:23:24.799Z"
   },
   {
    "duration": 3,
    "start_time": "2021-11-17T21:23:32.591Z"
   },
   {
    "duration": 98,
    "start_time": "2021-11-17T21:28:31.559Z"
   },
   {
    "duration": 3,
    "start_time": "2021-11-17T21:28:45.448Z"
   },
   {
    "duration": 3,
    "start_time": "2021-11-17T21:29:17.303Z"
   },
   {
    "duration": 3,
    "start_time": "2021-11-17T21:29:29.617Z"
   },
   {
    "duration": 3,
    "start_time": "2021-11-17T21:29:32.681Z"
   },
   {
    "duration": 3,
    "start_time": "2021-11-17T21:36:11.474Z"
   },
   {
    "duration": 3,
    "start_time": "2021-11-17T21:36:14.791Z"
   },
   {
    "duration": 3,
    "start_time": "2021-11-17T21:36:53.943Z"
   },
   {
    "duration": 3,
    "start_time": "2021-11-17T21:36:56.165Z"
   },
   {
    "duration": 4,
    "start_time": "2021-11-17T21:37:16.590Z"
   },
   {
    "duration": 3,
    "start_time": "2021-11-17T21:37:22.702Z"
   },
   {
    "duration": 4,
    "start_time": "2021-11-17T21:38:03.479Z"
   },
   {
    "duration": 3,
    "start_time": "2021-11-17T21:38:08.601Z"
   },
   {
    "duration": 3,
    "start_time": "2021-11-17T21:38:12.928Z"
   },
   {
    "duration": 3,
    "start_time": "2021-11-17T21:38:48.896Z"
   },
   {
    "duration": 2,
    "start_time": "2021-11-17T21:38:49.171Z"
   },
   {
    "duration": 4,
    "start_time": "2021-11-17T21:39:57.889Z"
   },
   {
    "duration": 3,
    "start_time": "2021-11-17T21:39:58.057Z"
   },
   {
    "duration": 3,
    "start_time": "2021-11-17T21:41:20.108Z"
   },
   {
    "duration": 3,
    "start_time": "2021-11-17T21:41:20.629Z"
   },
   {
    "duration": 3,
    "start_time": "2021-11-17T21:42:49.136Z"
   },
   {
    "duration": 3,
    "start_time": "2021-11-17T21:43:15.137Z"
   },
   {
    "duration": 4,
    "start_time": "2021-11-17T21:43:16.766Z"
   },
   {
    "duration": 4,
    "start_time": "2021-11-17T21:43:31.711Z"
   },
   {
    "duration": 3,
    "start_time": "2021-11-17T21:43:36.312Z"
   },
   {
    "duration": 4,
    "start_time": "2021-11-17T21:45:08.825Z"
   },
   {
    "duration": 4,
    "start_time": "2021-11-17T21:45:10.119Z"
   },
   {
    "duration": 4,
    "start_time": "2021-11-17T21:45:13.748Z"
   },
   {
    "duration": 3,
    "start_time": "2021-11-17T21:45:22.219Z"
   },
   {
    "duration": 3,
    "start_time": "2021-11-17T21:45:33.412Z"
   },
   {
    "duration": 2,
    "start_time": "2021-11-17T21:46:01.885Z"
   },
   {
    "duration": 3,
    "start_time": "2021-11-17T21:46:03.628Z"
   },
   {
    "duration": 107,
    "start_time": "2021-11-17T21:47:32.512Z"
   },
   {
    "duration": 103,
    "start_time": "2021-11-17T21:50:36.243Z"
   },
   {
    "duration": 3,
    "start_time": "2021-11-18T06:28:31.440Z"
   },
   {
    "duration": 3,
    "start_time": "2021-11-18T06:29:00.168Z"
   },
   {
    "duration": 3,
    "start_time": "2021-11-18T06:31:27.008Z"
   },
   {
    "duration": 2,
    "start_time": "2021-11-18T06:35:34.288Z"
   },
   {
    "duration": 2,
    "start_time": "2021-11-18T06:38:04.527Z"
   },
   {
    "duration": 987,
    "start_time": "2025-04-30T15:18:10.888Z"
   },
   {
    "duration": 158,
    "start_time": "2025-04-30T15:18:29.628Z"
   },
   {
    "duration": 2,
    "start_time": "2025-04-30T15:18:51.165Z"
   },
   {
    "duration": 154,
    "start_time": "2025-04-30T15:18:52.576Z"
   },
   {
    "duration": 9,
    "start_time": "2025-04-30T15:19:24.004Z"
   },
   {
    "duration": 12,
    "start_time": "2025-04-30T15:19:36.426Z"
   },
   {
    "duration": 8,
    "start_time": "2025-04-30T15:19:47.141Z"
   },
   {
    "duration": 178,
    "start_time": "2025-05-01T00:59:25.703Z"
   },
   {
    "duration": 331,
    "start_time": "2025-05-01T00:59:36.738Z"
   },
   {
    "duration": 211,
    "start_time": "2025-05-01T00:59:37.071Z"
   },
   {
    "duration": 10,
    "start_time": "2025-05-01T00:59:37.284Z"
   },
   {
    "duration": 11,
    "start_time": "2025-05-01T00:59:37.296Z"
   },
   {
    "duration": 2,
    "start_time": "2025-05-01T00:59:37.309Z"
   },
   {
    "duration": 3,
    "start_time": "2025-05-01T00:59:37.313Z"
   },
   {
    "duration": 3,
    "start_time": "2025-05-01T00:59:37.317Z"
   },
   {
    "duration": 10,
    "start_time": "2025-05-01T00:59:37.322Z"
   },
   {
    "duration": 2,
    "start_time": "2025-05-01T00:59:37.334Z"
   },
   {
    "duration": 2,
    "start_time": "2025-05-01T00:59:37.340Z"
   },
   {
    "duration": 2,
    "start_time": "2025-05-01T00:59:37.344Z"
   },
   {
    "duration": 3,
    "start_time": "2025-05-01T00:59:37.348Z"
   },
   {
    "duration": 3,
    "start_time": "2025-05-01T00:59:37.352Z"
   },
   {
    "duration": 4,
    "start_time": "2025-05-01T00:59:37.357Z"
   },
   {
    "duration": 3,
    "start_time": "2025-05-01T00:59:37.362Z"
   },
   {
    "duration": 3,
    "start_time": "2025-05-01T00:59:37.367Z"
   },
   {
    "duration": 3,
    "start_time": "2025-05-01T00:59:37.371Z"
   },
   {
    "duration": 3,
    "start_time": "2025-05-01T00:59:37.376Z"
   },
   {
    "duration": 3,
    "start_time": "2025-05-01T00:59:37.380Z"
   },
   {
    "duration": 46,
    "start_time": "2025-05-01T00:59:37.385Z"
   },
   {
    "duration": 3,
    "start_time": "2025-05-01T00:59:37.433Z"
   },
   {
    "duration": 3,
    "start_time": "2025-05-01T00:59:37.437Z"
   },
   {
    "duration": 3,
    "start_time": "2025-05-01T00:59:37.442Z"
   },
   {
    "duration": 3,
    "start_time": "2025-05-01T00:59:37.447Z"
   },
   {
    "duration": 3,
    "start_time": "2025-05-01T00:59:37.452Z"
   },
   {
    "duration": 3,
    "start_time": "2025-05-01T00:59:37.457Z"
   },
   {
    "duration": 2,
    "start_time": "2025-05-01T00:59:37.462Z"
   },
   {
    "duration": 2,
    "start_time": "2025-05-01T00:59:37.468Z"
   },
   {
    "duration": 8,
    "start_time": "2025-05-01T01:00:55.418Z"
   },
   {
    "duration": 188,
    "start_time": "2025-05-01T01:01:02.480Z"
   },
   {
    "duration": 8,
    "start_time": "2025-05-01T01:01:07.786Z"
   },
   {
    "duration": 13,
    "start_time": "2025-05-01T01:06:31.199Z"
   },
   {
    "duration": 5,
    "start_time": "2025-05-01T01:07:30.848Z"
   },
   {
    "duration": 14,
    "start_time": "2025-05-01T01:11:36.214Z"
   },
   {
    "duration": 12,
    "start_time": "2025-05-01T01:12:07.677Z"
   },
   {
    "duration": 5,
    "start_time": "2025-05-01T01:12:54.548Z"
   },
   {
    "duration": 13,
    "start_time": "2025-05-01T01:13:00.803Z"
   },
   {
    "duration": 11,
    "start_time": "2025-05-01T01:16:40.288Z"
   },
   {
    "duration": 15,
    "start_time": "2025-05-01T01:16:41.624Z"
   },
   {
    "duration": 12,
    "start_time": "2025-05-01T01:19:01.405Z"
   },
   {
    "duration": 13,
    "start_time": "2025-05-01T01:19:08.109Z"
   },
   {
    "duration": 326,
    "start_time": "2025-05-01T01:19:16.865Z"
   },
   {
    "duration": 163,
    "start_time": "2025-05-01T01:19:17.194Z"
   },
   {
    "duration": 10,
    "start_time": "2025-05-01T01:19:17.359Z"
   },
   {
    "duration": 11,
    "start_time": "2025-05-01T01:19:17.371Z"
   },
   {
    "duration": 8,
    "start_time": "2025-05-01T01:19:17.383Z"
   },
   {
    "duration": 8,
    "start_time": "2025-05-01T01:19:17.392Z"
   },
   {
    "duration": 8,
    "start_time": "2025-05-01T01:19:17.401Z"
   },
   {
    "duration": 3,
    "start_time": "2025-05-01T01:19:17.410Z"
   },
   {
    "duration": 3,
    "start_time": "2025-05-01T01:19:17.431Z"
   },
   {
    "duration": 2,
    "start_time": "2025-05-01T01:19:17.437Z"
   },
   {
    "duration": 3,
    "start_time": "2025-05-01T01:19:17.440Z"
   },
   {
    "duration": 3,
    "start_time": "2025-05-01T01:19:17.445Z"
   },
   {
    "duration": 3,
    "start_time": "2025-05-01T01:19:17.450Z"
   },
   {
    "duration": 3,
    "start_time": "2025-05-01T01:19:17.454Z"
   },
   {
    "duration": 2,
    "start_time": "2025-05-01T01:19:17.459Z"
   },
   {
    "duration": 2,
    "start_time": "2025-05-01T01:19:17.464Z"
   },
   {
    "duration": 3,
    "start_time": "2025-05-01T01:19:17.468Z"
   },
   {
    "duration": 3,
    "start_time": "2025-05-01T01:19:17.472Z"
   },
   {
    "duration": 4,
    "start_time": "2025-05-01T01:19:17.476Z"
   },
   {
    "duration": 50,
    "start_time": "2025-05-01T01:19:17.481Z"
   },
   {
    "duration": 3,
    "start_time": "2025-05-01T01:19:17.533Z"
   },
   {
    "duration": 3,
    "start_time": "2025-05-01T01:19:17.538Z"
   },
   {
    "duration": 4,
    "start_time": "2025-05-01T01:19:17.542Z"
   },
   {
    "duration": 3,
    "start_time": "2025-05-01T01:19:17.547Z"
   },
   {
    "duration": 3,
    "start_time": "2025-05-01T01:19:17.551Z"
   },
   {
    "duration": 5,
    "start_time": "2025-05-01T01:19:17.556Z"
   },
   {
    "duration": 2,
    "start_time": "2025-05-01T01:19:17.562Z"
   },
   {
    "duration": 3,
    "start_time": "2025-05-01T01:19:17.567Z"
   },
   {
    "duration": 4,
    "start_time": "2025-05-01T01:19:17.571Z"
   },
   {
    "duration": 9,
    "start_time": "2025-05-01T01:20:08.993Z"
   },
   {
    "duration": 6,
    "start_time": "2025-05-01T01:25:30.157Z"
   },
   {
    "duration": 284,
    "start_time": "2025-05-01T01:26:09.949Z"
   },
   {
    "duration": 17,
    "start_time": "2025-05-01T01:29:46.695Z"
   },
   {
    "duration": 6,
    "start_time": "2025-05-01T01:29:56.985Z"
   },
   {
    "duration": 12,
    "start_time": "2025-05-01T01:30:13.194Z"
   },
   {
    "duration": 6,
    "start_time": "2025-05-01T01:30:24.420Z"
   },
   {
    "duration": 315,
    "start_time": "2025-05-01T22:41:35.119Z"
   },
   {
    "duration": 209,
    "start_time": "2025-05-01T22:41:35.436Z"
   },
   {
    "duration": 10,
    "start_time": "2025-05-01T22:41:35.648Z"
   },
   {
    "duration": 11,
    "start_time": "2025-05-01T22:41:35.661Z"
   },
   {
    "duration": 8,
    "start_time": "2025-05-01T22:41:35.674Z"
   },
   {
    "duration": 9,
    "start_time": "2025-05-01T22:41:35.684Z"
   },
   {
    "duration": 36,
    "start_time": "2025-05-01T22:41:35.695Z"
   },
   {
    "duration": 300,
    "start_time": "2025-05-01T22:41:35.733Z"
   },
   {
    "duration": 0,
    "start_time": "2025-05-01T22:41:36.037Z"
   },
   {
    "duration": 0,
    "start_time": "2025-05-01T22:41:36.038Z"
   },
   {
    "duration": 0,
    "start_time": "2025-05-01T22:41:36.039Z"
   },
   {
    "duration": 0,
    "start_time": "2025-05-01T22:41:36.040Z"
   },
   {
    "duration": 0,
    "start_time": "2025-05-01T22:41:36.041Z"
   },
   {
    "duration": 0,
    "start_time": "2025-05-01T22:41:36.042Z"
   },
   {
    "duration": 0,
    "start_time": "2025-05-01T22:41:36.043Z"
   },
   {
    "duration": 0,
    "start_time": "2025-05-01T22:41:36.044Z"
   },
   {
    "duration": 0,
    "start_time": "2025-05-01T22:41:36.045Z"
   },
   {
    "duration": 0,
    "start_time": "2025-05-01T22:41:36.046Z"
   },
   {
    "duration": 0,
    "start_time": "2025-05-01T22:41:36.048Z"
   },
   {
    "duration": 0,
    "start_time": "2025-05-01T22:41:36.049Z"
   },
   {
    "duration": 0,
    "start_time": "2025-05-01T22:41:36.051Z"
   },
   {
    "duration": 0,
    "start_time": "2025-05-01T22:41:36.052Z"
   },
   {
    "duration": 0,
    "start_time": "2025-05-01T22:41:36.053Z"
   },
   {
    "duration": 0,
    "start_time": "2025-05-01T22:41:36.055Z"
   },
   {
    "duration": 0,
    "start_time": "2025-05-01T22:41:36.056Z"
   },
   {
    "duration": 0,
    "start_time": "2025-05-01T22:41:36.058Z"
   },
   {
    "duration": 0,
    "start_time": "2025-05-01T22:41:36.060Z"
   },
   {
    "duration": 0,
    "start_time": "2025-05-01T22:41:36.061Z"
   },
   {
    "duration": 0,
    "start_time": "2025-05-01T22:41:36.062Z"
   },
   {
    "duration": 0,
    "start_time": "2025-05-01T22:41:36.064Z"
   },
   {
    "duration": 71,
    "start_time": "2025-05-01T22:45:03.070Z"
   },
   {
    "duration": 111,
    "start_time": "2025-05-01T22:47:26.091Z"
   },
   {
    "duration": 4,
    "start_time": "2025-05-01T22:48:47.072Z"
   },
   {
    "duration": 11,
    "start_time": "2025-05-01T22:52:22.382Z"
   },
   {
    "duration": 10,
    "start_time": "2025-05-01T22:52:41.834Z"
   },
   {
    "duration": 16,
    "start_time": "2025-05-01T22:52:58.306Z"
   },
   {
    "duration": 7,
    "start_time": "2025-05-01T22:53:25.413Z"
   },
   {
    "duration": 288,
    "start_time": "2025-05-01T22:54:08.682Z"
   },
   {
    "duration": 156,
    "start_time": "2025-05-01T22:54:08.973Z"
   },
   {
    "duration": 9,
    "start_time": "2025-05-01T22:54:09.131Z"
   },
   {
    "duration": 12,
    "start_time": "2025-05-01T22:54:09.141Z"
   },
   {
    "duration": 7,
    "start_time": "2025-05-01T22:54:09.156Z"
   },
   {
    "duration": 9,
    "start_time": "2025-05-01T22:54:09.165Z"
   },
   {
    "duration": 10,
    "start_time": "2025-05-01T22:54:09.175Z"
   },
   {
    "duration": 39,
    "start_time": "2025-05-01T22:54:09.186Z"
   },
   {
    "duration": 15,
    "start_time": "2025-05-01T22:54:09.227Z"
   },
   {
    "duration": 7,
    "start_time": "2025-05-01T22:54:09.243Z"
   },
   {
    "duration": 11,
    "start_time": "2025-05-01T22:54:09.251Z"
   },
   {
    "duration": 6,
    "start_time": "2025-05-01T22:54:09.264Z"
   },
   {
    "duration": 3,
    "start_time": "2025-05-01T22:54:09.271Z"
   },
   {
    "duration": 3,
    "start_time": "2025-05-01T22:54:09.278Z"
   },
   {
    "duration": 43,
    "start_time": "2025-05-01T22:54:09.283Z"
   },
   {
    "duration": 2,
    "start_time": "2025-05-01T22:54:09.328Z"
   },
   {
    "duration": 3,
    "start_time": "2025-05-01T22:54:09.332Z"
   },
   {
    "duration": 3,
    "start_time": "2025-05-01T22:54:09.336Z"
   },
   {
    "duration": 3,
    "start_time": "2025-05-01T22:54:09.341Z"
   },
   {
    "duration": 3,
    "start_time": "2025-05-01T22:54:09.345Z"
   },
   {
    "duration": 3,
    "start_time": "2025-05-01T22:54:09.350Z"
   },
   {
    "duration": 3,
    "start_time": "2025-05-01T22:54:09.354Z"
   },
   {
    "duration": 3,
    "start_time": "2025-05-01T22:54:09.359Z"
   },
   {
    "duration": 3,
    "start_time": "2025-05-01T22:54:09.363Z"
   },
   {
    "duration": 3,
    "start_time": "2025-05-01T22:54:09.368Z"
   },
   {
    "duration": 2,
    "start_time": "2025-05-01T22:54:09.373Z"
   },
   {
    "duration": 48,
    "start_time": "2025-05-01T22:54:09.376Z"
   },
   {
    "duration": 2,
    "start_time": "2025-05-01T22:54:09.426Z"
   },
   {
    "duration": 3,
    "start_time": "2025-05-01T22:54:09.430Z"
   },
   {
    "duration": 3,
    "start_time": "2025-05-01T22:54:09.434Z"
   },
   {
    "duration": 14,
    "start_time": "2025-05-01T22:55:09.822Z"
   },
   {
    "duration": 36,
    "start_time": "2025-05-01T23:10:21.884Z"
   },
   {
    "duration": 23,
    "start_time": "2025-05-01T23:11:10.522Z"
   },
   {
    "duration": 24,
    "start_time": "2025-05-01T23:12:33.321Z"
   },
   {
    "duration": 18,
    "start_time": "2025-05-01T23:20:56.722Z"
   },
   {
    "duration": 555,
    "start_time": "2025-05-01T23:21:38.420Z"
   },
   {
    "duration": 16,
    "start_time": "2025-05-01T23:21:52.642Z"
   },
   {
    "duration": 9,
    "start_time": "2025-05-01T23:22:45.507Z"
   },
   {
    "duration": 319,
    "start_time": "2025-05-02T00:42:20.320Z"
   },
   {
    "duration": 223,
    "start_time": "2025-05-02T00:42:20.641Z"
   },
   {
    "duration": 9,
    "start_time": "2025-05-02T00:42:20.866Z"
   },
   {
    "duration": 11,
    "start_time": "2025-05-02T00:42:20.878Z"
   },
   {
    "duration": 8,
    "start_time": "2025-05-02T00:42:20.890Z"
   },
   {
    "duration": 10,
    "start_time": "2025-05-02T00:42:20.899Z"
   },
   {
    "duration": 10,
    "start_time": "2025-05-02T00:42:20.910Z"
   },
   {
    "duration": 9,
    "start_time": "2025-05-02T00:42:20.922Z"
   },
   {
    "duration": 16,
    "start_time": "2025-05-02T00:42:20.932Z"
   },
   {
    "duration": 6,
    "start_time": "2025-05-02T00:42:20.950Z"
   },
   {
    "duration": 55,
    "start_time": "2025-05-02T00:42:20.958Z"
   },
   {
    "duration": 16,
    "start_time": "2025-05-02T00:42:21.015Z"
   },
   {
    "duration": 13,
    "start_time": "2025-05-02T00:42:21.033Z"
   },
   {
    "duration": 6,
    "start_time": "2025-05-02T00:42:21.048Z"
   },
   {
    "duration": 19,
    "start_time": "2025-05-02T00:42:21.055Z"
   },
   {
    "duration": 7,
    "start_time": "2025-05-02T00:42:21.076Z"
   },
   {
    "duration": 28,
    "start_time": "2025-05-02T00:42:21.084Z"
   },
   {
    "duration": 2,
    "start_time": "2025-05-02T00:42:21.114Z"
   },
   {
    "duration": 2,
    "start_time": "2025-05-02T00:42:21.118Z"
   },
   {
    "duration": 3,
    "start_time": "2025-05-02T00:42:21.122Z"
   },
   {
    "duration": 3,
    "start_time": "2025-05-02T00:42:21.127Z"
   },
   {
    "duration": 4,
    "start_time": "2025-05-02T00:42:21.132Z"
   },
   {
    "duration": 2,
    "start_time": "2025-05-02T00:42:21.139Z"
   },
   {
    "duration": 3,
    "start_time": "2025-05-02T00:42:21.143Z"
   },
   {
    "duration": 3,
    "start_time": "2025-05-02T00:42:21.147Z"
   },
   {
    "duration": 3,
    "start_time": "2025-05-02T00:42:21.152Z"
   },
   {
    "duration": 2,
    "start_time": "2025-05-02T00:42:21.157Z"
   },
   {
    "duration": 2,
    "start_time": "2025-05-02T00:42:21.163Z"
   },
   {
    "duration": 48,
    "start_time": "2025-05-02T00:42:21.166Z"
   },
   {
    "duration": 3,
    "start_time": "2025-05-02T00:42:21.216Z"
   },
   {
    "duration": 2,
    "start_time": "2025-05-02T00:42:21.221Z"
   },
   {
    "duration": 3,
    "start_time": "2025-05-02T00:42:21.225Z"
   },
   {
    "duration": 2,
    "start_time": "2025-05-02T00:42:21.230Z"
   },
   {
    "duration": 4,
    "start_time": "2025-05-02T00:42:21.234Z"
   },
   {
    "duration": 15,
    "start_time": "2025-05-02T00:42:50.880Z"
   },
   {
    "duration": 7,
    "start_time": "2025-05-02T00:43:17.304Z"
   },
   {
    "duration": 25,
    "start_time": "2025-05-02T00:45:34.354Z"
   },
   {
    "duration": 21,
    "start_time": "2025-05-02T00:46:33.529Z"
   },
   {
    "duration": 11,
    "start_time": "2025-05-02T00:47:10.051Z"
   },
   {
    "duration": 8,
    "start_time": "2025-05-02T00:47:18.098Z"
   },
   {
    "duration": 1847,
    "start_time": "2025-05-02T00:56:41.859Z"
   },
   {
    "duration": 387,
    "start_time": "2025-05-02T00:57:13.549Z"
   },
   {
    "duration": 17,
    "start_time": "2025-05-02T01:03:09.927Z"
   },
   {
    "duration": 8,
    "start_time": "2025-05-02T01:06:01.420Z"
   },
   {
    "duration": 22,
    "start_time": "2025-05-02T01:15:37.879Z"
   },
   {
    "duration": 24,
    "start_time": "2025-05-02T01:16:35.876Z"
   },
   {
    "duration": 22,
    "start_time": "2025-05-02T01:16:39.410Z"
   },
   {
    "duration": 797,
    "start_time": "2025-05-02T01:16:46.316Z"
   },
   {
    "duration": 163,
    "start_time": "2025-05-02T01:16:47.115Z"
   },
   {
    "duration": 9,
    "start_time": "2025-05-02T01:16:47.282Z"
   },
   {
    "duration": 9,
    "start_time": "2025-05-02T01:16:47.294Z"
   },
   {
    "duration": 13,
    "start_time": "2025-05-02T01:16:47.304Z"
   },
   {
    "duration": 9,
    "start_time": "2025-05-02T01:16:47.318Z"
   },
   {
    "duration": 7,
    "start_time": "2025-05-02T01:16:47.329Z"
   },
   {
    "duration": 9,
    "start_time": "2025-05-02T01:16:47.338Z"
   },
   {
    "duration": 8,
    "start_time": "2025-05-02T01:16:47.349Z"
   },
   {
    "duration": 15,
    "start_time": "2025-05-02T01:16:47.361Z"
   },
   {
    "duration": 42,
    "start_time": "2025-05-02T01:16:47.377Z"
   },
   {
    "duration": 34,
    "start_time": "2025-05-02T01:16:47.422Z"
   },
   {
    "duration": 21,
    "start_time": "2025-05-02T01:16:47.457Z"
   },
   {
    "duration": 12,
    "start_time": "2025-05-02T01:16:47.480Z"
   },
   {
    "duration": 25,
    "start_time": "2025-05-02T01:16:47.493Z"
   },
   {
    "duration": 20,
    "start_time": "2025-05-02T01:16:47.519Z"
   },
   {
    "duration": 8,
    "start_time": "2025-05-02T01:16:47.540Z"
   },
   {
    "duration": 13,
    "start_time": "2025-05-02T01:16:47.550Z"
   },
   {
    "duration": 6,
    "start_time": "2025-05-02T01:16:47.565Z"
   },
   {
    "duration": 56,
    "start_time": "2025-05-02T01:16:47.573Z"
   },
   {
    "duration": 22,
    "start_time": "2025-05-02T01:16:47.631Z"
   },
   {
    "duration": 7,
    "start_time": "2025-05-02T01:16:47.655Z"
   },
   {
    "duration": 2,
    "start_time": "2025-05-02T01:16:47.664Z"
   },
   {
    "duration": 4,
    "start_time": "2025-05-02T01:16:47.668Z"
   },
   {
    "duration": 3,
    "start_time": "2025-05-02T01:16:47.673Z"
   },
   {
    "duration": 3,
    "start_time": "2025-05-02T01:16:47.678Z"
   },
   {
    "duration": 32,
    "start_time": "2025-05-02T01:16:47.682Z"
   },
   {
    "duration": 2,
    "start_time": "2025-05-02T01:16:47.717Z"
   },
   {
    "duration": 3,
    "start_time": "2025-05-02T01:16:47.721Z"
   },
   {
    "duration": 3,
    "start_time": "2025-05-02T01:16:47.725Z"
   },
   {
    "duration": 3,
    "start_time": "2025-05-02T01:16:47.729Z"
   },
   {
    "duration": 5,
    "start_time": "2025-05-02T01:16:47.734Z"
   },
   {
    "duration": 3,
    "start_time": "2025-05-02T01:16:47.740Z"
   },
   {
    "duration": 4,
    "start_time": "2025-05-02T01:16:47.744Z"
   },
   {
    "duration": 4,
    "start_time": "2025-05-02T01:16:47.749Z"
   },
   {
    "duration": 2,
    "start_time": "2025-05-02T01:16:47.755Z"
   },
   {
    "duration": 3,
    "start_time": "2025-05-02T01:16:47.758Z"
   },
   {
    "duration": 26,
    "start_time": "2025-05-02T01:36:21.207Z"
   },
   {
    "duration": 9,
    "start_time": "2025-05-02T01:38:56.284Z"
   },
   {
    "duration": 19,
    "start_time": "2025-05-02T01:39:40.634Z"
   },
   {
    "duration": 32,
    "start_time": "2025-05-02T01:42:42.284Z"
   },
   {
    "duration": 32,
    "start_time": "2025-05-02T01:43:51.932Z"
   },
   {
    "duration": 2495,
    "start_time": "2025-05-03T00:51:31.728Z"
   },
   {
    "duration": 220,
    "start_time": "2025-05-03T00:51:34.225Z"
   },
   {
    "duration": 10,
    "start_time": "2025-05-03T00:51:34.447Z"
   },
   {
    "duration": 11,
    "start_time": "2025-05-03T00:51:34.459Z"
   },
   {
    "duration": 9,
    "start_time": "2025-05-03T00:51:34.472Z"
   },
   {
    "duration": 8,
    "start_time": "2025-05-03T00:51:34.483Z"
   },
   {
    "duration": 21,
    "start_time": "2025-05-03T00:51:34.493Z"
   },
   {
    "duration": 10,
    "start_time": "2025-05-03T00:51:34.517Z"
   },
   {
    "duration": 9,
    "start_time": "2025-05-03T00:51:34.529Z"
   },
   {
    "duration": 15,
    "start_time": "2025-05-03T00:51:34.541Z"
   },
   {
    "duration": 7,
    "start_time": "2025-05-03T00:51:34.557Z"
   },
   {
    "duration": 66,
    "start_time": "2025-05-03T00:51:34.566Z"
   },
   {
    "duration": 27,
    "start_time": "2025-05-03T00:51:34.634Z"
   },
   {
    "duration": 11,
    "start_time": "2025-05-03T00:51:34.663Z"
   },
   {
    "duration": 6,
    "start_time": "2025-05-03T00:51:34.675Z"
   },
   {
    "duration": 44,
    "start_time": "2025-05-03T00:51:34.683Z"
   },
   {
    "duration": 14,
    "start_time": "2025-05-03T00:51:34.729Z"
   },
   {
    "duration": 13,
    "start_time": "2025-05-03T00:51:34.744Z"
   },
   {
    "duration": 6,
    "start_time": "2025-05-03T00:51:34.758Z"
   },
   {
    "duration": 48,
    "start_time": "2025-05-03T00:51:34.766Z"
   },
   {
    "duration": 30,
    "start_time": "2025-05-03T00:51:34.816Z"
   },
   {
    "duration": 8,
    "start_time": "2025-05-03T00:51:34.848Z"
   },
   {
    "duration": 2,
    "start_time": "2025-05-03T00:51:34.858Z"
   },
   {
    "duration": 3,
    "start_time": "2025-05-03T00:51:34.861Z"
   },
   {
    "duration": 4,
    "start_time": "2025-05-03T00:51:34.865Z"
   },
   {
    "duration": 3,
    "start_time": "2025-05-03T00:51:34.870Z"
   },
   {
    "duration": 33,
    "start_time": "2025-05-03T00:51:34.875Z"
   },
   {
    "duration": 3,
    "start_time": "2025-05-03T00:51:34.912Z"
   },
   {
    "duration": 3,
    "start_time": "2025-05-03T00:51:34.916Z"
   },
   {
    "duration": 3,
    "start_time": "2025-05-03T00:51:34.921Z"
   },
   {
    "duration": 3,
    "start_time": "2025-05-03T00:51:34.925Z"
   },
   {
    "duration": 3,
    "start_time": "2025-05-03T00:51:34.930Z"
   },
   {
    "duration": 4,
    "start_time": "2025-05-03T00:51:34.934Z"
   },
   {
    "duration": 3,
    "start_time": "2025-05-03T00:51:34.939Z"
   },
   {
    "duration": 3,
    "start_time": "2025-05-03T00:51:34.944Z"
   },
   {
    "duration": 3,
    "start_time": "2025-05-03T00:51:34.948Z"
   },
   {
    "duration": 3,
    "start_time": "2025-05-03T00:51:34.953Z"
   },
   {
    "duration": 16,
    "start_time": "2025-05-03T01:06:16.694Z"
   },
   {
    "duration": 14,
    "start_time": "2025-05-03T01:26:42.946Z"
   },
   {
    "duration": 17,
    "start_time": "2025-05-03T01:26:56.100Z"
   },
   {
    "duration": 18,
    "start_time": "2025-05-03T01:27:16.329Z"
   },
   {
    "duration": 18,
    "start_time": "2025-05-03T01:27:24.533Z"
   },
   {
    "duration": 14,
    "start_time": "2025-05-03T01:30:55.614Z"
   },
   {
    "duration": 19,
    "start_time": "2025-05-03T01:31:03.939Z"
   },
   {
    "duration": 7,
    "start_time": "2025-05-03T01:34:39.686Z"
   },
   {
    "duration": 967,
    "start_time": "2025-05-03T01:34:49.237Z"
   },
   {
    "duration": 3,
    "start_time": "2025-05-03T01:35:45.239Z"
   },
   {
    "duration": 19,
    "start_time": "2025-05-03T01:35:47.791Z"
   },
   {
    "duration": 14,
    "start_time": "2025-05-03T01:37:41.823Z"
   },
   {
    "duration": 14,
    "start_time": "2025-05-03T01:39:10.747Z"
   },
   {
    "duration": 158,
    "start_time": "2025-05-05T21:03:01.381Z"
   },
   {
    "duration": 2676,
    "start_time": "2025-05-05T21:03:13.631Z"
   },
   {
    "duration": 229,
    "start_time": "2025-05-05T21:03:16.310Z"
   },
   {
    "duration": 11,
    "start_time": "2025-05-05T21:03:16.544Z"
   },
   {
    "duration": 12,
    "start_time": "2025-05-05T21:03:16.557Z"
   },
   {
    "duration": 11,
    "start_time": "2025-05-05T21:03:16.571Z"
   },
   {
    "duration": 9,
    "start_time": "2025-05-05T21:03:16.584Z"
   },
   {
    "duration": 9,
    "start_time": "2025-05-05T21:03:16.594Z"
   },
   {
    "duration": 12,
    "start_time": "2025-05-05T21:03:16.605Z"
   },
   {
    "duration": 9,
    "start_time": "2025-05-05T21:03:16.619Z"
   },
   {
    "duration": 47,
    "start_time": "2025-05-05T21:03:16.631Z"
   },
   {
    "duration": 7,
    "start_time": "2025-05-05T21:03:16.680Z"
   },
   {
    "duration": 44,
    "start_time": "2025-05-05T21:03:16.689Z"
   },
   {
    "duration": 61,
    "start_time": "2025-05-05T21:03:16.735Z"
   },
   {
    "duration": 14,
    "start_time": "2025-05-05T21:03:16.801Z"
   },
   {
    "duration": 10,
    "start_time": "2025-05-05T21:03:16.817Z"
   },
   {
    "duration": 42,
    "start_time": "2025-05-05T21:03:16.828Z"
   },
   {
    "duration": 16,
    "start_time": "2025-05-05T21:03:16.872Z"
   },
   {
    "duration": 26,
    "start_time": "2025-05-05T21:03:16.890Z"
   },
   {
    "duration": 8,
    "start_time": "2025-05-05T21:03:16.919Z"
   },
   {
    "duration": 50,
    "start_time": "2025-05-05T21:03:16.929Z"
   },
   {
    "duration": 32,
    "start_time": "2025-05-05T21:03:16.981Z"
   },
   {
    "duration": 7,
    "start_time": "2025-05-05T21:03:17.015Z"
   },
   {
    "duration": 47,
    "start_time": "2025-05-05T21:03:17.024Z"
   },
   {
    "duration": 18,
    "start_time": "2025-05-05T21:03:17.074Z"
   },
   {
    "duration": 16,
    "start_time": "2025-05-05T21:03:17.094Z"
   },
   {
    "duration": 648,
    "start_time": "2025-05-05T21:03:17.112Z"
   },
   {
    "duration": 0,
    "start_time": "2025-05-05T21:03:17.762Z"
   },
   {
    "duration": 0,
    "start_time": "2025-05-05T21:03:17.762Z"
   },
   {
    "duration": 0,
    "start_time": "2025-05-05T21:03:17.763Z"
   },
   {
    "duration": 0,
    "start_time": "2025-05-05T21:03:17.763Z"
   },
   {
    "duration": 0,
    "start_time": "2025-05-05T21:03:17.764Z"
   },
   {
    "duration": 0,
    "start_time": "2025-05-05T21:03:17.764Z"
   },
   {
    "duration": 0,
    "start_time": "2025-05-05T21:03:17.765Z"
   },
   {
    "duration": 0,
    "start_time": "2025-05-05T21:03:17.770Z"
   },
   {
    "duration": 0,
    "start_time": "2025-05-05T21:03:17.771Z"
   },
   {
    "duration": 0,
    "start_time": "2025-05-05T21:03:17.772Z"
   },
   {
    "duration": 0,
    "start_time": "2025-05-05T21:03:17.773Z"
   },
   {
    "duration": 15,
    "start_time": "2025-05-05T21:03:42.046Z"
   },
   {
    "duration": 18,
    "start_time": "2025-05-05T21:04:44.568Z"
   },
   {
    "duration": 15,
    "start_time": "2025-05-05T21:04:57.652Z"
   },
   {
    "duration": 15,
    "start_time": "2025-05-05T21:11:04.106Z"
   },
   {
    "duration": 23,
    "start_time": "2025-05-05T22:24:00.841Z"
   },
   {
    "duration": 7,
    "start_time": "2025-05-05T22:24:25.331Z"
   },
   {
    "duration": 19,
    "start_time": "2025-05-05T22:24:35.957Z"
   },
   {
    "duration": 12,
    "start_time": "2025-05-05T22:24:49.958Z"
   },
   {
    "duration": 16,
    "start_time": "2025-05-05T22:26:04.469Z"
   },
   {
    "duration": 14,
    "start_time": "2025-05-05T22:27:48.936Z"
   },
   {
    "duration": 18,
    "start_time": "2025-05-05T22:33:38.284Z"
   },
   {
    "duration": 16,
    "start_time": "2025-05-05T22:33:43.540Z"
   },
   {
    "duration": 21,
    "start_time": "2025-05-05T22:37:30.785Z"
   },
   {
    "duration": 11,
    "start_time": "2025-05-05T22:37:36.314Z"
   },
   {
    "duration": 16,
    "start_time": "2025-05-05T22:39:46.505Z"
   },
   {
    "duration": 21,
    "start_time": "2025-05-05T22:40:41.474Z"
   },
   {
    "duration": 23,
    "start_time": "2025-05-05T22:40:55.506Z"
   },
   {
    "duration": 9,
    "start_time": "2025-05-05T22:44:35.465Z"
   },
   {
    "duration": 26,
    "start_time": "2025-05-05T22:44:40.728Z"
   },
   {
    "duration": 27,
    "start_time": "2025-05-05T22:45:40.960Z"
   },
   {
    "duration": 20,
    "start_time": "2025-05-05T22:46:46.903Z"
   },
   {
    "duration": 6,
    "start_time": "2025-05-05T22:50:37.159Z"
   },
   {
    "duration": 21,
    "start_time": "2025-05-05T22:53:10.068Z"
   },
   {
    "duration": 28,
    "start_time": "2025-05-05T22:53:15.604Z"
   },
   {
    "duration": 20,
    "start_time": "2025-05-05T22:53:38.883Z"
   },
   {
    "duration": 27,
    "start_time": "2025-05-05T22:53:43.729Z"
   },
   {
    "duration": 26,
    "start_time": "2025-05-05T22:53:53.435Z"
   },
   {
    "duration": 28,
    "start_time": "2025-05-05T22:53:59.647Z"
   },
   {
    "duration": 184,
    "start_time": "2025-05-05T22:55:23.168Z"
   },
   {
    "duration": 27,
    "start_time": "2025-05-05T22:55:29.950Z"
   },
   {
    "duration": 6,
    "start_time": "2025-05-05T22:56:13.783Z"
   },
   {
    "duration": 26,
    "start_time": "2025-05-05T23:01:46.195Z"
   },
   {
    "duration": 5,
    "start_time": "2025-05-05T23:02:32.223Z"
   },
   {
    "duration": 27,
    "start_time": "2025-05-05T23:02:58.680Z"
   },
   {
    "duration": 7,
    "start_time": "2025-05-05T23:04:38.788Z"
   },
   {
    "duration": 27,
    "start_time": "2025-05-05T23:04:44.914Z"
   },
   {
    "duration": 20,
    "start_time": "2025-05-05T23:04:49.800Z"
   },
   {
    "duration": 7,
    "start_time": "2025-05-05T23:05:12.561Z"
   },
   {
    "duration": 7,
    "start_time": "2025-05-05T23:05:16.011Z"
   },
   {
    "duration": 7,
    "start_time": "2025-05-05T23:05:22.566Z"
   },
   {
    "duration": 9,
    "start_time": "2025-05-05T23:09:52.250Z"
   },
   {
    "duration": 293,
    "start_time": "2025-05-05T23:11:30.328Z"
   },
   {
    "duration": 11,
    "start_time": "2025-05-05T23:12:36.358Z"
   },
   {
    "duration": 28,
    "start_time": "2025-05-05T23:14:47.849Z"
   },
   {
    "duration": 7,
    "start_time": "2025-05-05T23:19:35.429Z"
   },
   {
    "duration": 5,
    "start_time": "2025-05-05T23:20:25.959Z"
   },
   {
    "duration": 6,
    "start_time": "2025-05-05T23:20:37.341Z"
   },
   {
    "duration": 2473,
    "start_time": "2025-05-06T09:33:24.577Z"
   },
   {
    "duration": 237,
    "start_time": "2025-05-06T09:33:27.052Z"
   },
   {
    "duration": 10,
    "start_time": "2025-05-06T09:33:27.291Z"
   },
   {
    "duration": 10,
    "start_time": "2025-05-06T09:33:27.303Z"
   },
   {
    "duration": 9,
    "start_time": "2025-05-06T09:33:27.315Z"
   },
   {
    "duration": 8,
    "start_time": "2025-05-06T09:33:27.326Z"
   },
   {
    "duration": 7,
    "start_time": "2025-05-06T09:33:27.336Z"
   },
   {
    "duration": 10,
    "start_time": "2025-05-06T09:33:27.344Z"
   },
   {
    "duration": 9,
    "start_time": "2025-05-06T09:33:27.356Z"
   },
   {
    "duration": 14,
    "start_time": "2025-05-06T09:33:27.368Z"
   },
   {
    "duration": 41,
    "start_time": "2025-05-06T09:33:27.384Z"
   },
   {
    "duration": 30,
    "start_time": "2025-05-06T09:33:27.426Z"
   },
   {
    "duration": 27,
    "start_time": "2025-05-06T09:33:27.457Z"
   },
   {
    "duration": 12,
    "start_time": "2025-05-06T09:33:27.486Z"
   },
   {
    "duration": 6,
    "start_time": "2025-05-06T09:33:27.524Z"
   },
   {
    "duration": 20,
    "start_time": "2025-05-06T09:33:27.532Z"
   },
   {
    "duration": 16,
    "start_time": "2025-05-06T09:33:27.554Z"
   },
   {
    "duration": 13,
    "start_time": "2025-05-06T09:33:27.571Z"
   },
   {
    "duration": 38,
    "start_time": "2025-05-06T09:33:27.586Z"
   },
   {
    "duration": 23,
    "start_time": "2025-05-06T09:33:27.625Z"
   },
   {
    "duration": 30,
    "start_time": "2025-05-06T09:33:27.650Z"
   },
   {
    "duration": 7,
    "start_time": "2025-05-06T09:33:27.682Z"
   },
   {
    "duration": 39,
    "start_time": "2025-05-06T09:33:27.690Z"
   },
   {
    "duration": 17,
    "start_time": "2025-05-06T09:33:27.731Z"
   },
   {
    "duration": 13,
    "start_time": "2025-05-06T09:33:27.750Z"
   },
   {
    "duration": 14,
    "start_time": "2025-05-06T09:33:27.765Z"
   },
   {
    "duration": 44,
    "start_time": "2025-05-06T09:33:27.781Z"
   },
   {
    "duration": 26,
    "start_time": "2025-05-06T09:33:27.828Z"
   },
   {
    "duration": 26,
    "start_time": "2025-05-06T09:33:27.856Z"
   },
   {
    "duration": 6,
    "start_time": "2025-05-06T09:33:27.884Z"
   },
   {
    "duration": 3,
    "start_time": "2025-05-06T09:33:27.893Z"
   },
   {
    "duration": 27,
    "start_time": "2025-05-06T09:33:27.897Z"
   },
   {
    "duration": 3,
    "start_time": "2025-05-06T09:33:27.926Z"
   },
   {
    "duration": 3,
    "start_time": "2025-05-06T09:33:27.931Z"
   },
   {
    "duration": 2,
    "start_time": "2025-05-06T09:33:27.936Z"
   },
   {
    "duration": 3,
    "start_time": "2025-05-06T09:33:27.940Z"
   },
   {
    "duration": 3,
    "start_time": "2025-05-06T09:33:27.944Z"
   },
   {
    "duration": 3,
    "start_time": "2025-05-06T09:33:27.949Z"
   },
   {
    "duration": 20,
    "start_time": "2025-05-06T09:39:03.898Z"
   },
   {
    "duration": 988,
    "start_time": "2025-05-06T10:23:10.354Z"
   },
   {
    "duration": 19742,
    "start_time": "2025-05-06T10:28:42.664Z"
   },
   {
    "duration": 177,
    "start_time": "2025-05-06T10:36:21.626Z"
   },
   {
    "duration": 221,
    "start_time": "2025-05-06T10:36:34.256Z"
   },
   {
    "duration": 542,
    "start_time": "2025-05-06T10:37:21.811Z"
   },
   {
    "duration": 230,
    "start_time": "2025-05-06T10:37:38.224Z"
   },
   {
    "duration": 67,
    "start_time": "2025-05-06T10:39:03.134Z"
   },
   {
    "duration": 69,
    "start_time": "2025-05-06T10:39:54.193Z"
   },
   {
    "duration": 420,
    "start_time": "2025-05-06T10:41:09.516Z"
   },
   {
    "duration": 260,
    "start_time": "2025-05-06T10:41:19.337Z"
   },
   {
    "duration": 266,
    "start_time": "2025-05-06T10:42:40.443Z"
   },
   {
    "duration": 285,
    "start_time": "2025-05-06T10:42:53.061Z"
   },
   {
    "duration": 176,
    "start_time": "2025-05-06T10:43:42.449Z"
   },
   {
    "duration": 271,
    "start_time": "2025-05-06T10:43:51.152Z"
   },
   {
    "duration": 198,
    "start_time": "2025-05-06T10:43:59.144Z"
   },
   {
    "duration": 220,
    "start_time": "2025-05-06T10:44:13.868Z"
   },
   {
    "duration": 9,
    "start_time": "2025-05-06T10:44:34.060Z"
   },
   {
    "duration": 207,
    "start_time": "2025-05-06T10:44:39.060Z"
   },
   {
    "duration": 194,
    "start_time": "2025-05-06T10:47:38.474Z"
   },
   {
    "duration": 971,
    "start_time": "2025-05-06T10:59:54.503Z"
   },
   {
    "duration": 195,
    "start_time": "2025-05-06T11:01:07.172Z"
   },
   {
    "duration": 145,
    "start_time": "2025-05-06T11:01:43.291Z"
   },
   {
    "duration": 157,
    "start_time": "2025-05-06T11:02:04.813Z"
   },
   {
    "duration": 133,
    "start_time": "2025-05-06T11:02:32.372Z"
   },
   {
    "duration": 140,
    "start_time": "2025-05-06T11:02:49.090Z"
   },
   {
    "duration": 128,
    "start_time": "2025-05-06T11:03:14.657Z"
   },
   {
    "duration": 135,
    "start_time": "2025-05-06T11:04:22.519Z"
   },
   {
    "duration": 139,
    "start_time": "2025-05-06T11:04:42.007Z"
   },
   {
    "duration": 194,
    "start_time": "2025-05-06T11:06:11.947Z"
   },
   {
    "duration": 6,
    "start_time": "2025-05-06T11:10:49.560Z"
   },
   {
    "duration": 3,
    "start_time": "2025-05-06T11:11:01.130Z"
   },
   {
    "duration": 4,
    "start_time": "2025-05-06T11:11:08.600Z"
   },
   {
    "duration": 4,
    "start_time": "2025-05-06T11:11:41.603Z"
   },
   {
    "duration": 189,
    "start_time": "2025-05-06T11:12:50.266Z"
   },
   {
    "duration": 201,
    "start_time": "2025-05-06T11:12:59.611Z"
   },
   {
    "duration": 361,
    "start_time": "2025-05-06T11:13:16.065Z"
   },
   {
    "duration": 220,
    "start_time": "2025-05-06T11:13:35.387Z"
   },
   {
    "duration": 205,
    "start_time": "2025-05-06T11:13:42.950Z"
   },
   {
    "duration": 199,
    "start_time": "2025-05-06T11:15:05.560Z"
   },
   {
    "duration": 222,
    "start_time": "2025-05-06T11:15:39.488Z"
   },
   {
    "duration": 5,
    "start_time": "2025-05-06T11:18:03.985Z"
   },
   {
    "duration": 6,
    "start_time": "2025-05-06T11:19:39.095Z"
   },
   {
    "duration": 830,
    "start_time": "2025-05-06T18:25:56.234Z"
   },
   {
    "duration": 171,
    "start_time": "2025-05-06T18:25:57.067Z"
   },
   {
    "duration": 9,
    "start_time": "2025-05-06T18:25:57.240Z"
   },
   {
    "duration": 9,
    "start_time": "2025-05-06T18:25:57.251Z"
   },
   {
    "duration": 9,
    "start_time": "2025-05-06T18:25:57.263Z"
   },
   {
    "duration": 9,
    "start_time": "2025-05-06T18:25:57.273Z"
   },
   {
    "duration": 9,
    "start_time": "2025-05-06T18:25:57.283Z"
   },
   {
    "duration": 32,
    "start_time": "2025-05-06T18:25:57.293Z"
   },
   {
    "duration": 12,
    "start_time": "2025-05-06T18:25:57.327Z"
   },
   {
    "duration": 14,
    "start_time": "2025-05-06T18:25:57.341Z"
   },
   {
    "duration": 7,
    "start_time": "2025-05-06T18:25:57.357Z"
   },
   {
    "duration": 29,
    "start_time": "2025-05-06T18:25:57.365Z"
   },
   {
    "duration": 53,
    "start_time": "2025-05-06T18:25:57.396Z"
   },
   {
    "duration": 11,
    "start_time": "2025-05-06T18:25:57.454Z"
   },
   {
    "duration": 6,
    "start_time": "2025-05-06T18:25:57.467Z"
   },
   {
    "duration": 21,
    "start_time": "2025-05-06T18:25:57.474Z"
   },
   {
    "duration": 40,
    "start_time": "2025-05-06T18:25:57.496Z"
   },
   {
    "duration": 13,
    "start_time": "2025-05-06T18:25:57.538Z"
   },
   {
    "duration": 6,
    "start_time": "2025-05-06T18:25:57.553Z"
   },
   {
    "duration": 23,
    "start_time": "2025-05-06T18:25:57.561Z"
   },
   {
    "duration": 58,
    "start_time": "2025-05-06T18:25:57.586Z"
   },
   {
    "duration": 7,
    "start_time": "2025-05-06T18:25:57.646Z"
   },
   {
    "duration": 24,
    "start_time": "2025-05-06T18:25:57.655Z"
   },
   {
    "duration": 21,
    "start_time": "2025-05-06T18:25:57.680Z"
   },
   {
    "duration": 34,
    "start_time": "2025-05-06T18:25:57.702Z"
   },
   {
    "duration": 15,
    "start_time": "2025-05-06T18:25:57.737Z"
   },
   {
    "duration": 17,
    "start_time": "2025-05-06T18:25:57.753Z"
   },
   {
    "duration": 53,
    "start_time": "2025-05-06T18:25:57.771Z"
   },
   {
    "duration": 28,
    "start_time": "2025-05-06T18:25:57.826Z"
   },
   {
    "duration": 20,
    "start_time": "2025-05-06T18:25:57.855Z"
   },
   {
    "duration": 220,
    "start_time": "2025-05-06T18:25:57.877Z"
   },
   {
    "duration": 4,
    "start_time": "2025-05-06T18:25:58.099Z"
   },
   {
    "duration": 266,
    "start_time": "2025-05-06T18:25:58.105Z"
   },
   {
    "duration": 6,
    "start_time": "2025-05-06T18:25:58.373Z"
   },
   {
    "duration": 3,
    "start_time": "2025-05-06T18:25:58.381Z"
   },
   {
    "duration": 3,
    "start_time": "2025-05-06T18:25:58.385Z"
   },
   {
    "duration": 2,
    "start_time": "2025-05-06T18:25:58.390Z"
   },
   {
    "duration": 3,
    "start_time": "2025-05-06T18:25:58.394Z"
   },
   {
    "duration": 0,
    "start_time": "2025-05-06T18:25:58.424Z"
   },
   {
    "duration": 16,
    "start_time": "2025-05-06T18:52:49.831Z"
   },
   {
    "duration": 14,
    "start_time": "2025-05-06T18:53:22.886Z"
   },
   {
    "duration": 139,
    "start_time": "2025-05-06T18:55:11.680Z"
   },
   {
    "duration": 364,
    "start_time": "2025-05-06T18:57:59.238Z"
   },
   {
    "duration": 380,
    "start_time": "2025-05-06T18:59:56.185Z"
   },
   {
    "duration": 355,
    "start_time": "2025-05-06T19:00:45.848Z"
   },
   {
    "duration": 460,
    "start_time": "2025-05-06T19:01:54.095Z"
   },
   {
    "duration": 399,
    "start_time": "2025-05-06T19:02:20.045Z"
   },
   {
    "duration": 126,
    "start_time": "2025-05-06T19:03:13.757Z"
   },
   {
    "duration": 372,
    "start_time": "2025-05-06T19:03:37.512Z"
   },
   {
    "duration": 344,
    "start_time": "2025-05-06T19:03:46.514Z"
   },
   {
    "duration": 11,
    "start_time": "2025-05-06T19:18:10.077Z"
   },
   {
    "duration": 76,
    "start_time": "2025-05-06T19:19:42.462Z"
   },
   {
    "duration": 11,
    "start_time": "2025-05-06T19:21:02.615Z"
   },
   {
    "duration": 196,
    "start_time": "2025-05-06T19:21:26.442Z"
   },
   {
    "duration": 185,
    "start_time": "2025-05-06T19:35:59.230Z"
   },
   {
    "duration": 288,
    "start_time": "2025-05-06T19:37:32.605Z"
   },
   {
    "duration": 212,
    "start_time": "2025-05-06T19:37:56.577Z"
   },
   {
    "duration": 362,
    "start_time": "2025-05-06T19:38:09.246Z"
   },
   {
    "duration": 209,
    "start_time": "2025-05-06T19:38:30.443Z"
   },
   {
    "duration": 199,
    "start_time": "2025-05-06T19:39:08.016Z"
   },
   {
    "duration": 286,
    "start_time": "2025-05-06T19:39:11.754Z"
   },
   {
    "duration": 11,
    "start_time": "2025-05-06T19:40:16.965Z"
   },
   {
    "duration": 66,
    "start_time": "2025-05-06T19:41:14.791Z"
   },
   {
    "duration": 328,
    "start_time": "2025-05-06T19:41:24.123Z"
   },
   {
    "duration": 220,
    "start_time": "2025-05-06T19:45:15.964Z"
   },
   {
    "duration": 700,
    "start_time": "2025-05-06T19:45:44.499Z"
   },
   {
    "duration": 198,
    "start_time": "2025-05-06T19:46:21.405Z"
   },
   {
    "duration": 195,
    "start_time": "2025-05-06T19:47:30.433Z"
   },
   {
    "duration": 12,
    "start_time": "2025-05-06T19:48:16.066Z"
   },
   {
    "duration": 41,
    "start_time": "2025-05-06T19:48:54.060Z"
   },
   {
    "duration": 425,
    "start_time": "2025-05-06T19:49:05.694Z"
   },
   {
    "duration": 5,
    "start_time": "2025-05-06T19:52:33.428Z"
   },
   {
    "duration": 200,
    "start_time": "2025-05-06T20:23:23.304Z"
   },
   {
    "duration": 210,
    "start_time": "2025-05-06T20:23:34.352Z"
   },
   {
    "duration": 199,
    "start_time": "2025-05-06T20:24:43.585Z"
   },
   {
    "duration": 12,
    "start_time": "2025-05-06T20:25:41.826Z"
   },
   {
    "duration": 392,
    "start_time": "2025-05-06T20:27:15.128Z"
   },
   {
    "duration": 3,
    "start_time": "2025-05-06T20:46:38.767Z"
   },
   {
    "duration": 876,
    "start_time": "2025-05-06T20:46:45.816Z"
   },
   {
    "duration": 168,
    "start_time": "2025-05-06T20:46:46.694Z"
   },
   {
    "duration": 9,
    "start_time": "2025-05-06T20:46:46.864Z"
   },
   {
    "duration": 10,
    "start_time": "2025-05-06T20:46:46.875Z"
   },
   {
    "duration": 10,
    "start_time": "2025-05-06T20:46:46.887Z"
   },
   {
    "duration": 8,
    "start_time": "2025-05-06T20:46:46.898Z"
   },
   {
    "duration": 20,
    "start_time": "2025-05-06T20:46:46.908Z"
   },
   {
    "duration": 11,
    "start_time": "2025-05-06T20:46:46.930Z"
   },
   {
    "duration": 11,
    "start_time": "2025-05-06T20:46:46.943Z"
   },
   {
    "duration": 15,
    "start_time": "2025-05-06T20:46:46.957Z"
   },
   {
    "duration": 7,
    "start_time": "2025-05-06T20:46:46.974Z"
   },
   {
    "duration": 64,
    "start_time": "2025-05-06T20:46:46.982Z"
   },
   {
    "duration": 27,
    "start_time": "2025-05-06T20:46:47.047Z"
   },
   {
    "duration": 12,
    "start_time": "2025-05-06T20:46:47.077Z"
   },
   {
    "duration": 6,
    "start_time": "2025-05-06T20:46:47.090Z"
   },
   {
    "duration": 39,
    "start_time": "2025-05-06T20:46:47.098Z"
   },
   {
    "duration": 15,
    "start_time": "2025-05-06T20:46:47.139Z"
   },
   {
    "duration": 13,
    "start_time": "2025-05-06T20:46:47.156Z"
   },
   {
    "duration": 7,
    "start_time": "2025-05-06T20:46:47.170Z"
   },
   {
    "duration": 56,
    "start_time": "2025-05-06T20:46:47.179Z"
   },
   {
    "duration": 33,
    "start_time": "2025-05-06T20:46:47.237Z"
   },
   {
    "duration": 8,
    "start_time": "2025-05-06T20:46:47.272Z"
   },
   {
    "duration": 43,
    "start_time": "2025-05-06T20:46:47.281Z"
   },
   {
    "duration": 24,
    "start_time": "2025-05-06T20:46:47.326Z"
   },
   {
    "duration": 14,
    "start_time": "2025-05-06T20:46:47.351Z"
   },
   {
    "duration": 15,
    "start_time": "2025-05-06T20:46:47.367Z"
   },
   {
    "duration": 44,
    "start_time": "2025-05-06T20:46:47.383Z"
   },
   {
    "duration": 28,
    "start_time": "2025-05-06T20:46:47.429Z"
   },
   {
    "duration": 27,
    "start_time": "2025-05-06T20:46:47.458Z"
   },
   {
    "duration": 41,
    "start_time": "2025-05-06T20:46:47.487Z"
   },
   {
    "duration": 210,
    "start_time": "2025-05-06T20:46:47.529Z"
   },
   {
    "duration": 4,
    "start_time": "2025-05-06T20:46:47.740Z"
   },
   {
    "duration": 258,
    "start_time": "2025-05-06T20:46:47.746Z"
   },
   {
    "duration": 23,
    "start_time": "2025-05-06T20:46:48.006Z"
   },
   {
    "duration": 379,
    "start_time": "2025-05-06T20:46:48.031Z"
   },
   {
    "duration": 183,
    "start_time": "2025-05-06T20:46:48.412Z"
   },
   {
    "duration": 205,
    "start_time": "2025-05-06T20:46:48.597Z"
   },
   {
    "duration": 21,
    "start_time": "2025-05-06T20:46:48.803Z"
   },
   {
    "duration": 399,
    "start_time": "2025-05-06T20:46:48.826Z"
   },
   {
    "duration": 207,
    "start_time": "2025-05-06T20:46:49.228Z"
   },
   {
    "duration": 221,
    "start_time": "2025-05-06T20:46:49.440Z"
   },
   {
    "duration": 11,
    "start_time": "2025-05-06T20:46:49.663Z"
   },
   {
    "duration": 351,
    "start_time": "2025-05-06T20:46:49.675Z"
   },
   {
    "duration": 224,
    "start_time": "2025-05-06T20:46:50.028Z"
   },
   {
    "duration": 282,
    "start_time": "2025-05-06T20:46:50.254Z"
   },
   {
    "duration": 11,
    "start_time": "2025-05-06T20:46:50.538Z"
   },
   {
    "duration": 345,
    "start_time": "2025-05-06T20:46:50.550Z"
   },
   {
    "duration": 4,
    "start_time": "2025-05-06T20:46:50.897Z"
   },
   {
    "duration": 0,
    "start_time": "2025-05-06T20:46:50.903Z"
   },
   {
    "duration": 235,
    "start_time": "2025-05-06T21:00:03.019Z"
   },
   {
    "duration": 18,
    "start_time": "2025-05-06T21:01:10.990Z"
   },
   {
    "duration": 8,
    "start_time": "2025-05-06T21:01:18.014Z"
   },
   {
    "duration": 7,
    "start_time": "2025-05-06T21:01:45.892Z"
   },
   {
    "duration": 3,
    "start_time": "2025-05-06T21:07:47.558Z"
   },
   {
    "duration": 8,
    "start_time": "2025-05-06T21:12:34.891Z"
   },
   {
    "duration": 9,
    "start_time": "2025-05-06T21:12:48.071Z"
   },
   {
    "duration": 9,
    "start_time": "2025-05-06T21:13:03.874Z"
   },
   {
    "duration": 6,
    "start_time": "2025-05-06T21:13:41.428Z"
   },
   {
    "duration": 175,
    "start_time": "2025-05-06T21:27:49.264Z"
   },
   {
    "duration": 933,
    "start_time": "2025-05-07T15:28:29.242Z"
   },
   {
    "duration": 215,
    "start_time": "2025-05-07T15:28:30.177Z"
   },
   {
    "duration": 9,
    "start_time": "2025-05-07T15:28:30.394Z"
   },
   {
    "duration": 9,
    "start_time": "2025-05-07T15:28:30.405Z"
   },
   {
    "duration": 35,
    "start_time": "2025-05-07T15:28:30.939Z"
   },
   {
    "duration": 8,
    "start_time": "2025-05-07T15:28:31.240Z"
   },
   {
    "duration": 7,
    "start_time": "2025-05-07T15:28:31.413Z"
   },
   {
    "duration": 10,
    "start_time": "2025-05-07T15:28:31.945Z"
   },
   {
    "duration": 11,
    "start_time": "2025-05-07T15:28:32.175Z"
   },
   {
    "duration": 16,
    "start_time": "2025-05-07T15:28:32.497Z"
   },
   {
    "duration": 7,
    "start_time": "2025-05-07T15:28:32.642Z"
   },
   {
    "duration": 47,
    "start_time": "2025-05-07T15:28:33.160Z"
   },
   {
    "duration": 28,
    "start_time": "2025-05-07T15:28:33.725Z"
   },
   {
    "duration": 12,
    "start_time": "2025-05-07T15:28:34.030Z"
   },
   {
    "duration": 7,
    "start_time": "2025-05-07T15:28:34.190Z"
   },
   {
    "duration": 19,
    "start_time": "2025-05-07T15:28:35.036Z"
   },
   {
    "duration": 17,
    "start_time": "2025-05-07T15:28:35.571Z"
   },
   {
    "duration": 14,
    "start_time": "2025-05-07T15:28:36.589Z"
   },
   {
    "duration": 6,
    "start_time": "2025-05-07T15:28:36.996Z"
   },
   {
    "duration": 24,
    "start_time": "2025-05-07T15:28:37.960Z"
   },
   {
    "duration": 31,
    "start_time": "2025-05-07T15:28:38.809Z"
   },
   {
    "duration": 8,
    "start_time": "2025-05-07T15:28:39.419Z"
   },
   {
    "duration": 18,
    "start_time": "2025-05-07T15:28:40.026Z"
   },
   {
    "duration": 17,
    "start_time": "2025-05-07T15:28:40.256Z"
   },
   {
    "duration": 14,
    "start_time": "2025-05-07T15:28:41.091Z"
   },
   {
    "duration": 14,
    "start_time": "2025-05-07T15:28:41.492Z"
   },
   {
    "duration": 17,
    "start_time": "2025-05-07T15:28:41.718Z"
   },
   {
    "duration": 29,
    "start_time": "2025-05-07T15:28:41.891Z"
   },
   {
    "duration": 28,
    "start_time": "2025-05-07T15:28:42.112Z"
   },
   {
    "duration": 22,
    "start_time": "2025-05-07T15:28:43.008Z"
   },
   {
    "duration": 211,
    "start_time": "2025-05-07T15:29:46.910Z"
   },
   {
    "duration": 4,
    "start_time": "2025-05-07T15:30:41.016Z"
   },
   {
    "duration": 252,
    "start_time": "2025-05-07T15:30:41.197Z"
   },
   {
    "duration": 11,
    "start_time": "2025-05-07T15:30:42.125Z"
   },
   {
    "duration": 329,
    "start_time": "2025-05-07T15:30:51.359Z"
   },
   {
    "duration": 177,
    "start_time": "2025-05-07T15:30:57.277Z"
   },
   {
    "duration": 204,
    "start_time": "2025-05-07T15:30:57.950Z"
   },
   {
    "duration": 13,
    "start_time": "2025-05-07T15:31:01.013Z"
   },
   {
    "duration": 340,
    "start_time": "2025-05-07T15:31:01.193Z"
   },
   {
    "duration": 261,
    "start_time": "2025-05-07T15:31:14.649Z"
   },
   {
    "duration": 202,
    "start_time": "2025-05-07T15:31:14.957Z"
   },
   {
    "duration": 10,
    "start_time": "2025-05-07T15:31:16.772Z"
   },
   {
    "duration": 336,
    "start_time": "2025-05-07T15:31:18.058Z"
   },
   {
    "duration": 218,
    "start_time": "2025-05-07T15:31:31.285Z"
   },
   {
    "duration": 204,
    "start_time": "2025-05-07T15:31:31.765Z"
   },
   {
    "duration": 12,
    "start_time": "2025-05-07T15:31:34.103Z"
   },
   {
    "duration": 395,
    "start_time": "2025-05-07T15:31:34.268Z"
   },
   {
    "duration": 8,
    "start_time": "2025-05-07T15:32:20.807Z"
   },
   {
    "duration": 7,
    "start_time": "2025-05-07T15:32:22.571Z"
   },
   {
    "duration": 4,
    "start_time": "2025-05-07T15:32:50.275Z"
   }
  ],
  "colab": {
   "provenance": []
  },
  "kernelspec": {
   "display_name": "Python 3 (ipykernel)",
   "language": "python",
   "name": "python3"
  },
  "language_info": {
   "codemirror_mode": {
    "name": "ipython",
    "version": 3
   },
   "file_extension": ".py",
   "mimetype": "text/x-python",
   "name": "python",
   "nbconvert_exporter": "python",
   "pygments_lexer": "ipython3",
   "version": "3.9.19"
  },
  "toc": {
   "base_numbering": 1,
   "nav_menu": {},
   "number_sections": true,
   "sideBar": true,
   "skip_h1_title": false,
   "title_cell": "Table of Contents",
   "title_sidebar": "Contents",
   "toc_cell": false,
   "toc_position": {
    "height": "calc(100% - 180px)",
    "left": "10px",
    "top": "150px",
    "width": "246.391px"
   },
   "toc_section_display": true,
   "toc_window_display": true
  }
 },
 "nbformat": 4,
 "nbformat_minor": 1
}
