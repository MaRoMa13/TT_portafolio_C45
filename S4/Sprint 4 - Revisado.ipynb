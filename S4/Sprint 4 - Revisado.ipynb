{
 "cells": [
  {
   "cell_type": "markdown",
   "id": "0e2743e9",
   "metadata": {},
   "source": [
    "----"
   ]
  },
  {
   "cell_type": "markdown",
   "id": "3Xg_RQfnafXz",
   "metadata": {
    "id": "3Xg_RQfnafXz"
   },
   "source": [
    "# ¡Llena ese carrito!"
   ]
  },
  {
   "cell_type": "markdown",
   "id": "mhIvmmkW414q",
   "metadata": {
    "id": "mhIvmmkW414q"
   },
   "source": [
    "# Introducción\n",
    "\n",
    "Instacart es una plataforma de entregas de comestibles donde la clientela puede registrar un pedido y hacer que se lo entreguen, similar a Uber Eats y Door Dash.\n",
    "El conjunto de datos que te hemos proporcionado tiene modificaciones del original. Redujimos el tamaño del conjunto para que tus cálculos se hicieran más rápido e introdujimos valores ausentes y duplicados. Tuvimos cuidado de conservar las distribuciones de los datos originales cuando hicimos los cambios.\n",
    "\n",
    "Debes completar tres pasos. Para cada uno de ellos, escribe una breve introducción que refleje con claridad cómo pretendes resolver cada paso, y escribe párrafos explicatorios que justifiquen tus decisiones al tiempo que avanzas en tu solución.  También escribe una conclusión que resuma tus hallazgos y elecciones.\n"
   ]
  },
  {
   "cell_type": "markdown",
   "id": "3MbyzpOQZ5Or",
   "metadata": {
    "id": "3MbyzpOQZ5Or"
   },
   "source": [
    "## Diccionario de datos\n",
    "\n",
    "Hay cinco tablas en el conjunto de datos, y tendrás que usarlas todas para hacer el preprocesamiento de datos y el análisis exploratorio de datos. A continuación se muestra un diccionario de datos que enumera las columnas de cada tabla y describe los datos que contienen.\n",
    "\n",
    "- `instacart_orders.csv`: cada fila corresponde a un pedido en la aplicación Instacart.\n",
    "    - `'order_id'`: número de ID que identifica de manera única cada pedido.\n",
    "    - `'user_id'`: número de ID que identifica de manera única la cuenta de cada cliente.\n",
    "    - `'order_number'`: el número de veces que este cliente ha hecho un pedido.\n",
    "    - `'order_dow'`: día de la semana en que se hizo el pedido (0 si es domingo).\n",
    "    - `'order_hour_of_day'`: hora del día en que se hizo el pedido.\n",
    "    - `'days_since_prior_order'`: número de días transcurridos desde que este cliente hizo su pedido anterior.\n",
    "- `products.csv`: cada fila corresponde a un producto único que pueden comprar los clientes.\n",
    "    - `'product_id'`: número ID que identifica de manera única cada producto.\n",
    "    - `'product_name'`: nombre del producto.\n",
    "    - `'aisle_id'`: número ID que identifica de manera única cada categoría de pasillo de víveres.\n",
    "    - `'department_id'`: número ID que identifica de manera única cada departamento de víveres.\n",
    "- `order_products.csv`: cada fila corresponde a un artículo pedido en un pedido.\n",
    "    - `'order_id'`: número de ID que identifica de manera única cada pedido.\n",
    "    - `'product_id'`: número ID que identifica de manera única cada producto.\n",
    "    - `'add_to_cart_order'`: el orden secuencial en el que se añadió cada artículo en el carrito.\n",
    "    - `'reordered'`: 0 si el cliente nunca ha pedido este producto antes, 1 si lo ha pedido.\n",
    "- `aisles.csv`\n",
    "    - `'aisle_id'`: número ID que identifica de manera única cada categoría de pasillo de víveres.\n",
    "    - `'aisle'`: nombre del pasillo.\n",
    "- `departments.csv`\n",
    "    - `'department_id'`: número ID que identifica de manera única cada departamento de víveres.\n",
    "    - `'department'`: nombre del departamento."
   ]
  },
  {
   "cell_type": "markdown",
   "id": "n3Ha_cNSZ8lK",
   "metadata": {
    "id": "n3Ha_cNSZ8lK"
   },
   "source": [
    "# Paso 1. Descripción de los datos\n",
    "\n",
    "Lee los archivos de datos (`/datasets/instacart_orders.csv`, `/datasets/products.csv`, `/datasets/aisles.csv`, `/datasets/departments.csv` y `/datasets/order_products.csv`) con `pd.read_csv()` usando los parámetros adecuados para leer los datos correctamente. Verifica la información para cada DataFrame creado.\n"
   ]
  },
  {
   "cell_type": "markdown",
   "id": "OmlQPLlyaAfR",
   "metadata": {
    "id": "OmlQPLlyaAfR"
   },
   "source": [
    "## Plan de solución\n",
    "\n",
    "Escribe aquí tu plan de solución para el Paso 1. Descripción de los datos."
   ]
  },
  {
   "cell_type": "code",
   "execution_count": 1,
   "id": "fbf1adab",
   "metadata": {
    "id": "fbf1adab",
    "trusted": false
   },
   "outputs": [],
   "source": [
    "# importar librerías\n",
    "import pandas as pd"
   ]
  },
  {
   "cell_type": "code",
   "execution_count": 2,
   "id": "ad36396d",
   "metadata": {
    "id": "ad36396d",
    "trusted": false
   },
   "outputs": [],
   "source": [
    "# leer conjuntos de datos en los DataFrames\n",
    "df_instacart= pd.read_csv('/datasets/instacart_orders.csv', sep=';')\n",
    "df_products= pd.read_csv('/datasets/products.csv', sep=';')\n",
    "df_aisles= pd.read_csv('/datasets/aisles.csv', sep=';')\n",
    "df_departments= pd.read_csv('/datasets/departments.csv', sep=';')\n",
    "df_order_products= pd.read_csv('/datasets/order_products.csv', sep=';')\n"
   ]
  },
  {
   "cell_type": "markdown",
   "id": "8e5c17fb",
   "metadata": {},
   "source": [
    "<div class=\"alert alert-block alert-success\">\n",
    "<b>Comentario de Revisor</b> <a class=\"tocSkip\"></a>\n",
    "\n",
    "Correcto. Bien hecho al importar la data usando el parámetro `sep=;\"` para que la lectura de los datos se pueda realizar correctamente.\n",
    "    \n",
    "\n",
    "</div>"
   ]
  },
  {
   "cell_type": "code",
   "execution_count": 3,
   "id": "ad6a1efa",
   "metadata": {
    "id": "ad6a1efa",
    "trusted": false
   },
   "outputs": [
    {
     "name": "stdout",
     "output_type": "stream",
     "text": [
      "   order_id  user_id  order_number  order_dow  order_hour_of_day  \\\n",
      "0   1515936   183418            11          6                 13   \n",
      "1   1690866   163593             5          5                 12   \n",
      "2   1454967    39980             4          5                 19   \n",
      "3   1768857    82516            56          0                 20   \n",
      "4   3007858   196724             2          4                 12   \n",
      "\n",
      "   days_since_prior_order  \n",
      "0                    30.0  \n",
      "1                     9.0  \n",
      "2                     2.0  \n",
      "3                    10.0  \n",
      "4                    17.0  \n",
      "<class 'pandas.core.frame.DataFrame'>\n",
      "RangeIndex: 478967 entries, 0 to 478966\n",
      "Data columns (total 6 columns):\n",
      " #   Column                  Non-Null Count   Dtype  \n",
      "---  ------                  --------------   -----  \n",
      " 0   order_id                478967 non-null  int64  \n",
      " 1   user_id                 478967 non-null  int64  \n",
      " 2   order_number            478967 non-null  int64  \n",
      " 3   order_dow               478967 non-null  int64  \n",
      " 4   order_hour_of_day       478967 non-null  int64  \n",
      " 5   days_since_prior_order  450148 non-null  float64\n",
      "dtypes: float64(1), int64(5)\n",
      "memory usage: 21.9 MB\n"
     ]
    }
   ],
   "source": [
    "# mostrar información del DataFrame\n",
    "\n",
    "print(df_instacart.head())\n",
    "df_instacart.info()"
   ]
  },
  {
   "cell_type": "code",
   "execution_count": 4,
   "id": "5130e05e",
   "metadata": {
    "id": "5130e05e",
    "trusted": false
   },
   "outputs": [
    {
     "name": "stdout",
     "output_type": "stream",
     "text": [
      "   product_id                                       product_name  aisle_id  \\\n",
      "0           1                         Chocolate Sandwich Cookies        61   \n",
      "1           2                                   All-Seasons Salt       104   \n",
      "2           3               Robust Golden Unsweetened Oolong Tea        94   \n",
      "3           4  Smart Ones Classic Favorites Mini Rigatoni Wit...        38   \n",
      "4           5                          Green Chile Anytime Sauce         5   \n",
      "\n",
      "   department_id  \n",
      "0             19  \n",
      "1             13  \n",
      "2              7  \n",
      "3              1  \n",
      "4             13  \n",
      "<class 'pandas.core.frame.DataFrame'>\n",
      "RangeIndex: 49694 entries, 0 to 49693\n",
      "Data columns (total 4 columns):\n",
      " #   Column         Non-Null Count  Dtype \n",
      "---  ------         --------------  ----- \n",
      " 0   product_id     49694 non-null  int64 \n",
      " 1   product_name   48436 non-null  object\n",
      " 2   aisle_id       49694 non-null  int64 \n",
      " 3   department_id  49694 non-null  int64 \n",
      "dtypes: int64(3), object(1)\n",
      "memory usage: 1.5+ MB\n"
     ]
    }
   ],
   "source": [
    "# mostrar información del DataFrame\n",
    "print(df_products.head())\n",
    "df_products.info()"
   ]
  },
  {
   "cell_type": "code",
   "execution_count": 5,
   "id": "d8370c05",
   "metadata": {
    "id": "d8370c05",
    "trusted": false
   },
   "outputs": [
    {
     "name": "stdout",
     "output_type": "stream",
     "text": [
      "   aisle_id                       aisle\n",
      "0         1       prepared soups salads\n",
      "1         2           specialty cheeses\n",
      "2         3         energy granola bars\n",
      "3         4               instant foods\n",
      "4         5  marinades meat preparation\n",
      "<class 'pandas.core.frame.DataFrame'>\n",
      "RangeIndex: 134 entries, 0 to 133\n",
      "Data columns (total 2 columns):\n",
      " #   Column    Non-Null Count  Dtype \n",
      "---  ------    --------------  ----- \n",
      " 0   aisle_id  134 non-null    int64 \n",
      " 1   aisle     134 non-null    object\n",
      "dtypes: int64(1), object(1)\n",
      "memory usage: 2.2+ KB\n"
     ]
    }
   ],
   "source": [
    "# mostrar información del DataFrame\n",
    "print(df_aisles.head())\n",
    "df_aisles.info()"
   ]
  },
  {
   "cell_type": "code",
   "execution_count": 6,
   "id": "59e2090f",
   "metadata": {
    "id": "59e2090f",
    "trusted": false
   },
   "outputs": [
    {
     "name": "stdout",
     "output_type": "stream",
     "text": [
      "   department_id department\n",
      "0              1     frozen\n",
      "1              2      other\n",
      "2              3     bakery\n",
      "3              4    produce\n",
      "4              5    alcohol\n",
      "<class 'pandas.core.frame.DataFrame'>\n",
      "RangeIndex: 21 entries, 0 to 20\n",
      "Data columns (total 2 columns):\n",
      " #   Column         Non-Null Count  Dtype \n",
      "---  ------         --------------  ----- \n",
      " 0   department_id  21 non-null     int64 \n",
      " 1   department     21 non-null     object\n",
      "dtypes: int64(1), object(1)\n",
      "memory usage: 464.0+ bytes\n"
     ]
    }
   ],
   "source": [
    "# mostrar información del DataFrame\n",
    "print(df_departments.head())\n",
    "df_departments.info()"
   ]
  },
  {
   "cell_type": "code",
   "execution_count": 7,
   "id": "6fc81694",
   "metadata": {
    "id": "6fc81694",
    "trusted": false
   },
   "outputs": [
    {
     "name": "stdout",
     "output_type": "stream",
     "text": [
      "   order_id  product_id  add_to_cart_order  reordered\n",
      "0   2141543       11440               17.0          0\n",
      "1    567889        1560                1.0          1\n",
      "2   2261212       26683                1.0          1\n",
      "3    491251        8670               35.0          1\n",
      "4   2571142        1940                5.0          1\n",
      "<class 'pandas.core.frame.DataFrame'>\n",
      "RangeIndex: 4545007 entries, 0 to 4545006\n",
      "Data columns (total 4 columns):\n",
      " #   Column             Non-Null Count    Dtype  \n",
      "---  ------             --------------    -----  \n",
      " 0   order_id           4545007 non-null  int64  \n",
      " 1   product_id         4545007 non-null  int64  \n",
      " 2   add_to_cart_order  4544171 non-null  float64\n",
      " 3   reordered          4545007 non-null  int64  \n",
      "dtypes: float64(1), int64(3)\n",
      "memory usage: 138.7 MB\n"
     ]
    }
   ],
   "source": [
    "# mostrar información del DataFrame\n",
    "print(df_order_products.head())\n",
    "df_order_products.info(show_counts=True)"
   ]
  },
  {
   "cell_type": "markdown",
   "id": "15b23eb4",
   "metadata": {},
   "source": [
    "<div class=\"alert alert-block alert-success\">\n",
    "<b>Comentario de Revisor</b> <a class=\"tocSkip\"></a>\n",
    "\n",
    "Muy bien al mostrar parte de la data, pero te recomiendo usar `display()` para mostrar un dataframe, da mejor formato de output que `print()`. Por ejemplo, en vez de usar `print(df.head())`, usa `display(df.head())`.\n",
    "\n",
    "</div>"
   ]
  },
  {
   "cell_type": "markdown",
   "id": "t75BD19oaR5f",
   "metadata": {
    "id": "t75BD19oaR5f"
   },
   "source": [
    "## Conclusiones\n",
    "\n",
    "**Descripción de los datos:**\n",
    "\n",
    "Para este caso de anâlisis tenemos 5 archivos diferentes por procesar, todos separados por ';'. En general, no usan mayúsculas, no hay espacios u otros caracteres en los nombres y usan snake_case para denominar las columnas.\n",
    "1. En el archivo instacart: tenemos valores enteros y en la columna de \"dias desde el pedido\", toma los dias como float y solo en esta columna tenemos valores nulos.\n",
    "2. En el archivo products: Encontramos la distribución de los productos por 'aisle' y 'department' y algunos productos no tienen nombre.\n",
    "3. En el archivo aisles: Encontramos únicamente dos columnas, sin datos nulos.\n",
    "4. En el archivo departments: no hay datos nulos.\n",
    "5. En el archivo order_products: Encontramos una gran cantidad de datos almacenados, donde la columna 'add_to_cart_order' es la única con datos nulos y en formato float.\n"
   ]
  },
  {
   "cell_type": "markdown",
   "id": "8RJHqxVmaVsF",
   "metadata": {
    "id": "8RJHqxVmaVsF"
   },
   "source": [
    "# Paso 2. Preprocesamiento de los datos\n",
    "\n",
    "Preprocesa los datos de la siguiente manera:\n",
    "\n",
    "- Verifica y corrige los tipos de datos (por ejemplo, asegúrate de que las columnas de ID sean números enteros).\n",
    "- Identifica y completa los valores ausentes.\n",
    "- Identifica y elimina los valores duplicados.\n",
    "\n",
    "Asegúrate de explicar qué tipos de valores ausentes y duplicados encontraste, cómo los completaste o eliminaste y por qué usaste esos métodos. ¿Por qué crees que estos valores ausentes y duplicados pueden haber estado presentes en el conjunto de datos?"
   ]
  },
  {
   "cell_type": "markdown",
   "id": "p6poABZQaZYb",
   "metadata": {
    "id": "p6poABZQaZYb"
   },
   "source": [
    "## Plan de solución\n",
    "\n",
    "Escribe aquí tu plan para el Paso 2. Preprocesamiento de los datos."
   ]
  },
  {
   "cell_type": "markdown",
   "id": "07357848-dc64-4156-9cc3-01ff4365226d",
   "metadata": {
    "id": "07357848-dc64-4156-9cc3-01ff4365226d"
   },
   "source": [
    "## Encuentra y elimina los valores duplicados (y describe cómo tomaste tus decisiones)."
   ]
  },
  {
   "cell_type": "markdown",
   "id": "f179f0a9",
   "metadata": {
    "id": "f179f0a9"
   },
   "source": [
    "### `orders` data frame"
   ]
  },
  {
   "cell_type": "code",
   "execution_count": 8,
   "id": "b99297a5-405a-463d-8535-9adc3da4ad74",
   "metadata": {
    "id": "b99297a5-405a-463d-8535-9adc3da4ad74",
    "trusted": false
   },
   "outputs": [
    {
     "name": "stdout",
     "output_type": "stream",
     "text": [
      "15\n",
      "        order_id  user_id  order_number  order_dow  order_hour_of_day  \\\n",
      "145574    794638    50898            24          3                  2   \n",
      "223105   2160484   107525            16          3                  2   \n",
      "230807   1918001   188546            14          3                  2   \n",
      "266232   1782114   106752             1          3                  2   \n",
      "273805   1112182   202304            84          3                  2   \n",
      "284038   2845099    31189            11          3                  2   \n",
      "311713   1021560    53767             3          3                  2   \n",
      "321100    408114    68324             4          3                  2   \n",
      "323900   1919531   191501            32          3                  2   \n",
      "345917   2232988    82565             1          3                  2   \n",
      "371905    391768    57671            19          3                  2   \n",
      "394347    467134    63189            21          3                  2   \n",
      "411408   1286742   183220            48          3                  2   \n",
      "415163   2282673    86751            49          3                  2   \n",
      "441599   2125197    14050            48          3                  2   \n",
      "\n",
      "        days_since_prior_order  \n",
      "145574                     2.0  \n",
      "223105                    30.0  \n",
      "230807                    16.0  \n",
      "266232                     NaN  \n",
      "273805                     6.0  \n",
      "284038                     7.0  \n",
      "311713                     9.0  \n",
      "321100                    18.0  \n",
      "323900                     7.0  \n",
      "345917                     NaN  \n",
      "371905                    10.0  \n",
      "394347                     2.0  \n",
      "411408                     4.0  \n",
      "415163                     2.0  \n",
      "441599                     3.0  \n"
     ]
    }
   ],
   "source": [
    "# Revisa si hay pedidos duplicados\n",
    "print(df_instacart.duplicated().sum())\n",
    "duplicados = df_instacart[df_instacart.duplicated()]\n",
    "print(duplicados)"
   ]
  },
  {
   "cell_type": "markdown",
   "id": "PEkwUX_gvt5A",
   "metadata": {
    "id": "PEkwUX_gvt5A"
   },
   "source": [
    "¿Tienes líneas duplicadas? Si sí, ¿qué tienen en común?\n",
    "\n",
    "**Tengo 15 filas duplicadas y todas tienen en común el día de la semana y la hora del pedido.**"
   ]
  },
  {
   "cell_type": "code",
   "execution_count": 9,
   "id": "0d44de5d",
   "metadata": {
    "id": "0d44de5d",
    "trusted": false
   },
   "outputs": [
    {
     "name": "stdout",
     "output_type": "stream",
     "text": [
      "        order_id  user_id  order_number  order_dow  order_hour_of_day  \\\n",
      "346889   2291746    40940             7          3                  2   \n",
      "350080   2593771   153869             8          3                  2   \n",
      "354984   2602339    65989             7          3                  2   \n",
      "354993    391768    57671            19          3                  2   \n",
      "359625    332561   201301             1          3                  2   \n",
      "371029   1477271    28904             8          3                  2   \n",
      "371905    391768    57671            19          3                  2   \n",
      "384090   1983940    37173             4          3                  2   \n",
      "394347    467134    63189            21          3                  2   \n",
      "395002   1090993    30945             5          3                  2   \n",
      "400167    774488    66195            16          3                  2   \n",
      "410100   2934579   105857             4          3                  2   \n",
      "411408   1286742   183220            48          3                  2   \n",
      "415163   2282673    86751            49          3                  2   \n",
      "415975   3286161    77320             9          3                  2   \n",
      "416198   3275652   169225             7          3                  2   \n",
      "417106    248760   204961            25          3                  2   \n",
      "420254    522496    79672             7          3                  2   \n",
      "441599   2125197    14050            48          3                  2   \n",
      "441694    508008    82399             3          3                  2   \n",
      "443590    781491    51960             5          3                  2   \n",
      "444570   1725841    44370            41          3                  2   \n",
      "450906   1171914    81860            29          3                  2   \n",
      "452187   2132617   188324            12          3                  2   \n",
      "452265       191   176417            44          3                  2   \n",
      "457013   3384021    14881             6          3                  2   \n",
      "458816    910166   164782            18          3                  2   \n",
      "459635   1680532   106435             6          3                  2   \n",
      "468324    222962    54979            59          3                  2   \n",
      "477526   2592344    46860            38          3                  2   \n",
      "\n",
      "        days_since_prior_order  \n",
      "346889                     3.0  \n",
      "350080                    16.0  \n",
      "354984                    30.0  \n",
      "354993                    10.0  \n",
      "359625                     NaN  \n",
      "371029                    24.0  \n",
      "371905                    10.0  \n",
      "384090                    30.0  \n",
      "394347                     2.0  \n",
      "395002                     9.0  \n",
      "400167                     2.0  \n",
      "410100                     8.0  \n",
      "411408                     4.0  \n",
      "415163                     2.0  \n",
      "415975                     8.0  \n",
      "416198                    30.0  \n",
      "417106                    15.0  \n",
      "420254                     6.0  \n",
      "441599                     3.0  \n",
      "441694                     4.0  \n",
      "443590                    30.0  \n",
      "444570                    10.0  \n",
      "450906                     5.0  \n",
      "452187                    16.0  \n",
      "452265                     6.0  \n",
      "457013                    30.0  \n",
      "458816                     4.0  \n",
      "459635                    21.0  \n",
      "468324                     3.0  \n",
      "477526                     3.0  \n",
      "15\n"
     ]
    }
   ],
   "source": [
    "# Basándote en tus hallazgos,\n",
    "# Verifica todos los pedidos que se hicieron el miércoles a las 2:00 a.m.\n",
    "orders_wed_2am= df_instacart.loc[(df_instacart['order_dow']==3) & (df_instacart['order_hour_of_day']== 2)]\n",
    "print(orders_wed_2am.tail(30))\n",
    "print(orders_wed_2am.duplicated().sum())"
   ]
  },
  {
   "cell_type": "markdown",
   "id": "vu2OWyoqwOx5",
   "metadata": {
    "id": "vu2OWyoqwOx5"
   },
   "source": [
    "¿Qué sugiere este resultado? \n",
    "\n",
    "**Puede ser que ese día quedaron ingresados 15 pedidos dos veces, lo cual nos genera esos duplicados, es decir, podemos eliminarlos sin tener consecuencias con el analisis posterior** "
   ]
  },
  {
   "cell_type": "code",
   "execution_count": 10,
   "id": "480563c7",
   "metadata": {
    "id": "480563c7",
    "trusted": false
   },
   "outputs": [],
   "source": [
    "# Elimina los pedidos duplicados\n",
    "df_instacart= df_instacart.drop_duplicates().reset_index(drop=True)"
   ]
  },
  {
   "cell_type": "code",
   "execution_count": 11,
   "id": "0b2396a2",
   "metadata": {
    "id": "0b2396a2",
    "trusted": false
   },
   "outputs": [
    {
     "name": "stdout",
     "output_type": "stream",
     "text": [
      "0\n"
     ]
    }
   ],
   "source": [
    "# Vuelve a verificar si hay filas duplicadas\n",
    "\n",
    "print(df_instacart.duplicated().sum())"
   ]
  },
  {
   "cell_type": "code",
   "execution_count": 12,
   "id": "f6113ef1",
   "metadata": {
    "id": "f6113ef1",
    "trusted": false
   },
   "outputs": [
    {
     "name": "stdout",
     "output_type": "stream",
     "text": [
      "0\n"
     ]
    }
   ],
   "source": [
    "# Vuelve a verificar únicamente si hay IDs duplicados de pedidos\n",
    "\n",
    "print(df_instacart['order_id'].duplicated().sum())"
   ]
  },
  {
   "cell_type": "markdown",
   "id": "5e8905ae",
   "metadata": {
    "id": "5e8905ae"
   },
   "source": [
    "Describe brevemente tus hallazgos y lo que hiciste con ellos.\n",
    "\n",
    "**Hallazgos:**\n",
    "Se encontraron en todo el df 15 filas duplicadas de pedidos ingresados dos veces al sistema. Después de identificar el problema y la no relevancia de estos datos, se eliminaron y se reestablecieron los indices del nuevo archivo para poder proceder con el analisis sin inconvenientes."
   ]
  },
  {
   "cell_type": "markdown",
   "id": "b99b164e",
   "metadata": {},
   "source": [
    "<div class=\"alert alert-block alert-success\">\n",
    "<b>Comentario de Reviewer</b> <a class=\"tocSkip\"></a>\n",
    "    \n",
    "Bien hecho, dado que todos los duplicados coincidian en el horario y día, es probable que se haya debido a un problema momentaneo en el registro de la data\n",
    "</div>"
   ]
  },
  {
   "cell_type": "markdown",
   "id": "45e6bc46",
   "metadata": {
    "id": "45e6bc46"
   },
   "source": [
    "### `products` data frame"
   ]
  },
  {
   "cell_type": "code",
   "execution_count": 13,
   "id": "5f526b5b-8175-46fa-a0fd-441767d50e64",
   "metadata": {
    "id": "5f526b5b-8175-46fa-a0fd-441767d50e64",
    "trusted": false
   },
   "outputs": [
    {
     "name": "stdout",
     "output_type": "stream",
     "text": [
      "0\n"
     ]
    }
   ],
   "source": [
    "# Verifica si hay filas totalmente duplicadas\n",
    "\n",
    "print(df_products.duplicated().sum())"
   ]
  },
  {
   "cell_type": "code",
   "execution_count": 14,
   "id": "88daa4f4",
   "metadata": {
    "id": "88daa4f4",
    "trusted": false
   },
   "outputs": [
    {
     "name": "stdout",
     "output_type": "stream",
     "text": [
      "49673\n"
     ]
    }
   ],
   "source": [
    "# Revisa únicamente si hay ID de departamentos duplicados\n",
    "print(df_products['department_id'].duplicated().sum())"
   ]
  },
  {
   "cell_type": "code",
   "execution_count": 15,
   "id": "c773f0bf",
   "metadata": {
    "id": "c773f0bf",
    "trusted": false
   },
   "outputs": [
    {
     "name": "stdout",
     "output_type": "stream",
     "text": [
      "1361\n"
     ]
    }
   ],
   "source": [
    "# Revisa únicamente si hay nombres duplicados de productos (convierte los nombres a letras mayúsculas para compararlos mejor)\n",
    "df_products['product_name']= df_products['product_name'].str.upper()\n",
    "print(df_products['product_name'].duplicated().sum())"
   ]
  },
  {
   "cell_type": "code",
   "execution_count": 16,
   "id": "01efd02e",
   "metadata": {
    "id": "01efd02e",
    "trusted": false
   },
   "outputs": [
    {
     "name": "stdout",
     "output_type": "stream",
     "text": [
      "0\n"
     ]
    }
   ],
   "source": [
    "# Revisa si hay nombres duplicados de productos no faltantes\n",
    "products_no_null= df_products[df_products['product_name'].notnull()] \n",
    "print(products_no_null.duplicated().sum())"
   ]
  },
  {
   "cell_type": "markdown",
   "id": "9da8d293",
   "metadata": {
    "id": "9da8d293"
   },
   "source": [
    "**Describe brevemente tus hallazgos y lo que hiciste con ellos**\n",
    "\n",
    "Dentro del df de products se verificaron los datos para saber si tenemos datos duplicados, ya sea por filas completamente duplicadas, departamentos duplicados (lo que es normal, ya que varios productos pueden pertenecer a un departamento). \n",
    "Luego verificamos que los productos no estuvieran duplicados, ya que deberiamos juntarlos para no tener el mismo producto varias veces inventariado, lo cual nos indica que si estan duplicados, pero al filtrar los valores no nulos de la columna, vemos que los únicos valores duplicados eran los nulos, asi que podemos concluir que los productos estan bien inventariados y podemos empezar a procesar los datos.\n"
   ]
  },
  {
   "cell_type": "markdown",
   "id": "60c8cebb",
   "metadata": {},
   "source": [
    "<div class=\"alert alert-block alert-success\">\n",
    "<b>Comentario de Revisor</b> <a class=\"tocSkip\"></a>\n",
    "\n",
    "Muy bien. En este caso, no es anormal encontrar nombres duplicados y no es necesario eliminarlos. Tienen diferente id, por lo tanto, es posible que sean diferentes versiones de un mismo producto.\n",
    "</div>"
   ]
  },
  {
   "cell_type": "markdown",
   "id": "60f30db1",
   "metadata": {
    "id": "60f30db1"
   },
   "source": [
    "### `departments` data frame"
   ]
  },
  {
   "cell_type": "code",
   "execution_count": 17,
   "id": "fb410ad4-0fbf-4b80-bb09-23fdea79afe3",
   "metadata": {
    "id": "fb410ad4-0fbf-4b80-bb09-23fdea79afe3",
    "trusted": false
   },
   "outputs": [
    {
     "name": "stdout",
     "output_type": "stream",
     "text": [
      "0\n"
     ]
    }
   ],
   "source": [
    "# Revisa si hay filas totalmente duplicadas\n",
    "print(df_departments.duplicated().sum())"
   ]
  },
  {
   "cell_type": "code",
   "execution_count": 18,
   "id": "332b12bb",
   "metadata": {
    "id": "332b12bb",
    "trusted": false
   },
   "outputs": [
    {
     "name": "stdout",
     "output_type": "stream",
     "text": [
      "0\n"
     ]
    }
   ],
   "source": [
    "# Revisa únicamente si hay IDs duplicadas de productos\n",
    "\n",
    "# NOTA: No puedo reviar esto ya que esta columna no existe en el df de departamentos.\n",
    "# Las únicas columnas que tengo es departament_id y department\n",
    "# solo puedo verificar si el department_id se encuentra duplicado:\n",
    "print(df_departments['department_id'].duplicated().sum())"
   ]
  },
  {
   "cell_type": "markdown",
   "id": "bd30d78e",
   "metadata": {
    "id": "bd30d78e"
   },
   "source": [
    "**Describe brevemente tus hallazgos y lo que hiciste con ellos**\n",
    "\n",
    "No tenemos filas duplicadas en este df, esta listo para el analisis."
   ]
  },
  {
   "cell_type": "markdown",
   "id": "889349c1",
   "metadata": {
    "id": "889349c1"
   },
   "source": [
    "### `aisles` data frame"
   ]
  },
  {
   "cell_type": "code",
   "execution_count": 19,
   "id": "9da89fb9-4679-40f5-ad0d-c34df753a3f8",
   "metadata": {
    "id": "9da89fb9-4679-40f5-ad0d-c34df753a3f8",
    "trusted": false
   },
   "outputs": [
    {
     "name": "stdout",
     "output_type": "stream",
     "text": [
      "0\n"
     ]
    }
   ],
   "source": [
    "# Revisa si hay filas totalmente duplicadas\n",
    "print(df_aisles.duplicated().sum())"
   ]
  },
  {
   "cell_type": "code",
   "execution_count": 20,
   "id": "da7c2822",
   "metadata": {
    "id": "da7c2822",
    "trusted": false
   },
   "outputs": [
    {
     "name": "stdout",
     "output_type": "stream",
     "text": [
      "0\n"
     ]
    }
   ],
   "source": [
    "# Revisa únicamente si hay IDs duplicadas de pasillos\n",
    "print(df_aisles['aisle_id'].duplicated().sum())"
   ]
  },
  {
   "cell_type": "markdown",
   "id": "ac63826f",
   "metadata": {
    "id": "ac63826f"
   },
   "source": [
    "**Describe brevemente tus hallazgos y lo que hiciste con ellos**\n",
    "\n",
    "No tenemos filas duplicadas en este df, esta listo para el analisis."
   ]
  },
  {
   "cell_type": "markdown",
   "id": "274cd06a",
   "metadata": {
    "id": "274cd06a"
   },
   "source": [
    "### `order_products` data frame"
   ]
  },
  {
   "cell_type": "code",
   "execution_count": 21,
   "id": "52326689-84a8-4b8f-a881-7c68780f62c9",
   "metadata": {
    "id": "52326689-84a8-4b8f-a881-7c68780f62c9",
    "trusted": false
   },
   "outputs": [
    {
     "name": "stdout",
     "output_type": "stream",
     "text": [
      "0\n"
     ]
    }
   ],
   "source": [
    "# Revisa si hay filas totalmente duplicadas\n",
    "print(df_order_products.duplicated().sum())"
   ]
  },
  {
   "cell_type": "code",
   "execution_count": 22,
   "id": "7b861391",
   "metadata": {
    "id": "7b861391",
    "trusted": false
   },
   "outputs": [
    {
     "name": "stdout",
     "output_type": "stream",
     "text": [
      "4094961\n",
      "order_id             0.0\n",
      "product_id           0.0\n",
      "add_to_cart_order    0.0\n",
      "reordered            0.0\n",
      "dtype: float64\n",
      "0\n"
     ]
    }
   ],
   "source": [
    "# Vuelve a verificar si hay cualquier otro duplicado engañoso\n",
    "\n",
    "print(df_order_products['order_id'].duplicated().sum())\n",
    "print(df_order_products[df_order_products.duplicated(['order_id','product_id'])].sum())\n",
    "print(df_order_products.duplicated(['order_id','product_id']).sum())"
   ]
  },
  {
   "cell_type": "markdown",
   "id": "0b890492",
   "metadata": {
    "id": "0b890492"
   },
   "source": [
    "**Describe brevemente tus hallazgos y lo que hiciste con ellos**\n",
    "\n",
    "No hay filas duplicadas en el df order_products. En cuanto a los duplicados por numero de orden, tenemos bastantes (teniendo en cuenta que una sola orden puede tener varios productos, es algo que se esperaria). Pero ya al comparar los datos relacionados con order_id y product_id, vemos que no tenemos duplicados, es decir, podemos continuar trabajando con los datos que tenemos."
   ]
  },
  {
   "cell_type": "markdown",
   "id": "df0ab414",
   "metadata": {},
   "source": [
    "<div class=\"alert alert-block alert-success\">\n",
    "<b>Comentario de Revisor</b> <a class=\"tocSkip\"></a>\n",
    "\n",
    "Buen trabajo en la revisión de los duplicados.\n",
    "</div>"
   ]
  },
  {
   "cell_type": "markdown",
   "id": "1e46de76",
   "metadata": {
    "id": "1e46de76"
   },
   "source": [
    "## Encuentra y elimina los valores ausentes\n",
    "\n",
    "Al trabajar con valores duplicados, pudimos observar que también nos falta investigar valores ausentes:\n",
    "\n",
    "* La columna `'product_name'` de la tabla products.\n",
    "* La columna `'days_since_prior_order'` de la tabla orders.\n",
    "* La columna `'add_to_cart_order'` de la tabla order_productos."
   ]
  },
  {
   "cell_type": "markdown",
   "id": "c0aebd78",
   "metadata": {
    "id": "c0aebd78"
   },
   "source": [
    "### `products` data frame"
   ]
  },
  {
   "cell_type": "code",
   "execution_count": 23,
   "id": "fe4a8b0f",
   "metadata": {
    "id": "fe4a8b0f",
    "trusted": false
   },
   "outputs": [
    {
     "name": "stdout",
     "output_type": "stream",
     "text": [
      "       product_id product_name  aisle_id  department_id\n",
      "37             38          NaN       100             21\n",
      "71             72          NaN       100             21\n",
      "109           110          NaN       100             21\n",
      "296           297          NaN       100             21\n",
      "416           417          NaN       100             21\n",
      "...           ...          ...       ...            ...\n",
      "49552       49553          NaN       100             21\n",
      "49574       49575          NaN       100             21\n",
      "49640       49641          NaN       100             21\n",
      "49663       49664          NaN       100             21\n",
      "49668       49669          NaN       100             21\n",
      "\n",
      "[1258 rows x 4 columns]\n"
     ]
    }
   ],
   "source": [
    "# Encuentra los valores ausentes en la columna 'product_name'\n",
    "product_name_null = df_products[df_products['product_name'].isna()]\n",
    "print(product_name_null)"
   ]
  },
  {
   "cell_type": "markdown",
   "id": "-A6x1AbJhjkp",
   "metadata": {
    "id": "-A6x1AbJhjkp"
   },
   "source": [
    "**Describe brevemente cuáles son tus hallazgos**\n",
    "Tenemos 1258 valores nulos en la columna product_name, lo cual podria complicar el analisis si queremos hacer un conteo total de los productos por ejemplo. Se deberian revisar para borrarlos o modificarlos. por ejemplo, la relacion con el aisle 100 en el department 21."
   ]
  },
  {
   "cell_type": "code",
   "execution_count": 24,
   "id": "e96167bc",
   "metadata": {
    "id": "e96167bc",
    "trusted": false
   },
   "outputs": [
    {
     "name": "stdout",
     "output_type": "stream",
     "text": [
      "       product_id product_name  aisle_id  department_id\n",
      "37             38          NaN       100             21\n",
      "71             72          NaN       100             21\n",
      "109           110          NaN       100             21\n",
      "296           297          NaN       100             21\n",
      "416           417          NaN       100             21\n",
      "...           ...          ...       ...            ...\n",
      "49552       49553          NaN       100             21\n",
      "49574       49575          NaN       100             21\n",
      "49640       49641          NaN       100             21\n",
      "49663       49664          NaN       100             21\n",
      "49668       49669          NaN       100             21\n",
      "\n",
      "[1258 rows x 4 columns]\n"
     ]
    }
   ],
   "source": [
    "#  ¿Todos los nombres de productos ausentes están relacionados con el pasillo con ID 100?\n",
    "name_null_100 = product_name_null.loc[product_name_null['aisle_id']== 100]\n",
    "print(name_null_100)"
   ]
  },
  {
   "cell_type": "markdown",
   "id": "WRpIfXRphpSL",
   "metadata": {
    "id": "WRpIfXRphpSL"
   },
   "source": [
    "**Describe brevemente cuáles son tus hallazgos**\n",
    "\n",
    "Al filtrarlos por aisle_id nos damos cuenta que exactamente todos los valores nulos corresponden al aisle 100."
   ]
  },
  {
   "cell_type": "code",
   "execution_count": 25,
   "id": "8fd0a541",
   "metadata": {
    "id": "8fd0a541",
    "trusted": false
   },
   "outputs": [
    {
     "name": "stdout",
     "output_type": "stream",
     "text": [
      "       product_id product_name  aisle_id  department_id\n",
      "37             38          NaN       100             21\n",
      "71             72          NaN       100             21\n",
      "109           110          NaN       100             21\n",
      "296           297          NaN       100             21\n",
      "416           417          NaN       100             21\n",
      "...           ...          ...       ...            ...\n",
      "49552       49553          NaN       100             21\n",
      "49574       49575          NaN       100             21\n",
      "49640       49641          NaN       100             21\n",
      "49663       49664          NaN       100             21\n",
      "49668       49669          NaN       100             21\n",
      "\n",
      "[1258 rows x 4 columns]\n"
     ]
    }
   ],
   "source": [
    "# ¿Todos los nombres de productos ausentes están relacionados con el departamento con ID 21?\n",
    "dep_null_21 = product_name_null.loc[product_name_null['department_id']== 21]\n",
    "print(dep_null_21)"
   ]
  },
  {
   "cell_type": "markdown",
   "id": "qDpdYn1Fht_I",
   "metadata": {
    "id": "qDpdYn1Fht_I"
   },
   "source": [
    "Asimismo, todos los valores nulos estan relacionados con el departamento 21."
   ]
  },
  {
   "cell_type": "code",
   "execution_count": 26,
   "id": "325c3464",
   "metadata": {
    "id": "325c3464",
    "trusted": false
   },
   "outputs": [
    {
     "name": "stdout",
     "output_type": "stream",
     "text": [
      "       product_id product_name  aisle_id  department_id\n",
      "37             38          NaN       100             21\n",
      "71             72          NaN       100             21\n",
      "109           110          NaN       100             21\n",
      "296           297          NaN       100             21\n",
      "416           417          NaN       100             21\n",
      "...           ...          ...       ...            ...\n",
      "49552       49553          NaN       100             21\n",
      "49574       49575          NaN       100             21\n",
      "49640       49641          NaN       100             21\n",
      "49663       49664          NaN       100             21\n",
      "49668       49669          NaN       100             21\n",
      "\n",
      "[1258 rows x 4 columns]\n"
     ]
    }
   ],
   "source": [
    "# Usa las tablas department y aisle para revisar los datos del pasillo con ID 100 y el departamento con ID 21.\n",
    "dep_and_aisle_null= product_name_null.loc[(product_name_null['department_id']== 21) & (product_name_null['aisle_id']== 100)]\n",
    "print(dep_and_aisle_null)"
   ]
  },
  {
   "cell_type": "markdown",
   "id": "nqhSTUPhhvEJ",
   "metadata": {
    "id": "nqhSTUPhhvEJ"
   },
   "source": [
    "Efectivamente todos los datos nulos son del aisle 100 y department 21."
   ]
  },
  {
   "cell_type": "code",
   "execution_count": 27,
   "id": "6b295120",
   "metadata": {
    "id": "6b295120",
    "trusted": false
   },
   "outputs": [
    {
     "name": "stdout",
     "output_type": "stream",
     "text": [
      "<class 'pandas.core.frame.DataFrame'>\n",
      "RangeIndex: 49694 entries, 0 to 49693\n",
      "Data columns (total 4 columns):\n",
      " #   Column         Non-Null Count  Dtype \n",
      "---  ------         --------------  ----- \n",
      " 0   product_id     49694 non-null  int64 \n",
      " 1   product_name   49694 non-null  object\n",
      " 2   aisle_id       49694 non-null  int64 \n",
      " 3   department_id  49694 non-null  int64 \n",
      "dtypes: int64(3), object(1)\n",
      "memory usage: 1.5+ MB\n"
     ]
    }
   ],
   "source": [
    "# Completa los nombres de productos ausentes con 'Unknown'\n",
    "\n",
    "df_products['product_name'] = df_products['product_name'].fillna('Unknown')\n",
    "df_products.info()\n"
   ]
  },
  {
   "cell_type": "markdown",
   "id": "fc70e5ad",
   "metadata": {
    "id": "fc70e5ad"
   },
   "source": [
    "Se reemplazaron todos los datos NaN por Unknown para poder trabajar con ellos, ya que no sabemos exactamente que paso con los productos del aisle 100/department 21."
   ]
  },
  {
   "cell_type": "markdown",
   "id": "f366ca0a",
   "metadata": {},
   "source": [
    "<div class=\"alert alert-block alert-success\">\n",
    "<b>Comentario de Revisor</b> <a class=\"tocSkip\"></a>\n",
    "\n",
    "Muy bien, debe haber sido un error específico al registrar los datos de ese pasillo y departamento\n",
    "</div>"
   ]
  },
  {
   "cell_type": "markdown",
   "id": "7eb45c86",
   "metadata": {
    "id": "7eb45c86"
   },
   "source": [
    "### `orders` data frame"
   ]
  },
  {
   "cell_type": "code",
   "execution_count": 28,
   "id": "93e41d96",
   "metadata": {
    "id": "93e41d96",
    "trusted": false
   },
   "outputs": [
    {
     "name": "stdout",
     "output_type": "stream",
     "text": [
      "order_id                      0\n",
      "user_id                       0\n",
      "order_number                  0\n",
      "order_dow                     0\n",
      "order_hour_of_day             0\n",
      "days_since_prior_order    28817\n",
      "dtype: int64\n"
     ]
    }
   ],
   "source": [
    "# Encuentra los valores ausentes\n",
    "orders_null = df_instacart.isna()\n",
    "print(orders_null.sum())"
   ]
  },
  {
   "cell_type": "code",
   "execution_count": 29,
   "id": "166e5a86",
   "metadata": {
    "id": "166e5a86",
    "trusted": false
   },
   "outputs": [
    {
     "name": "stdout",
     "output_type": "stream",
     "text": [
      "order_id                  0\n",
      "user_id                   0\n",
      "order_number              0\n",
      "order_dow                 0\n",
      "order_hour_of_day         0\n",
      "days_since_prior_order    0\n",
      "dtype: int64\n"
     ]
    }
   ],
   "source": [
    "# ¿Hay algún valor ausente que no sea el primer pedido del cliente?\n",
    "not_first_order =df_instacart[(df_instacart['order_number']!=1)].isna()\n",
    "print(not_first_order.sum())"
   ]
  },
  {
   "cell_type": "markdown",
   "id": "4e23d089",
   "metadata": {
    "id": "4e23d089"
   },
   "source": [
    "Podemos ver que si separamos los primeros pedidos de cada cliente, no encontramos valores nulos en nuestros datos, es decir, que siempre que se realiza el primer pedido nos da en la columna de cias despues del primer pedido un valor nulo, lo cual es de esperarse."
   ]
  },
  {
   "cell_type": "markdown",
   "id": "69dc9ca4",
   "metadata": {
    "id": "69dc9ca4"
   },
   "source": [
    "### `order_products` data frame"
   ]
  },
  {
   "cell_type": "code",
   "execution_count": 30,
   "id": "b8240253",
   "metadata": {
    "id": "b8240253",
    "trusted": false
   },
   "outputs": [
    {
     "name": "stdout",
     "output_type": "stream",
     "text": [
      "order_id               0\n",
      "product_id             0\n",
      "add_to_cart_order    836\n",
      "reordered              0\n",
      "dtype: int64\n"
     ]
    }
   ],
   "source": [
    "# Encuentra los valores ausentes\n",
    "orders_null_products = df_order_products.isna()\n",
    "print(orders_null_products.sum())"
   ]
  },
  {
   "cell_type": "code",
   "execution_count": 31,
   "id": "9a78e5ee",
   "metadata": {
    "id": "9a78e5ee",
    "trusted": false
   },
   "outputs": [
    {
     "name": "stdout",
     "output_type": "stream",
     "text": [
      "el mínimo de la columna add_to_cart_order es 1.0\n",
      "el máximo de la columna add_to_cart_order es 64.0\n"
     ]
    }
   ],
   "source": [
    "# ¿Cuáles son los valores mínimos y máximos en esta columna?\n",
    "print(f'el mínimo de la columna add_to_cart_order es', df_order_products['add_to_cart_order'].min())\n",
    "\n",
    "print(f'el máximo de la columna add_to_cart_order es', df_order_products['add_to_cart_order'].max())\n"
   ]
  },
  {
   "cell_type": "markdown",
   "id": "-Z2Ja215jW78",
   "metadata": {
    "id": "-Z2Ja215jW78"
   },
   "source": [
    "Todos los valores ausentes del archivo se encuentran en la columna add_to_cart_order. En la cuál los valores se encuentran entre el 1 y el 64 en formato float."
   ]
  },
  {
   "cell_type": "code",
   "execution_count": 32,
   "id": "ab9d0c2b",
   "metadata": {
    "id": "ab9d0c2b",
    "trusted": false
   },
   "outputs": [
    {
     "name": "stdout",
     "output_type": "stream",
     "text": [
      "737        2449164\n",
      "9926       1968313\n",
      "14394      2926893\n",
      "16418      1717990\n",
      "30114      1959075\n",
      "            ...   \n",
      "4505662    1800005\n",
      "4511400    1633337\n",
      "4517562     404157\n",
      "4534112    1673227\n",
      "4535739    1832957\n",
      "Name: order_id, Length: 836, dtype: int64\n"
     ]
    }
   ],
   "source": [
    "# Guarda todas las IDs de pedidos que tengan un valor ausente en 'add_to_cart_order'\n",
    "\n",
    "order_id_null = df_order_products.loc[df_order_products['add_to_cart_order'].isna(),'order_id']\n",
    "print(order_id_null)"
   ]
  },
  {
   "cell_type": "code",
   "execution_count": 33,
   "id": "54c31695",
   "metadata": {
    "id": "54c31695",
    "trusted": false
   },
   "outputs": [
    {
     "name": "stdout",
     "output_type": "stream",
     "text": [
      "         order_id  product_id  add_to_cart_order  reordered\n",
      "267       2094761       31469               57.0          1\n",
      "737       2449164        5068                NaN          0\n",
      "1742      2997021        4920               37.0          0\n",
      "3463       871281       40063               61.0          1\n",
      "3535       171934       36397                7.0          0\n",
      "...           ...         ...                ...        ...\n",
      "4543519   2621907       32018               28.0          1\n",
      "4544672    102236       34688               49.0          0\n",
      "4544708   2256933       41544               21.0          0\n",
      "4544771    180546       12741               46.0          1\n",
      "4544810   2136777       20072               10.0          0\n",
      "\n",
      "[5316 rows x 4 columns]\n",
      "el conteo de productos en cada pedido es:\n",
      "order_id\n",
      "9310        65\n",
      "61355      127\n",
      "102236      95\n",
      "129627      69\n",
      "165801      70\n",
      "          ... \n",
      "2999801     70\n",
      "3125735     86\n",
      "3308010    115\n",
      "3347453     71\n",
      "3383594     69\n",
      "Name: product_id, Length: 70, dtype: int64\n",
      "el mínimo del conteo es: 65\n",
      "el máximo del conteo es: 127\n"
     ]
    }
   ],
   "source": [
    "# ¿Todos los pedidos con valores ausentes tienen más de 64 productos?\n",
    "# Agrupa todos los pedidos con datos ausentes por su ID de pedido.\n",
    "orders_with_null = df_order_products[df_order_products['order_id'].isin(order_id_null)]\n",
    "print(orders_with_null)\n",
    "# Cuenta el número de 'product_id' en cada pedido y revisa el valor mínimo del conteo.\n",
    "product_counts= orders_with_null.groupby('order_id')['product_id'].count()\n",
    "print('el conteo de productos en cada pedido es:')\n",
    "print(product_counts)\n",
    "print('el mínimo del conteo es:', product_counts.min())\n",
    "print('el máximo del conteo es:', product_counts.max())"
   ]
  },
  {
   "cell_type": "markdown",
   "id": "p9V6pddtjglj",
   "metadata": {
    "id": "p9V6pddtjglj"
   },
   "source": [
    "**Conclusión corregida**\n",
    "Primero filtramos todos los que tienen un valor nulo, luego filtramos los productos de esos pedidos por numero de orden, los contamos y sacamos sus mínimos y máximos. \n",
    "Teniendo en cuenta esto vemos que el mínimo de productos en una orden es de 65, es decir, que puede ser que el sistema tenga un límite hasta 64 que no le permite seguir registrando el conteo cuando lo sobrepasa y por eso nos arroja valores nulos. Sin embargo el conteo real es de hasta 127 productos en un pedido."
   ]
  },
  {
   "cell_type": "code",
   "execution_count": 34,
   "id": "7a987d08",
   "metadata": {
    "id": "7a987d08",
    "trusted": false
   },
   "outputs": [
    {
     "name": "stdout",
     "output_type": "stream",
     "text": [
      "<class 'pandas.core.frame.DataFrame'>\n",
      "RangeIndex: 4545007 entries, 0 to 4545006\n",
      "Data columns (total 4 columns):\n",
      " #   Column             Non-Null Count    Dtype\n",
      "---  ------             --------------    -----\n",
      " 0   order_id           4545007 non-null  int64\n",
      " 1   product_id         4545007 non-null  int64\n",
      " 2   add_to_cart_order  4545007 non-null  int64\n",
      " 3   reordered          4545007 non-null  int64\n",
      "dtypes: int64(4)\n",
      "memory usage: 138.7 MB\n"
     ]
    }
   ],
   "source": [
    "# Remplaza los valores ausentes en la columna 'add_to_cart? con 999 y convierte la columna al tipo entero.\n",
    "df_order_products['add_to_cart_order'] = df_order_products['add_to_cart_order'].fillna(999).astype(int)\n",
    "df_order_products.info(show_counts=True)"
   ]
  },
  {
   "cell_type": "markdown",
   "id": "fea4bcc7",
   "metadata": {
    "id": "fea4bcc7"
   },
   "source": [
    "Ya se cambiaron los valores ausentes por un 999 para estar seguros de que la fila cuente sin que afecte su procesamiento e igualmente se pasaron a números enteros ya que no tiene sentido que se traten como flotantes para su análisis."
   ]
  },
  {
   "cell_type": "markdown",
   "id": "RnplPFY1gSrb",
   "metadata": {
    "id": "RnplPFY1gSrb"
   },
   "source": [
    "## Conclusiones\n",
    "\n",
    "Se revisó cada uno de los df para estandarizar los datos, empezando por las filas duplicadas, identificandolas, tratando de encontrar la razon de su doble registro y modificandolas para el análisis. Además, se idenitficaron los valores ausentes y se reemplazaron por valores con sentido para su procesamiento. POr ùltimo, se estandarizo el tipo de dato para las columnas a las cuales se les habia asignado un tipo que no correspondia. \n",
    "Los datos ya se encuentran estandarizaos y listos para su análisis."
   ]
  },
  {
   "cell_type": "markdown",
   "id": "UjrOIwTcz3ri",
   "metadata": {
    "id": "UjrOIwTcz3ri"
   },
   "source": [
    "# Paso 3. Análisis de los datos\n",
    "\n",
    "Una vez los datos estén procesados y listos, haz el siguiente análisis:"
   ]
  },
  {
   "cell_type": "markdown",
   "id": "turkish-kidney",
   "metadata": {
    "id": "turkish-kidney"
   },
   "source": [
    "# [A] Fácil (deben completarse todos para aprobar)\n",
    "\n",
    "1. Verifica que los valores en las columnas `'order_hour_of_day'` y `'order_dow'` en la tabla orders sean razonables (es decir, `'order_hour_of_day'` oscile entre 0 y 23 y `'order_dow'` oscile entre 0 y 6).\n",
    "2. Crea un gráfico que muestre el número de personas que hacen pedidos dependiendo de la hora del día.\n",
    "3. Crea un gráfico que muestre qué día de la semana la gente hace sus compras.\n",
    "4. Crea un gráfico que muestre el tiempo que la gente espera hasta hacer su siguiente pedido, y comenta sobre los valores mínimos y máximos."
   ]
  },
  {
   "cell_type": "markdown",
   "id": "short-capability",
   "metadata": {
    "id": "short-capability"
   },
   "source": [
    "### [A1] Verifica que los valores sean sensibles"
   ]
  },
  {
   "cell_type": "code",
   "execution_count": 35,
   "id": "growing-fruit",
   "metadata": {
    "id": "growing-fruit",
    "trusted": false
   },
   "outputs": [
    {
     "name": "stdout",
     "output_type": "stream",
     "text": [
      "0\n",
      "23\n"
     ]
    }
   ],
   "source": [
    "print(df_instacart['order_hour_of_day'].min())\n",
    "print(df_instacart['order_hour_of_day'].max())"
   ]
  },
  {
   "cell_type": "code",
   "execution_count": 36,
   "id": "accessory-malaysia",
   "metadata": {
    "id": "accessory-malaysia",
    "trusted": false
   },
   "outputs": [
    {
     "name": "stdout",
     "output_type": "stream",
     "text": [
      "0\n",
      "6\n"
     ]
    }
   ],
   "source": [
    "print(df_instacart['order_dow'].min())\n",
    "print(df_instacart['order_dow'].max())"
   ]
  },
  {
   "cell_type": "markdown",
   "id": "hmR2GNQ6lCsX",
   "metadata": {
    "id": "hmR2GNQ6lCsX"
   },
   "source": [
    "Todos los valores en ambas columnas se encuentran en un rango razonable."
   ]
  },
  {
   "cell_type": "markdown",
   "id": "c85eeba6",
   "metadata": {},
   "source": [
    "<div class=\"alert alert-block alert-success\">\n",
    "<b>Comentario de Revisor</b> <a class=\"tocSkip\"></a>\n",
    "\n",
    "Muy bien, correcto\n",
    "</div>"
   ]
  },
  {
   "cell_type": "markdown",
   "id": "a6743a70",
   "metadata": {
    "id": "a6743a70"
   },
   "source": [
    "### [A2] Para cada hora del día, ¿cuántas personas hacen órdenes?"
   ]
  },
  {
   "cell_type": "code",
   "execution_count": 37,
   "id": "a36cca27",
   "metadata": {
    "id": "a36cca27",
    "trusted": false
   },
   "outputs": [
    {
     "data": {
      "image/png": "[encoded data removed]",
      "text/plain": [
       "<Figure size 1000x500 with 1 Axes>"
      ]
     },
     "metadata": {},
     "output_type": "display_data"
    }
   ],
   "source": [
    "from matplotlib import pyplot as plt\n",
    "\n",
    "orders_per_hour= df_instacart.groupby('order_hour_of_day')['order_id'].count().sort_index()\n",
    "orders_per_hour.plot(kind='bar',\n",
    "                     ylabel= 'Cantidad de órdenes',\n",
    "                    xlabel='hora del día',\n",
    "                    title= 'Cantidad de órdenes por hora del día',\n",
    "                    figsize=[10,5])\n",
    "plt.show()"
   ]
  },
  {
   "cell_type": "markdown",
   "id": "11270eed",
   "metadata": {
    "id": "11270eed"
   },
   "source": [
    "La mayor cantidad de pedidos se realizan entre las 10 y las 16 horas, mientras que en la noche de 0 a 5 de la mañana se hacen muy pocos pedidos."
   ]
  },
  {
   "cell_type": "markdown",
   "id": "2e18dd2e",
   "metadata": {},
   "source": [
    "<div class=\"alert alert-block alert-success\">\n",
    "<b>Comentario de Revisor</b> <a class=\"tocSkip\"></a>\n",
    "\n",
    "Muy bien, correcto\n",
    "</div>"
   ]
  },
  {
   "cell_type": "markdown",
   "id": "documented-command",
   "metadata": {
    "id": "documented-command"
   },
   "source": [
    "### [A3] ¿Qué día de la semana compran víveres las personas?"
   ]
  },
  {
   "cell_type": "code",
   "execution_count": 38,
   "id": "chief-digit",
   "metadata": {
    "id": "chief-digit",
    "trusted": false
   },
   "outputs": [
    {
     "data": {
      "image/png": "[encoded data removed]",
      "text/plain": [
       "<Figure size 1000x500 with 1 Axes>"
      ]
     },
     "metadata": {},
     "output_type": "display_data"
    },
    {
     "data": {
      "text/plain": [
       "-0.0014500588401290583"
      ]
     },
     "execution_count": 38,
     "metadata": {},
     "output_type": "execute_result"
    }
   ],
   "source": [
    "orders_per_day = df_instacart.groupby('order_dow')['order_id'].count().sort_index()\n",
    "days = pd.Series(orders_per_day.index).replace({\n",
    "    0: 'Domingo',\n",
    "    1: 'Lunes',\n",
    "    2: 'Martes',\n",
    "    3: 'Miércoles',\n",
    "    4: 'Jueves',\n",
    "    5: 'Viernes',\n",
    "    6: 'Sábado'})\n",
    "orders_per_day.index = days\n",
    "orders_per_day.plot(kind='bar',\n",
    "                    ylabel= 'Cantidad de órdenes',\n",
    "                    xlabel='día de la semana',\n",
    "                    title= 'Cantidad de órdenes por día de la semana',\n",
    "                    figsize=[10,5],\n",
    "                   rot= 0)\n",
    "plt.show()\n",
    "df_instacart['order_dow'].corr(df_instacart['order_id'])"
   ]
  },
  {
   "cell_type": "markdown",
   "id": "dominant-lightning",
   "metadata": {
    "id": "dominant-lightning"
   },
   "source": [
    "En la gráfica podemos ver que la diferencia entre los dias es mínima y se aumenta la cantidad de pedidos los domingos y lunes."
   ]
  },
  {
   "cell_type": "markdown",
   "id": "17f8a41b",
   "metadata": {},
   "source": [
    "<div class=\"alert alert-block alert-success\">\n",
    "<b>Comentario de Revisor</b> <a class=\"tocSkip\"></a>\n",
    "\n",
    "Muy bien, correcto\n",
    "</div>"
   ]
  },
  {
   "cell_type": "markdown",
   "id": "cutting-concert",
   "metadata": {
    "id": "cutting-concert"
   },
   "source": [
    "### [A4] ¿Cuánto tiempo esperan las personas hasta hacer otro pedido? Comenta sobre los valores mínimos y máximos."
   ]
  },
  {
   "cell_type": "code",
   "execution_count": 39,
   "id": "c231f523",
   "metadata": {
    "id": "c231f523",
    "trusted": false
   },
   "outputs": [
    {
     "name": "stdout",
     "output_type": "stream",
     "text": [
      "count    450135.000000\n",
      "mean         11.101814\n",
      "std           9.190004\n",
      "min           0.000000\n",
      "25%           4.000000\n",
      "50%           7.000000\n",
      "75%          15.000000\n",
      "max          30.000000\n",
      "Name: days_since_prior_order, dtype: float64\n"
     ]
    },
    {
     "data": {
      "image/png": "[encoded data removed]",
      "text/plain": [
       "<Figure size 1500x500 with 1 Axes>"
      ]
     },
     "metadata": {},
     "output_type": "display_data"
    }
   ],
   "source": [
    "print(df_instacart['days_since_prior_order'].describe())\n",
    "df_instacart['days_since_prior_order'].plot(kind='hist', bins=30, \n",
    "                                            title='Tiempo entre pedidos',\n",
    "                                            color='orange', grid = True, \n",
    "                                           figsize=[15,5])\n",
    "plt.xlabel('Días hasta el siguiente pedido')\n",
    "plt.ylabel('Cantidad de órdenes')\n",
    "plt.show()"
   ]
  },
  {
   "cell_type": "markdown",
   "id": "discrete-vertex",
   "metadata": {
    "id": "discrete-vertex"
   },
   "source": [
    "Con ayuda de los datos estadísticos y la gráfica, podemos ver que la diferencia de días se encuentra entre los 0 y los 30 días, donde la mayor cantidad de pedidos en la plataforma se realizan cada 30 días y con una incidencia particular a los 7 días que nos indica que la mayoría de los usuarios hacen sus pedidos una vez a la semana o una vez al mes."
   ]
  },
  {
   "cell_type": "markdown",
   "id": "5ece8957",
   "metadata": {},
   "source": [
    "<div class=\"alert alert-block alert-success\">\n",
    "<b>Comentario de Revisor</b> <a class=\"tocSkip\"></a>\n",
    "\n",
    "Muy bien, el gráfico es correcto. Nota que el tiempo de 30 días es muy alto. Probablemente se debe a que el sistema no registra más de 30 días entre compras y todas las que son de más de ese tiempo las guarda como 30.\n",
    "    \n",
    "</div>"
   ]
  },
  {
   "cell_type": "markdown",
   "id": "tight-staff",
   "metadata": {
    "id": "tight-staff"
   },
   "source": [
    "# [B] Intermedio (deben completarse todos para aprobar)\n",
    "\n",
    "1. ¿Existe alguna diferencia entre las distribuciones `'order_hour_of_day'` de los miércoles y los sábados? Traza gráficos de barra de `'order_hour_of_day'` para ambos días en la misma figura y describe las diferencias que observes.\n",
    "2. Grafica la distribución para el número de órdenes que hacen los clientes (es decir, cuántos clientes hicieron solo 1 pedido, cuántos hicieron 2, cuántos 3, y así sucesivamente...).\n",
    "3. ¿Cuáles son los 20 principales productos que se piden con más frecuencia (muestra su identificación y nombre)?"
   ]
  },
  {
   "cell_type": "markdown",
   "id": "packed-classic",
   "metadata": {
    "id": "packed-classic"
   },
   "source": [
    "### [B1] Diferencia entre miércoles y sábados para  `'order_hour_of_day'`. Traza gráficos de barra para los dos días y describe las diferencias que veas."
   ]
  },
  {
   "cell_type": "code",
   "execution_count": 57,
   "id": "d89b8403",
   "metadata": {
    "id": "d89b8403",
    "trusted": false
   },
   "outputs": [
    {
     "data": {
      "image/png": "[encoded data removed]",
      "text/plain": [
       "<Figure size 640x480 with 1 Axes>"
      ]
     },
     "metadata": {},
     "output_type": "display_data"
    }
   ],
   "source": [
    "wed = df_instacart[df_instacart['order_dow'] == 3]['order_hour_of_day'].value_counts().sort_index()\n",
    "\n",
    "sat = df_instacart[df_instacart['order_dow'] == 6]['order_hour_of_day'].value_counts().sort_index()\n",
    "\n",
    "compara = pd.DataFrame({'Miércoles': wed,'Sábado': sat})\n",
    "compara.plot(kind='bar', color=['red','green'], alpha=0.7)\n",
    "\n",
    "\n",
    "plt.title('Ordenes por hora: Miércoles vs. Sábado')\n",
    "plt.xlabel('Hora del día')\n",
    "plt.ylabel('Cantidad de órdenes')\n",
    "plt.grid(True)\n",
    "plt.legend(['miércoles','sábado'])\n",
    "plt.show()"
   ]
  },
  {
   "cell_type": "markdown",
   "id": "49618d15",
   "metadata": {
    "id": "94e54e8a"
   },
   "source": [
    "Para los días miercoles y sabado entre las horas del día no se ven diferencias significativas en cuanto a la cantidad de pedidos realizados. Sin embargo, se refleja que hay se hacen más pedidos los sabados al medio día."
   ]
  },
  {
   "cell_type": "markdown",
   "id": "e3891143",
   "metadata": {
    "id": "e3891143"
   },
   "source": [
    "### [B2] ¿Cuál es la distribución para el número de pedidos por cliente?"
   ]
  },
  {
   "cell_type": "code",
   "execution_count": 41,
   "id": "d8c26c23",
   "metadata": {
    "id": "d8c26c23",
    "trusted": false
   },
   "outputs": [
    {
     "data": {
      "image/png": "[encoded data removed]",
      "text/plain": [
       "<Figure size 640x480 with 1 Axes>"
      ]
     },
     "metadata": {},
     "output_type": "display_data"
    }
   ],
   "source": [
    "orders_per_user = df_instacart['user_id'].value_counts()\n",
    "orders_per_user.plot(kind='hist', bins=35, color='pink', title='Número de pedidos por cliente')\n",
    "plt.xlabel('Cantidad de pedidos')\n",
    "plt.ylabel('Número de clientes')\n",
    "plt.grid(True)\n",
    "plt.show()"
   ]
  },
  {
   "cell_type": "code",
   "execution_count": 42,
   "id": "66b5539f",
   "metadata": {
    "trusted": false
   },
   "outputs": [
    {
     "name": "stdout",
     "output_type": "stream",
     "text": [
      "count    157437.000000\n",
      "mean          3.042182\n",
      "std           2.746842\n",
      "min           1.000000\n",
      "25%           1.000000\n",
      "50%           2.000000\n",
      "75%           4.000000\n",
      "max          28.000000\n",
      "Name: user_id, dtype: float64\n"
     ]
    }
   ],
   "source": [
    "print(orders_per_user.describe())"
   ]
  },
  {
   "cell_type": "markdown",
   "id": "d2eff7d5",
   "metadata": {
    "id": "d2eff7d5"
   },
   "source": [
    "La mayoría de clientes hacen entre 1 y 3 pedidos, con una media de 3 pedidos por usuario."
   ]
  },
  {
   "cell_type": "markdown",
   "id": "8e447b33",
   "metadata": {},
   "source": [
    "<div class=\"alert alert-block alert-success\">\n",
    "<b>Comentario de Revisor</b> <a class=\"tocSkip\"></a>\n",
    "\n",
    "Muy bien, correcto\n",
    "    \n",
    "</div>"
   ]
  },
  {
   "cell_type": "markdown",
   "id": "54a0319c",
   "metadata": {
    "id": "54a0319c"
   },
   "source": [
    "### [B3] ¿Cuáles son los 20 productos más populares (muestra su ID y nombre)?"
   ]
  },
  {
   "cell_type": "code",
   "execution_count": 43,
   "id": "exterior-arizona",
   "metadata": {
    "id": "exterior-arizona",
    "scrolled": true,
    "trusted": false
   },
   "outputs": [
    {
     "name": "stdout",
     "output_type": "stream",
     "text": [
      "<class 'pandas.core.frame.DataFrame'>\n",
      "Int64Index: 4545007 entries, 0 to 4545006\n",
      "Data columns (total 7 columns):\n",
      " #   Column             Dtype \n",
      "---  ------             ----- \n",
      " 0   order_id           int64 \n",
      " 1   product_id         int64 \n",
      " 2   add_to_cart_order  int64 \n",
      " 3   reordered          int64 \n",
      " 4   product_name       object\n",
      " 5   aisle_id           int64 \n",
      " 6   department_id      int64 \n",
      "dtypes: int64(6), object(1)\n",
      "memory usage: 277.4+ MB\n"
     ]
    }
   ],
   "source": [
    "df_products_merged =df_order_products.merge(df_products,\n",
    "                             on='product_id')\n",
    "df_products_merged.info()"
   ]
  },
  {
   "cell_type": "code",
   "execution_count": 44,
   "id": "universal-facial",
   "metadata": {
    "id": "universal-facial",
    "trusted": false
   },
   "outputs": [
    {
     "name": "stdout",
     "output_type": "stream",
     "text": [
      "product_id  product_name            \n",
      "24852       BANANA                      66050\n",
      "13176       BAG OF ORGANIC BANANAS      53297\n",
      "21137       ORGANIC STRAWBERRIES        37039\n",
      "21903       ORGANIC BABY SPINACH        33971\n",
      "47209       ORGANIC HASS AVOCADO        29773\n",
      "47766       ORGANIC AVOCADO             24689\n",
      "47626       LARGE LEMON                 21495\n",
      "16797       STRAWBERRIES                20018\n",
      "26209       LIMES                       19690\n",
      "27845       ORGANIC WHOLE MILK          19600\n",
      "27966       ORGANIC RASPBERRIES         19197\n",
      "22935       ORGANIC YELLOW ONION        15898\n",
      "24964       ORGANIC GARLIC              15292\n",
      "45007       ORGANIC ZUCCHINI            14584\n",
      "39275       ORGANIC BLUEBERRIES         13879\n",
      "49683       CUCUMBER KIRBY              13675\n",
      "28204       ORGANIC FUJI APPLE          12544\n",
      "5876        ORGANIC LEMON               12232\n",
      "8277        APPLE HONEYCRISP ORGANIC    11993\n",
      "40706       ORGANIC GRAPE TOMATOES      11781\n",
      "Name: order_id, dtype: int64\n"
     ]
    }
   ],
   "source": [
    "fav_products= df_products_merged.groupby(['product_id','product_name'])['order_id'].count().sort_values(ascending=False)\n",
    "print(fav_products.head(20))"
   ]
  },
  {
   "cell_type": "markdown",
   "id": "7df00f47",
   "metadata": {
    "id": "7df00f47"
   },
   "source": [
    "Para poder obtener los nombres de los productos fue necesario combinar los datos del DataFrames de los pedidos con el de los porductos. \n",
    "Luego al observar la cantidad de veces que se repite cada producto en las ordenes y organizarlos de forma descendente vemos que los productos más solicitados son las frutas y los productos orgánicos. "
   ]
  },
  {
   "cell_type": "markdown",
   "id": "gross-theme",
   "metadata": {
    "id": "gross-theme"
   },
   "source": [
    "# [C] Difícil (deben completarse todos para aprobar)\n",
    "\n",
    "1. ¿Cuántos artículos suelen comprar las personas en un pedido? ¿Cómo es la distribución?\n",
    "2. ¿Cuáles son los 20 principales artículos que vuelven a pedirse con mayor frecuencia (muestra sus nombres e IDs de los productos)?\n",
    "3. Para cada producto, ¿cuál es la tasa de repetición del pedido (número de repeticiones de pedido/total de pedidos?\n",
    "4. Para cada cliente, ¿qué proporción de los productos que pidió ya los había pedido? Calcula la tasa de repetición de pedido para cada usuario en lugar de para cada producto.\n",
    "5. ¿Cuáles son los 20 principales artículos que la gente pone primero en sus carritos (muestra las IDs de los productos, sus nombres, y el número de veces en que fueron el primer artículo en añadirse al carrito)?"
   ]
  },
  {
   "cell_type": "markdown",
   "id": "romantic-deposit",
   "metadata": {
    "id": "romantic-deposit"
   },
   "source": [
    "### [C1] ¿Cuántos artículos compran normalmente las personas en un pedido? ¿Cómo es la distribución?"
   ]
  },
  {
   "cell_type": "code",
   "execution_count": 45,
   "id": "virtual-punch",
   "metadata": {
    "id": "virtual-punch",
    "trusted": false
   },
   "outputs": [
    {
     "data": {
      "text/plain": [
       "count    450046.000000\n",
       "mean         10.098983\n",
       "std           7.540206\n",
       "min           1.000000\n",
       "25%           5.000000\n",
       "50%           8.000000\n",
       "75%          14.000000\n",
       "max         127.000000\n",
       "Name: product_id, dtype: float64"
      ]
     },
     "execution_count": 45,
     "metadata": {},
     "output_type": "execute_result"
    }
   ],
   "source": [
    "products_per_order = df_order_products.groupby('order_id')['product_id'].count()\n",
    "products_per_order.describe()"
   ]
  },
  {
   "cell_type": "code",
   "execution_count": 46,
   "id": "dd5b4c8c",
   "metadata": {
    "trusted": false
   },
   "outputs": [
    {
     "data": {
      "image/png": "[encoded data removed]",
      "text/plain": [
       "<Figure size 640x480 with 1 Axes>"
      ]
     },
     "metadata": {},
     "output_type": "display_data"
    }
   ],
   "source": [
    "products_per_order.plot(kind='hist',bins=30, color='aqua', title='Distribución de artículos por pedido')\n",
    "plt.xlabel('Número de productos por pedido')\n",
    "plt.ylabel('Cantidad de veces comprado')\n",
    "plt.show()"
   ]
  },
  {
   "cell_type": "markdown",
   "id": "designed-mortality",
   "metadata": {
    "id": "designed-mortality"
   },
   "source": [
    "El promedio de la cantidad de artículos comprados por pedido es de 10, con un pedido maximo de 127 productos pero muy alejados de la mayoria de pedidos."
   ]
  },
  {
   "cell_type": "markdown",
   "id": "5e6b5537",
   "metadata": {
    "id": "5e6b5537"
   },
   "source": [
    "### [C2] ¿Cuáles son los 20 principales artículos que vuelven a pedirse con mayor frecuencia (muestra sus nombres e IDs de los productos)?"
   ]
  },
  {
   "cell_type": "code",
   "execution_count": 47,
   "id": "9374e55a",
   "metadata": {
    "id": "9374e55a",
    "scrolled": true,
    "trusted": false
   },
   "outputs": [
    {
     "name": "stdout",
     "output_type": "stream",
     "text": [
      "product_id  product_name            \n",
      "24852       BANANA                      55763\n",
      "13176       BAG OF ORGANIC BANANAS      44450\n",
      "21137       ORGANIC STRAWBERRIES        28639\n",
      "21903       ORGANIC BABY SPINACH        26233\n",
      "47209       ORGANIC HASS AVOCADO        23629\n",
      "47766       ORGANIC AVOCADO             18743\n",
      "27845       ORGANIC WHOLE MILK          16251\n",
      "47626       LARGE LEMON                 15044\n",
      "27966       ORGANIC RASPBERRIES         14748\n",
      "16797       STRAWBERRIES                13945\n",
      "26209       LIMES                       13327\n",
      "22935       ORGANIC YELLOW ONION        11145\n",
      "24964       ORGANIC GARLIC              10411\n",
      "45007       ORGANIC ZUCCHINI            10076\n",
      "49683       CUCUMBER KIRBY               9538\n",
      "28204       ORGANIC FUJI APPLE           8989\n",
      "8277        APPLE HONEYCRISP ORGANIC     8836\n",
      "39275       ORGANIC BLUEBERRIES          8799\n",
      "5876        ORGANIC LEMON                8412\n",
      "49235       ORGANIC HALF & HALF          8389\n",
      "Name: reordered, dtype: int64\n"
     ]
    }
   ],
   "source": [
    "fav_products_reordered= df_products_merged[df_products_merged['reordered']==1]\n",
    "fav_products_reordered= fav_products_reordered.groupby(['product_id','product_name'])['reordered'].count().sort_values(ascending=False)\n",
    "\n",
    "print(fav_products_reordered.head(20))"
   ]
  },
  {
   "cell_type": "markdown",
   "id": "80e70c74",
   "metadata": {
    "id": "80e70c74"
   },
   "source": [
    "Inicialmente debemos filtrar los productos que se volvieron a ordenar y a simple vista se puede ver que tiene mucha relacion con los 20 productos mas solicitados en general en la plataforma."
   ]
  },
  {
   "cell_type": "markdown",
   "id": "9d312b14",
   "metadata": {
    "id": "9d312b14"
   },
   "source": [
    "### [C3] Para cada producto, ¿cuál es la proporción de las veces que se pide y que se vuelve a pedir?"
   ]
  },
  {
   "cell_type": "code",
   "execution_count": 48,
   "id": "8ae9f4b1",
   "metadata": {
    "id": "8ae9f4b1",
    "trusted": false
   },
   "outputs": [
    {
     "name": "stdout",
     "output_type": "stream",
     "text": [
      "product_id  product_name                                                     \n",
      "1           CHOCOLATE SANDWICH COOKIES                                           280\n",
      "2           ALL-SEASONS SALT                                                      11\n",
      "3           ROBUST GOLDEN UNSWEETENED OOLONG TEA                                  42\n",
      "4           SMART ONES CLASSIC FAVORITES MINI RIGATONI WITH VODKA CREAM SAUCE     49\n",
      "7           PURE COCONUT WATER WITH ORANGE                                         2\n",
      "                                                                                ... \n",
      "49690       HIGH PERFORMANCE ENERGY DRINK                                          5\n",
      "49691       ORIGINAL PANCAKE & WAFFLE MIX                                         72\n",
      "49692       ORGANIC INSTANT OATMEAL LIGHT MAPLE BROWN SUGAR                       12\n",
      "49693       SPRING WATER BODY WASH                                                25\n",
      "49694       BURRITO- STEAK & CHEESE                                                9\n",
      "Name: reordered, Length: 45573, dtype: int64\n"
     ]
    }
   ],
   "source": [
    "total_orders=df_products_merged.groupby(['product_id','product_name'])['reordered'].count()\n",
    "print(total_orders)"
   ]
  },
  {
   "cell_type": "code",
   "execution_count": 49,
   "id": "103e7fe1",
   "metadata": {
    "id": "103e7fe1",
    "trusted": false
   },
   "outputs": [
    {
     "name": "stdout",
     "output_type": "stream",
     "text": [
      "product_id  product_name                                                     \n",
      "1           CHOCOLATE SANDWICH COOKIES                                           158\n",
      "2           ALL-SEASONS SALT                                                       0\n",
      "3           ROBUST GOLDEN UNSWEETENED OOLONG TEA                                  31\n",
      "4           SMART ONES CLASSIC FAVORITES MINI RIGATONI WITH VODKA CREAM SAUCE     25\n",
      "7           PURE COCONUT WATER WITH ORANGE                                         1\n",
      "                                                                                ... \n",
      "49690       HIGH PERFORMANCE ENERGY DRINK                                          4\n",
      "49691       ORIGINAL PANCAKE & WAFFLE MIX                                         31\n",
      "49692       ORGANIC INSTANT OATMEAL LIGHT MAPLE BROWN SUGAR                        5\n",
      "49693       SPRING WATER BODY WASH                                                11\n",
      "49694       BURRITO- STEAK & CHEESE                                                3\n",
      "Name: reordered, Length: 45573, dtype: int64\n"
     ]
    }
   ],
   "source": [
    "reordered_sum= df_products_merged.groupby(['product_id','product_name'])['reordered'].sum()\n",
    "print(reordered_sum)"
   ]
  },
  {
   "cell_type": "code",
   "execution_count": 50,
   "id": "social-individual",
   "metadata": {
    "id": "social-individual",
    "scrolled": true,
    "trusted": false
   },
   "outputs": [
    {
     "name": "stdout",
     "output_type": "stream",
     "text": [
      "product_id  product_name                                                    \n",
      "14721       BONE STRENGTH TAKE CARE                                             1.0\n",
      "20949       VANILLA SANDWICH COOKIES                                            1.0\n",
      "6723        PALMIERS- PETITE                                                    1.0\n",
      "6732        NATURALLY SPARKLING MINERAL WATER                                   1.0\n",
      "45088       CALIFORNIA DILL POLLEN & GARLIC GOAT CHEESE & OLIVE OIL INFUSION    1.0\n",
      "Name: reordered, dtype: float64\n"
     ]
    }
   ],
   "source": [
    "reorder_ratio = reordered_sum/total_orders\n",
    "print(reorder_ratio.sort_values(ascending=False).head())"
   ]
  },
  {
   "cell_type": "code",
   "execution_count": 51,
   "id": "8297778d",
   "metadata": {
    "trusted": false
   },
   "outputs": [
    {
     "data": {
      "image/png": "[encoded data removed]",
      "text/plain": [
       "<Figure size 640x480 with 1 Axes>"
      ]
     },
     "metadata": {},
     "output_type": "display_data"
    }
   ],
   "source": [
    "reorder_ratio.plot(kind='hist', bins=30, color= 'violet', title='proporción de las veces que se reordena un producto')\n",
    "plt.xlabel('proporción de veces que se reordenaron')\n",
    "plt.ylabel('Cantidad de productos que se reordenaron')\n",
    "plt.show()"
   ]
  },
  {
   "cell_type": "markdown",
   "id": "I10dEIAyldcO",
   "metadata": {
    "id": "I10dEIAyldcO"
   },
   "source": [
    "Según los resultados podemos ver que, por su cercanía al 0, la mayoría de productos los piden una sola vez. Menos del 2% de los productos se reordenan siempre. Esto quiere decir que el cliente es leal al producto. Para los demás productos podría hacerse algún tipo de promoción o propaganda para que los reordenen con más frecuencia."
   ]
  },
  {
   "cell_type": "markdown",
   "id": "subject-boxing",
   "metadata": {
    "id": "subject-boxing"
   },
   "source": [
    "### [C4] Para cada cliente, ¿qué proporción de sus productos ya los había pedido?"
   ]
  },
  {
   "cell_type": "code",
   "execution_count": 52,
   "id": "medical-couple",
   "metadata": {
    "id": "medical-couple",
    "scrolled": true,
    "trusted": false
   },
   "outputs": [
    {
     "name": "stdout",
     "output_type": "stream",
     "text": [
      "<class 'pandas.core.frame.DataFrame'>\n",
      "Int64Index: 4545007 entries, 0 to 4545006\n",
      "Data columns (total 12 columns):\n",
      " #   Column                  Dtype  \n",
      "---  ------                  -----  \n",
      " 0   order_id                int64  \n",
      " 1   user_id                 int64  \n",
      " 2   order_number            int64  \n",
      " 3   order_dow               int64  \n",
      " 4   order_hour_of_day       int64  \n",
      " 5   days_since_prior_order  float64\n",
      " 6   product_id              int64  \n",
      " 7   add_to_cart_order       int64  \n",
      " 8   reordered               int64  \n",
      " 9   product_name            object \n",
      " 10  aisle_id                int64  \n",
      " 11  department_id           int64  \n",
      "dtypes: float64(1), int64(10), object(1)\n",
      "memory usage: 450.8+ MB\n"
     ]
    }
   ],
   "source": [
    "df_order_merged =df_instacart.merge(df_products_merged,\n",
    "                             on='order_id')\n",
    "df_order_merged.info()"
   ]
  },
  {
   "cell_type": "code",
   "execution_count": 53,
   "id": "8892e4b4",
   "metadata": {
    "id": "8892e4b4",
    "scrolled": true,
    "trusted": false
   },
   "outputs": [
    {
     "data": {
      "image/png": "[encoded data removed]",
      "text/plain": [
       "<Figure size 640x480 with 1 Axes>"
      ]
     },
     "metadata": {},
     "output_type": "display_data"
    }
   ],
   "source": [
    "\n",
    "client_reorder_ratio = df_order_merged.groupby('user_id')['reordered'].mean()\n",
    "client_reorder_ratio.plot(kind='hist', bins = 30, color= 'gold',title='Proporción de pedidos reordenados por cliente')\n",
    "plt.xlabel('Proporción de productos reordenados')\n",
    "plt.ylabel('Número de clientes')\n",
    "plt.show()"
   ]
  },
  {
   "cell_type": "markdown",
   "id": "BgJSvXDsleXz",
   "metadata": {
    "id": "BgJSvXDsleXz"
   },
   "source": [
    "Analizando específicamente a cada cliente en particular vemos que la gráfica es similar. La mayoría de los clientes solicitan un producto solo una vez. Hay varios clientes que lo vuelven a solicitar pero no siempre (Tal vez tiene que ver con la temporada, la necesidad del cliente o las promociones)y la siguiente gran proporción es de clientes que son fieles a sus productos y vuelven a comprarlos cada vez que hacen un pedido por la plataforma."
   ]
  },
  {
   "cell_type": "markdown",
   "id": "6c8ce110",
   "metadata": {},
   "source": [
    "<div class=\"alert alert-block alert-success\">\n",
    "<b>Comentario de Revisor</b> <a class=\"tocSkip\"></a>\n",
    "\n",
    "Muy bien, correcto. Sucede algo parecido que con los productos.\n",
    "    \n",
    "</div>"
   ]
  },
  {
   "cell_type": "markdown",
   "id": "92d35137",
   "metadata": {
    "id": "92d35137"
   },
   "source": [
    "### [C5] ¿Cuáles son los 20 principales artículos que las personas ponen primero en sus carritos?"
   ]
  },
  {
   "cell_type": "code",
   "execution_count": 54,
   "id": "0ae57274",
   "metadata": {
    "id": "0ae57274",
    "scrolled": true,
    "trusted": false
   },
   "outputs": [
    {
     "name": "stdout",
     "output_type": "stream",
     "text": [
      "product_id  product_name               \n",
      "24852       BANANA                         15562\n",
      "13176       BAG OF ORGANIC BANANAS         11026\n",
      "27845       ORGANIC WHOLE MILK              4363\n",
      "21137       ORGANIC STRAWBERRIES            3946\n",
      "47209       ORGANIC HASS AVOCADO            3390\n",
      "21903       ORGANIC BABY SPINACH            3336\n",
      "47766       ORGANIC AVOCADO                 3044\n",
      "19660       SPRING WATER                    2336\n",
      "16797       STRAWBERRIES                    2308\n",
      "27966       ORGANIC RASPBERRIES             2024\n",
      "44632       SPARKLING WATER GRAPEFRUIT      1914\n",
      "49235       ORGANIC HALF & HALF             1797\n",
      "47626       LARGE LEMON                     1737\n",
      "196         SODA                            1733\n",
      "38689       ORGANIC REDUCED FAT MILK        1397\n",
      "26209       LIMES                           1370\n",
      "12341       HASS AVOCADOS                   1340\n",
      "5785        ORGANIC REDUCED FAT 2% MILK     1310\n",
      "27086       HALF & HALF                     1309\n",
      "43352       RASPBERRIES                     1246\n",
      "Name: order_id, dtype: int64\n"
     ]
    }
   ],
   "source": [
    "first_cart_products= df_order_merged[df_order_merged['add_to_cart_order']==1]\n",
    "top_first_products = first_cart_products.groupby(['product_id','product_name'])['order_id'].count().sort_values(ascending=False)\n",
    "print(top_first_products.head(20))"
   ]
  },
  {
   "cell_type": "code",
   "execution_count": 55,
   "id": "42d83094",
   "metadata": {
    "trusted": false
   },
   "outputs": [
    {
     "name": "stdout",
     "output_type": "stream",
     "text": [
      "0.8981545169064388\n"
     ]
    }
   ],
   "source": [
    "correlacion = fav_products.corr(top_first_products)\n",
    "print(correlacion)"
   ]
  },
  {
   "cell_type": "markdown",
   "id": "28ce9872",
   "metadata": {
    "id": "28ce9872"
   },
   "source": [
    "A simple vista con los datos vemos que el top 1 de lo mas solicitado en general, reordenado y de primeras en el carro de compras de los clientes es la banana indiscutiblemente, es el porducto estrella. Mirando la correlacion entre los productos mas solicitados y los que se colocan de primeras en el carro de compras vemos que con un 0,9 es una correlacion positiva casi perfecta, lo que confirma nuestra hipotesis de similitud. "
   ]
  },
  {
   "cell_type": "markdown",
   "id": "74d79108",
   "metadata": {},
   "source": [
    "<div class=\"alert alert-block alert-success\">\n",
    "<b>Comentario de Revisor</b> <a class=\"tocSkip\"></a>\n",
    "\n",
    "Muy bien, correcto. Se repiten los producots reordenados con los más ordenados, ya que son los más populares en general.\n",
    "    \n",
    "</div>"
   ]
  },
  {
   "cell_type": "markdown",
   "id": "uITbFCEoDosC",
   "metadata": {
    "id": "uITbFCEoDosC"
   },
   "source": [
    "### Conclusion general del proyecto:"
   ]
  },
  {
   "cell_type": "markdown",
   "id": "febfee68",
   "metadata": {
    "id": "Nk-4GS7mDwqY"
   },
   "source": [
    "De los 5 conjuntos de datos luego de su preprocesamiento eliminando sus duplicados y estandarizando los valores ausentes podemos concluir que:\n",
    "\n",
    "1. En cuanto al **comportamiento de los clientes**: se realizan mas pedidos los dias domingo y lunes, sin embargo, hay un movimiento estable y lineal los otros dias de la semana. \n",
    "    - Por otro lado de 10am a 4pm se realizan la mayor cantidad de pedidos, siendo de media noche a 5 de la mañana la franja horaria con menor movimiento. \n",
    "    - Ya viendo el comportamiento en el mes, la gran mayoria hace pedidos solamente una vez al mes. \n",
    "2. Si nos vamos al **analisis de los productos** comprados, reordenados, preferidos y puestos de primeras en el carro de compras, vemos que tienen una relacion muy estrecha siendo frutas y productos organicos los mas solicitados y la banana el producto estrella de la plataforma. \n",
    "3. Teniendo en cuenta el **comportamiento de compra** vemos que la mayoria de los clientes hacen solo un pedido y luego disminuye su cantidad drásticamente, lo cual se relaciona con la cantidad de productos reordenados, ya que hay muchos clientes casuales y la mayoria de los productos se piden una unica vez.\n",
    "    - Tambien obervamos que la mayoria de pedidos son pequeños de menos de 10 productos y las 75% son menores de 14 productos.\n",
    "**Sugerencia:**\n",
    "Podria funcionar muy bien una campaña de fidelización enfocadaen los usuarios que ya realizaron su primer pedido, incentivando su permanencia a través de descuentos personalizados, recomendaciones basadas en su primera compra o programas de recompensas."
   ]
  },
  {
   "cell_type": "markdown",
   "id": "f20c5ffb",
   "metadata": {},
   "source": [
    "<div class=\"alert alert-block alert-success\">\n",
    "<b>Comentario de Revisor v2</b> <a class=\"tocSkip\"></a>\n",
    "\n",
    "Excelentes conclusiones. Haces muy bien al incluir valores de las métricas muy importantes y resumens los principales hallazgos, buen trabajo!\n",
    "    \n",
    "</div>"
   ]
  }
 ],
 "metadata": {
  "ExecuteTimeLog": [
   {
    "duration": 8,
    "start_time": "2025-04-10T17:22:20.575Z"
   },
   {
    "duration": 472,
    "start_time": "2025-04-10T17:22:29.296Z"
   },
   {
    "duration": 4,
    "start_time": "2025-04-10T17:22:38.009Z"
   },
   {
    "duration": 287,
    "start_time": "2025-04-10T17:23:38.935Z"
   },
   {
    "duration": 288,
    "start_time": "2025-04-10T17:25:00.222Z"
   },
   {
    "duration": 296,
    "start_time": "2025-04-10T17:26:04.821Z"
   },
   {
    "duration": 272,
    "start_time": "2025-04-10T17:26:17.122Z"
   },
   {
    "duration": 279,
    "start_time": "2025-04-10T17:26:29.632Z"
   },
   {
    "duration": 124,
    "start_time": "2025-04-10T17:26:58.682Z"
   },
   {
    "duration": 183,
    "start_time": "2025-04-10T17:29:19.216Z"
   },
   {
    "duration": 139,
    "start_time": "2025-04-10T17:29:43.696Z"
   },
   {
    "duration": 143,
    "start_time": "2025-04-10T17:29:58.827Z"
   },
   {
    "duration": 144,
    "start_time": "2025-04-10T17:30:41.743Z"
   },
   {
    "duration": 953,
    "start_time": "2025-04-10T17:32:11.194Z"
   },
   {
    "duration": 865,
    "start_time": "2025-04-10T17:32:36.369Z"
   },
   {
    "duration": 825,
    "start_time": "2025-04-10T17:33:17.812Z"
   },
   {
    "duration": 12,
    "start_time": "2025-04-10T17:34:01.081Z"
   },
   {
    "duration": 11,
    "start_time": "2025-04-10T17:34:17.252Z"
   },
   {
    "duration": 10,
    "start_time": "2025-04-10T17:34:49.792Z"
   },
   {
    "duration": 11,
    "start_time": "2025-04-10T17:34:52.867Z"
   },
   {
    "duration": 9,
    "start_time": "2025-04-10T17:34:55.641Z"
   },
   {
    "duration": 14,
    "start_time": "2025-04-10T17:36:04.113Z"
   },
   {
    "duration": 13,
    "start_time": "2025-04-10T17:36:45.522Z"
   },
   {
    "duration": 23,
    "start_time": "2025-04-10T17:37:01.557Z"
   },
   {
    "duration": 165,
    "start_time": "2025-04-10T19:45:00.192Z"
   },
   {
    "duration": 312,
    "start_time": "2025-04-10T19:45:46.106Z"
   },
   {
    "duration": 1014,
    "start_time": "2025-04-10T19:45:46.420Z"
   },
   {
    "duration": 19,
    "start_time": "2025-04-10T19:45:47.437Z"
   },
   {
    "duration": 13,
    "start_time": "2025-04-10T19:45:47.459Z"
   },
   {
    "duration": 35,
    "start_time": "2025-04-10T19:45:47.475Z"
   },
   {
    "duration": 9,
    "start_time": "2025-04-10T19:45:47.512Z"
   },
   {
    "duration": 27,
    "start_time": "2025-04-10T19:45:47.523Z"
   },
   {
    "duration": 783,
    "start_time": "2025-04-10T19:45:47.553Z"
   },
   {
    "duration": 3,
    "start_time": "2025-04-10T19:45:48.337Z"
   },
   {
    "duration": 2,
    "start_time": "2025-04-10T19:45:48.344Z"
   },
   {
    "duration": 3,
    "start_time": "2025-04-10T19:45:48.347Z"
   },
   {
    "duration": 4,
    "start_time": "2025-04-10T19:45:48.351Z"
   },
   {
    "duration": 3,
    "start_time": "2025-04-10T19:45:48.356Z"
   },
   {
    "duration": 2,
    "start_time": "2025-04-10T19:45:48.361Z"
   },
   {
    "duration": 3,
    "start_time": "2025-04-10T19:45:48.365Z"
   },
   {
    "duration": 3,
    "start_time": "2025-04-10T19:45:48.369Z"
   },
   {
    "duration": 2,
    "start_time": "2025-04-10T19:45:48.405Z"
   },
   {
    "duration": 3,
    "start_time": "2025-04-10T19:45:48.409Z"
   },
   {
    "duration": 3,
    "start_time": "2025-04-10T19:45:48.414Z"
   },
   {
    "duration": 4,
    "start_time": "2025-04-10T19:45:48.418Z"
   },
   {
    "duration": 3,
    "start_time": "2025-04-10T19:45:48.423Z"
   },
   {
    "duration": 3,
    "start_time": "2025-04-10T19:45:48.428Z"
   },
   {
    "duration": 3,
    "start_time": "2025-04-10T19:45:48.432Z"
   },
   {
    "duration": 4,
    "start_time": "2025-04-10T19:45:48.437Z"
   },
   {
    "duration": 3,
    "start_time": "2025-04-10T19:45:48.442Z"
   },
   {
    "duration": 2,
    "start_time": "2025-04-10T19:45:48.448Z"
   },
   {
    "duration": 3,
    "start_time": "2025-04-10T19:45:48.452Z"
   },
   {
    "duration": 2,
    "start_time": "2025-04-10T19:45:48.459Z"
   },
   {
    "duration": 2,
    "start_time": "2025-04-10T19:45:48.463Z"
   },
   {
    "duration": 2,
    "start_time": "2025-04-10T19:45:48.507Z"
   },
   {
    "duration": 3,
    "start_time": "2025-04-10T19:45:48.511Z"
   },
   {
    "duration": 4,
    "start_time": "2025-04-10T19:45:48.515Z"
   },
   {
    "duration": 3,
    "start_time": "2025-04-10T19:45:48.520Z"
   },
   {
    "duration": 4,
    "start_time": "2025-04-10T19:45:48.524Z"
   },
   {
    "duration": 776,
    "start_time": "2025-04-10T19:46:24.958Z"
   },
   {
    "duration": 755,
    "start_time": "2025-04-10T19:46:35.220Z"
   },
   {
    "duration": 82,
    "start_time": "2025-04-10T19:47:32.414Z"
   },
   {
    "duration": 94,
    "start_time": "2025-04-10T19:47:57.540Z"
   },
   {
    "duration": 93,
    "start_time": "2025-04-10T19:48:32.104Z"
   },
   {
    "duration": 173,
    "start_time": "2025-04-10T19:48:59.634Z"
   },
   {
    "duration": 98,
    "start_time": "2025-04-10T19:51:09.464Z"
   },
   {
    "duration": 88,
    "start_time": "2025-04-10T19:51:23.838Z"
   },
   {
    "duration": 89,
    "start_time": "2025-04-10T19:51:39.858Z"
   },
   {
    "duration": 91,
    "start_time": "2025-04-10T19:51:48.561Z"
   },
   {
    "duration": 84,
    "start_time": "2025-04-10T19:51:53.158Z"
   },
   {
    "duration": 164,
    "start_time": "2025-04-10T19:56:03.653Z"
   },
   {
    "duration": 12,
    "start_time": "2025-04-10T20:07:01.739Z"
   },
   {
    "duration": 6,
    "start_time": "2025-04-10T20:07:28.820Z"
   },
   {
    "duration": 5,
    "start_time": "2025-04-10T20:08:02.734Z"
   },
   {
    "duration": 7,
    "start_time": "2025-04-10T20:08:46.600Z"
   },
   {
    "duration": 11,
    "start_time": "2025-04-10T20:09:36.609Z"
   },
   {
    "duration": 17,
    "start_time": "2025-04-10T20:21:04.346Z"
   },
   {
    "duration": 12,
    "start_time": "2025-04-10T20:21:35.155Z"
   },
   {
    "duration": 13,
    "start_time": "2025-04-10T20:22:15.796Z"
   },
   {
    "duration": 243,
    "start_time": "2025-04-10T20:22:49.676Z"
   },
   {
    "duration": 12,
    "start_time": "2025-04-10T20:23:20.232Z"
   },
   {
    "duration": 14,
    "start_time": "2025-04-10T20:23:51.544Z"
   },
   {
    "duration": 13,
    "start_time": "2025-04-10T20:24:16.161Z"
   },
   {
    "duration": 12,
    "start_time": "2025-04-10T20:25:40.694Z"
   },
   {
    "duration": 9,
    "start_time": "2025-04-10T20:25:48.874Z"
   },
   {
    "duration": 8,
    "start_time": "2025-04-10T20:27:40.039Z"
   },
   {
    "duration": 7,
    "start_time": "2025-04-10T20:27:51.937Z"
   },
   {
    "duration": 9,
    "start_time": "2025-04-10T20:28:02.539Z"
   },
   {
    "duration": 8,
    "start_time": "2025-04-10T20:28:18.264Z"
   },
   {
    "duration": 8,
    "start_time": "2025-04-10T20:28:45.784Z"
   },
   {
    "duration": 8,
    "start_time": "2025-04-10T20:29:06.556Z"
   },
   {
    "duration": 8,
    "start_time": "2025-04-10T20:29:24.720Z"
   },
   {
    "duration": 9,
    "start_time": "2025-04-10T20:29:37.778Z"
   },
   {
    "duration": 93,
    "start_time": "2025-04-10T21:19:31.382Z"
   },
   {
    "duration": 85,
    "start_time": "2025-04-10T21:20:22.756Z"
   },
   {
    "duration": 173,
    "start_time": "2025-04-10T21:21:58.367Z"
   },
   {
    "duration": 24,
    "start_time": "2025-04-10T21:22:18.317Z"
   },
   {
    "duration": 78,
    "start_time": "2025-04-10T21:22:36.956Z"
   },
   {
    "duration": 5,
    "start_time": "2025-04-10T21:22:39.254Z"
   },
   {
    "duration": 23,
    "start_time": "2025-04-10T21:22:50.477Z"
   },
   {
    "duration": 12,
    "start_time": "2025-04-10T21:26:42.271Z"
   },
   {
    "duration": 3,
    "start_time": "2025-04-10T21:27:26.541Z"
   },
   {
    "duration": 12,
    "start_time": "2025-04-10T21:33:20.572Z"
   },
   {
    "duration": 19,
    "start_time": "2025-04-10T21:33:32.007Z"
   },
   {
    "duration": 2,
    "start_time": "2025-04-10T21:34:51.772Z"
   },
   {
    "duration": 156,
    "start_time": "2025-04-11T07:44:02.682Z"
   },
   {
    "duration": 275,
    "start_time": "2025-04-11T07:44:09.330Z"
   },
   {
    "duration": 1076,
    "start_time": "2025-04-11T07:44:09.607Z"
   },
   {
    "duration": 15,
    "start_time": "2025-04-11T07:44:10.685Z"
   },
   {
    "duration": 10,
    "start_time": "2025-04-11T07:44:10.703Z"
   },
   {
    "duration": 28,
    "start_time": "2025-04-11T07:44:10.715Z"
   },
   {
    "duration": 8,
    "start_time": "2025-04-11T07:44:10.745Z"
   },
   {
    "duration": 25,
    "start_time": "2025-04-11T07:44:10.755Z"
   },
   {
    "duration": 186,
    "start_time": "2025-04-11T07:44:10.782Z"
   },
   {
    "duration": 9,
    "start_time": "2025-04-11T07:44:10.970Z"
   },
   {
    "duration": 107,
    "start_time": "2025-04-11T07:44:10.982Z"
   },
   {
    "duration": 90,
    "start_time": "2025-04-11T07:44:11.091Z"
   },
   {
    "duration": 31,
    "start_time": "2025-04-11T07:44:11.183Z"
   },
   {
    "duration": 12,
    "start_time": "2025-04-11T07:44:11.216Z"
   },
   {
    "duration": 3,
    "start_time": "2025-04-11T07:44:11.244Z"
   },
   {
    "duration": 20,
    "start_time": "2025-04-11T07:44:11.248Z"
   },
   {
    "duration": 15,
    "start_time": "2025-04-11T07:44:11.270Z"
   },
   {
    "duration": 2,
    "start_time": "2025-04-11T07:44:11.287Z"
   },
   {
    "duration": 3,
    "start_time": "2025-04-11T07:44:11.291Z"
   },
   {
    "duration": 3,
    "start_time": "2025-04-11T07:44:11.295Z"
   },
   {
    "duration": 3,
    "start_time": "2025-04-11T07:44:11.300Z"
   },
   {
    "duration": 39,
    "start_time": "2025-04-11T07:44:11.304Z"
   },
   {
    "duration": 2,
    "start_time": "2025-04-11T07:44:11.344Z"
   },
   {
    "duration": 3,
    "start_time": "2025-04-11T07:44:11.348Z"
   },
   {
    "duration": 4,
    "start_time": "2025-04-11T07:44:11.352Z"
   },
   {
    "duration": 3,
    "start_time": "2025-04-11T07:44:11.357Z"
   },
   {
    "duration": 3,
    "start_time": "2025-04-11T07:44:11.362Z"
   },
   {
    "duration": 2,
    "start_time": "2025-04-11T07:44:11.367Z"
   },
   {
    "duration": 1,
    "start_time": "2025-04-11T07:44:11.374Z"
   },
   {
    "duration": 3,
    "start_time": "2025-04-11T07:44:11.377Z"
   },
   {
    "duration": 3,
    "start_time": "2025-04-11T07:44:11.382Z"
   },
   {
    "duration": 2,
    "start_time": "2025-04-11T07:44:11.387Z"
   },
   {
    "duration": 2,
    "start_time": "2025-04-11T07:44:11.392Z"
   },
   {
    "duration": 47,
    "start_time": "2025-04-11T07:44:11.396Z"
   },
   {
    "duration": 2,
    "start_time": "2025-04-11T07:44:11.444Z"
   },
   {
    "duration": 170,
    "start_time": "2025-04-11T07:49:56.885Z"
   },
   {
    "duration": 4,
    "start_time": "2025-04-11T07:50:04.669Z"
   },
   {
    "duration": 373,
    "start_time": "2025-04-11T07:50:47.269Z"
   },
   {
    "duration": 2,
    "start_time": "2025-04-11T07:52:51.646Z"
   },
   {
    "duration": 3,
    "start_time": "2025-04-11T07:53:53.069Z"
   },
   {
    "duration": 3,
    "start_time": "2025-04-11T07:54:45.294Z"
   },
   {
    "duration": 3,
    "start_time": "2025-04-11T07:55:24.228Z"
   },
   {
    "duration": 753,
    "start_time": "2025-04-11T07:56:32.270Z"
   },
   {
    "duration": 79,
    "start_time": "2025-04-11T07:57:38.948Z"
   },
   {
    "duration": 115,
    "start_time": "2025-04-11T08:02:35.115Z"
   },
   {
    "duration": 4,
    "start_time": "2025-04-11T08:03:52.899Z"
   },
   {
    "duration": 753,
    "start_time": "2025-04-11T08:04:19.399Z"
   },
   {
    "duration": 1416,
    "start_time": "2025-04-11T08:05:04.313Z"
   },
   {
    "duration": 156,
    "start_time": "2025-04-11T08:38:24.924Z"
   },
   {
    "duration": 276,
    "start_time": "2025-04-11T08:38:30.920Z"
   },
   {
    "duration": 1005,
    "start_time": "2025-04-11T08:38:31.199Z"
   },
   {
    "duration": 15,
    "start_time": "2025-04-11T08:38:32.205Z"
   },
   {
    "duration": 23,
    "start_time": "2025-04-11T08:38:32.222Z"
   },
   {
    "duration": 8,
    "start_time": "2025-04-11T08:38:32.247Z"
   },
   {
    "duration": 8,
    "start_time": "2025-04-11T08:38:32.257Z"
   },
   {
    "duration": 25,
    "start_time": "2025-04-11T08:38:32.267Z"
   },
   {
    "duration": 192,
    "start_time": "2025-04-11T08:38:32.295Z"
   },
   {
    "duration": 8,
    "start_time": "2025-04-11T08:38:32.489Z"
   },
   {
    "duration": 106,
    "start_time": "2025-04-11T08:38:32.499Z"
   },
   {
    "duration": 86,
    "start_time": "2025-04-11T08:38:32.607Z"
   },
   {
    "duration": 26,
    "start_time": "2025-04-11T08:38:32.695Z"
   },
   {
    "duration": 26,
    "start_time": "2025-04-11T08:38:32.723Z"
   },
   {
    "duration": 3,
    "start_time": "2025-04-11T08:38:32.753Z"
   },
   {
    "duration": 19,
    "start_time": "2025-04-11T08:38:32.757Z"
   },
   {
    "duration": 14,
    "start_time": "2025-04-11T08:38:32.778Z"
   },
   {
    "duration": 3,
    "start_time": "2025-04-11T08:38:32.794Z"
   },
   {
    "duration": 4,
    "start_time": "2025-04-11T08:38:32.799Z"
   },
   {
    "duration": 39,
    "start_time": "2025-04-11T08:38:32.805Z"
   },
   {
    "duration": 3,
    "start_time": "2025-04-11T08:38:32.846Z"
   },
   {
    "duration": 786,
    "start_time": "2025-04-11T08:38:32.851Z"
   },
   {
    "duration": 1359,
    "start_time": "2025-04-11T08:38:33.639Z"
   },
   {
    "duration": 6,
    "start_time": "2025-04-11T08:38:35.000Z"
   },
   {
    "duration": 2,
    "start_time": "2025-04-11T08:38:35.008Z"
   },
   {
    "duration": 2,
    "start_time": "2025-04-11T08:38:35.013Z"
   },
   {
    "duration": 25,
    "start_time": "2025-04-11T08:38:35.017Z"
   },
   {
    "duration": 2,
    "start_time": "2025-04-11T08:38:35.044Z"
   },
   {
    "duration": 3,
    "start_time": "2025-04-11T08:38:35.048Z"
   },
   {
    "duration": 3,
    "start_time": "2025-04-11T08:38:35.052Z"
   },
   {
    "duration": 3,
    "start_time": "2025-04-11T08:38:35.057Z"
   },
   {
    "duration": 4,
    "start_time": "2025-04-11T08:38:35.061Z"
   },
   {
    "duration": 4,
    "start_time": "2025-04-11T08:38:35.066Z"
   },
   {
    "duration": 4,
    "start_time": "2025-04-11T08:38:35.071Z"
   },
   {
    "duration": 3,
    "start_time": "2025-04-11T08:38:35.077Z"
   },
   {
    "duration": 170,
    "start_time": "2025-04-11T08:38:53.669Z"
   },
   {
    "duration": 6,
    "start_time": "2025-04-11T08:39:42.205Z"
   },
   {
    "duration": 4,
    "start_time": "2025-04-11T08:40:25.714Z"
   },
   {
    "duration": 7,
    "start_time": "2025-04-11T08:45:01.332Z"
   },
   {
    "duration": 10,
    "start_time": "2025-04-11T08:45:35.654Z"
   },
   {
    "duration": 8,
    "start_time": "2025-04-11T08:46:00.686Z"
   },
   {
    "duration": 8,
    "start_time": "2025-04-11T08:46:53.404Z"
   },
   {
    "duration": 7,
    "start_time": "2025-04-11T08:51:00.518Z"
   },
   {
    "duration": 7,
    "start_time": "2025-04-11T08:52:44.134Z"
   },
   {
    "duration": 7,
    "start_time": "2025-04-11T08:54:14.665Z"
   },
   {
    "duration": 313,
    "start_time": "2025-04-13T09:37:47.657Z"
   },
   {
    "duration": 1014,
    "start_time": "2025-04-13T09:37:47.972Z"
   },
   {
    "duration": 15,
    "start_time": "2025-04-13T09:37:48.988Z"
   },
   {
    "duration": 23,
    "start_time": "2025-04-13T09:37:49.005Z"
   },
   {
    "duration": 9,
    "start_time": "2025-04-13T09:37:49.029Z"
   },
   {
    "duration": 8,
    "start_time": "2025-04-13T09:37:49.039Z"
   },
   {
    "duration": 24,
    "start_time": "2025-04-13T09:37:49.049Z"
   },
   {
    "duration": 193,
    "start_time": "2025-04-13T09:37:49.075Z"
   },
   {
    "duration": 9,
    "start_time": "2025-04-13T09:37:49.270Z"
   },
   {
    "duration": 112,
    "start_time": "2025-04-13T09:37:49.283Z"
   },
   {
    "duration": 92,
    "start_time": "2025-04-13T09:37:49.397Z"
   },
   {
    "duration": 37,
    "start_time": "2025-04-13T09:37:49.491Z"
   },
   {
    "duration": 12,
    "start_time": "2025-04-13T09:37:49.529Z"
   },
   {
    "duration": 2,
    "start_time": "2025-04-13T09:37:49.544Z"
   },
   {
    "duration": 18,
    "start_time": "2025-04-13T09:37:49.548Z"
   },
   {
    "duration": 20,
    "start_time": "2025-04-13T09:37:49.568Z"
   },
   {
    "duration": 4,
    "start_time": "2025-04-13T09:37:49.590Z"
   },
   {
    "duration": 29,
    "start_time": "2025-04-13T09:37:49.597Z"
   },
   {
    "duration": 5,
    "start_time": "2025-04-13T09:37:49.628Z"
   },
   {
    "duration": 4,
    "start_time": "2025-04-13T09:37:49.635Z"
   },
   {
    "duration": 935,
    "start_time": "2025-04-13T09:37:49.641Z"
   },
   {
    "duration": 1573,
    "start_time": "2025-04-13T09:37:50.578Z"
   },
   {
    "duration": 9,
    "start_time": "2025-04-13T09:37:52.153Z"
   },
   {
    "duration": 6,
    "start_time": "2025-04-13T09:37:52.164Z"
   },
   {
    "duration": 8,
    "start_time": "2025-04-13T09:37:52.175Z"
   },
   {
    "duration": 7,
    "start_time": "2025-04-13T09:37:52.185Z"
   },
   {
    "duration": 140,
    "start_time": "2025-04-13T09:37:52.196Z"
   },
   {
    "duration": 0,
    "start_time": "2025-04-13T09:37:52.338Z"
   },
   {
    "duration": 0,
    "start_time": "2025-04-13T09:37:52.339Z"
   },
   {
    "duration": 0,
    "start_time": "2025-04-13T09:37:52.340Z"
   },
   {
    "duration": 0,
    "start_time": "2025-04-13T09:37:52.342Z"
   },
   {
    "duration": 0,
    "start_time": "2025-04-13T09:37:52.343Z"
   },
   {
    "duration": 0,
    "start_time": "2025-04-13T09:37:52.345Z"
   },
   {
    "duration": 0,
    "start_time": "2025-04-13T09:37:52.346Z"
   },
   {
    "duration": 236,
    "start_time": "2025-04-13T09:39:00.325Z"
   },
   {
    "duration": 63,
    "start_time": "2025-04-13T09:39:35.206Z"
   },
   {
    "duration": 26,
    "start_time": "2025-04-13T09:41:35.072Z"
   },
   {
    "duration": 11,
    "start_time": "2025-04-13T09:43:12.448Z"
   },
   {
    "duration": 11,
    "start_time": "2025-04-13T09:43:21.117Z"
   },
   {
    "duration": 11,
    "start_time": "2025-04-13T09:43:39.757Z"
   },
   {
    "duration": 8,
    "start_time": "2025-04-13T09:43:43.727Z"
   },
   {
    "duration": 4,
    "start_time": "2025-04-13T09:44:08.452Z"
   },
   {
    "duration": 28,
    "start_time": "2025-04-13T09:44:43.433Z"
   },
   {
    "duration": 312,
    "start_time": "2025-04-13T09:44:50.256Z"
   },
   {
    "duration": 882,
    "start_time": "2025-04-13T09:44:50.570Z"
   },
   {
    "duration": 15,
    "start_time": "2025-04-13T09:44:51.454Z"
   },
   {
    "duration": 11,
    "start_time": "2025-04-13T09:44:51.471Z"
   },
   {
    "duration": 9,
    "start_time": "2025-04-13T09:44:51.484Z"
   },
   {
    "duration": 38,
    "start_time": "2025-04-13T09:44:51.494Z"
   },
   {
    "duration": 26,
    "start_time": "2025-04-13T09:44:51.533Z"
   },
   {
    "duration": 185,
    "start_time": "2025-04-13T09:44:51.561Z"
   },
   {
    "duration": 10,
    "start_time": "2025-04-13T09:44:51.750Z"
   },
   {
    "duration": 105,
    "start_time": "2025-04-13T09:44:51.763Z"
   },
   {
    "duration": 94,
    "start_time": "2025-04-13T09:44:51.870Z"
   },
   {
    "duration": 27,
    "start_time": "2025-04-13T09:44:51.965Z"
   },
   {
    "duration": 12,
    "start_time": "2025-04-13T09:44:51.994Z"
   },
   {
    "duration": 3,
    "start_time": "2025-04-13T09:44:52.023Z"
   },
   {
    "duration": 18,
    "start_time": "2025-04-13T09:44:52.028Z"
   },
   {
    "duration": 15,
    "start_time": "2025-04-13T09:44:52.048Z"
   },
   {
    "duration": 3,
    "start_time": "2025-04-13T09:44:52.065Z"
   },
   {
    "duration": 3,
    "start_time": "2025-04-13T09:44:52.070Z"
   },
   {
    "duration": 4,
    "start_time": "2025-04-13T09:44:52.075Z"
   },
   {
    "duration": 4,
    "start_time": "2025-04-13T09:44:52.080Z"
   },
   {
    "duration": 741,
    "start_time": "2025-04-13T09:44:52.124Z"
   },
   {
    "duration": 1395,
    "start_time": "2025-04-13T09:44:52.867Z"
   },
   {
    "duration": 8,
    "start_time": "2025-04-13T09:44:54.264Z"
   },
   {
    "duration": 7,
    "start_time": "2025-04-13T09:44:54.273Z"
   },
   {
    "duration": 5,
    "start_time": "2025-04-13T09:44:54.282Z"
   },
   {
    "duration": 6,
    "start_time": "2025-04-13T09:44:54.290Z"
   },
   {
    "duration": 28,
    "start_time": "2025-04-13T09:44:54.297Z"
   },
   {
    "duration": 2,
    "start_time": "2025-04-13T09:44:54.329Z"
   },
   {
    "duration": 3,
    "start_time": "2025-04-13T09:44:54.332Z"
   },
   {
    "duration": 3,
    "start_time": "2025-04-13T09:44:54.337Z"
   },
   {
    "duration": 3,
    "start_time": "2025-04-13T09:44:54.342Z"
   },
   {
    "duration": 3,
    "start_time": "2025-04-13T09:44:54.346Z"
   },
   {
    "duration": 3,
    "start_time": "2025-04-13T09:44:54.351Z"
   },
   {
    "duration": 3,
    "start_time": "2025-04-13T09:44:54.356Z"
   },
   {
    "duration": 13,
    "start_time": "2025-04-13T09:45:20.321Z"
   },
   {
    "duration": 12,
    "start_time": "2025-04-13T09:45:53.771Z"
   },
   {
    "duration": 10,
    "start_time": "2025-04-13T09:48:50.380Z"
   },
   {
    "duration": 17,
    "start_time": "2025-04-13T09:48:57.966Z"
   },
   {
    "duration": 15,
    "start_time": "2025-04-13T09:49:54.819Z"
   },
   {
    "duration": 7,
    "start_time": "2025-04-13T09:50:16.768Z"
   },
   {
    "duration": 7,
    "start_time": "2025-04-13T09:50:47.983Z"
   },
   {
    "duration": 159,
    "start_time": "2025-04-13T20:27:46.852Z"
   },
   {
    "duration": 11,
    "start_time": "2025-04-13T20:27:52.577Z"
   },
   {
    "duration": 296,
    "start_time": "2025-04-13T20:28:03.249Z"
   },
   {
    "duration": 1025,
    "start_time": "2025-04-13T20:28:03.547Z"
   },
   {
    "duration": 14,
    "start_time": "2025-04-13T20:28:04.574Z"
   },
   {
    "duration": 11,
    "start_time": "2025-04-13T20:28:04.590Z"
   },
   {
    "duration": 8,
    "start_time": "2025-04-13T20:28:04.603Z"
   },
   {
    "duration": 9,
    "start_time": "2025-04-13T20:28:04.613Z"
   },
   {
    "duration": 64,
    "start_time": "2025-04-13T20:28:04.623Z"
   },
   {
    "duration": 182,
    "start_time": "2025-04-13T20:28:04.689Z"
   },
   {
    "duration": 15,
    "start_time": "2025-04-13T20:28:04.873Z"
   },
   {
    "duration": 106,
    "start_time": "2025-04-13T20:28:04.891Z"
   },
   {
    "duration": 95,
    "start_time": "2025-04-13T20:28:04.999Z"
   },
   {
    "duration": 29,
    "start_time": "2025-04-13T20:28:05.096Z"
   },
   {
    "duration": 12,
    "start_time": "2025-04-13T20:28:05.126Z"
   },
   {
    "duration": 3,
    "start_time": "2025-04-13T20:28:05.139Z"
   },
   {
    "duration": 43,
    "start_time": "2025-04-13T20:28:05.144Z"
   },
   {
    "duration": 16,
    "start_time": "2025-04-13T20:28:05.190Z"
   },
   {
    "duration": 3,
    "start_time": "2025-04-13T20:28:05.208Z"
   },
   {
    "duration": 4,
    "start_time": "2025-04-13T20:28:05.213Z"
   },
   {
    "duration": 5,
    "start_time": "2025-04-13T20:28:05.218Z"
   },
   {
    "duration": 3,
    "start_time": "2025-04-13T20:28:05.225Z"
   },
   {
    "duration": 829,
    "start_time": "2025-04-13T20:28:05.229Z"
   },
   {
    "duration": 1416,
    "start_time": "2025-04-13T20:28:06.061Z"
   },
   {
    "duration": 13,
    "start_time": "2025-04-13T20:28:07.479Z"
   },
   {
    "duration": 6,
    "start_time": "2025-04-13T20:28:07.494Z"
   },
   {
    "duration": 7,
    "start_time": "2025-04-13T20:28:07.501Z"
   },
   {
    "duration": 6,
    "start_time": "2025-04-13T20:28:07.510Z"
   },
   {
    "duration": 12,
    "start_time": "2025-04-13T20:28:07.518Z"
   },
   {
    "duration": 17,
    "start_time": "2025-04-13T20:28:07.534Z"
   },
   {
    "duration": 11,
    "start_time": "2025-04-13T20:28:07.587Z"
   },
   {
    "duration": 3,
    "start_time": "2025-04-13T20:28:07.600Z"
   },
   {
    "duration": 2,
    "start_time": "2025-04-13T20:28:07.606Z"
   },
   {
    "duration": 3,
    "start_time": "2025-04-13T20:28:07.610Z"
   },
   {
    "duration": 2,
    "start_time": "2025-04-13T20:28:07.616Z"
   },
   {
    "duration": 3,
    "start_time": "2025-04-13T20:28:07.619Z"
   },
   {
    "duration": 18,
    "start_time": "2025-04-13T20:32:45.109Z"
   },
   {
    "duration": 6,
    "start_time": "2025-04-13T20:35:37.840Z"
   },
   {
    "duration": 7,
    "start_time": "2025-04-13T20:36:09.239Z"
   },
   {
    "duration": 18,
    "start_time": "2025-04-13T20:38:41.839Z"
   },
   {
    "duration": 31,
    "start_time": "2025-04-13T20:40:52.219Z"
   },
   {
    "duration": 348,
    "start_time": "2025-04-13T20:46:47.499Z"
   },
   {
    "duration": 8,
    "start_time": "2025-04-13T20:51:12.894Z"
   },
   {
    "duration": 7,
    "start_time": "2025-04-13T20:57:24.247Z"
   },
   {
    "duration": 172,
    "start_time": "2025-04-13T21:00:56.847Z"
   },
   {
    "duration": 115,
    "start_time": "2025-04-13T21:06:55.654Z"
   },
   {
    "duration": 5,
    "start_time": "2025-04-13T21:09:27.002Z"
   },
   {
    "duration": 8,
    "start_time": "2025-04-13T21:09:32.332Z"
   },
   {
    "duration": 7,
    "start_time": "2025-04-13T21:09:54.817Z"
   },
   {
    "duration": 13,
    "start_time": "2025-04-13T21:13:15.638Z"
   },
   {
    "duration": 12,
    "start_time": "2025-04-13T21:13:56.106Z"
   },
   {
    "duration": 9,
    "start_time": "2025-04-13T21:16:24.466Z"
   },
   {
    "duration": 8,
    "start_time": "2025-04-13T21:19:45.620Z"
   },
   {
    "duration": 8,
    "start_time": "2025-04-13T21:20:41.592Z"
   },
   {
    "duration": 25,
    "start_time": "2025-04-13T21:26:48.643Z"
   },
   {
    "duration": 22,
    "start_time": "2025-04-13T21:26:59.714Z"
   },
   {
    "duration": 521,
    "start_time": "2025-04-13T21:27:22.675Z"
   },
   {
    "duration": 68,
    "start_time": "2025-04-13T21:27:47.513Z"
   },
   {
    "duration": 23,
    "start_time": "2025-04-13T21:28:27.897Z"
   },
   {
    "duration": 43,
    "start_time": "2025-04-13T21:29:06.661Z"
   },
   {
    "duration": 39,
    "start_time": "2025-04-13T21:30:30.200Z"
   },
   {
    "duration": 223,
    "start_time": "2025-04-14T13:16:02.420Z"
   },
   {
    "duration": 298,
    "start_time": "2025-04-14T13:16:10.478Z"
   },
   {
    "duration": 1095,
    "start_time": "2025-04-14T13:16:10.778Z"
   },
   {
    "duration": 14,
    "start_time": "2025-04-14T13:16:11.875Z"
   },
   {
    "duration": 10,
    "start_time": "2025-04-14T13:16:11.891Z"
   },
   {
    "duration": 25,
    "start_time": "2025-04-14T13:16:11.903Z"
   },
   {
    "duration": 8,
    "start_time": "2025-04-14T13:16:11.930Z"
   },
   {
    "duration": 25,
    "start_time": "2025-04-14T13:16:11.940Z"
   },
   {
    "duration": 196,
    "start_time": "2025-04-14T13:16:11.967Z"
   },
   {
    "duration": 9,
    "start_time": "2025-04-14T13:16:12.165Z"
   },
   {
    "duration": 104,
    "start_time": "2025-04-14T13:16:12.175Z"
   },
   {
    "duration": 84,
    "start_time": "2025-04-14T13:16:12.281Z"
   },
   {
    "duration": 28,
    "start_time": "2025-04-14T13:16:12.367Z"
   },
   {
    "duration": 11,
    "start_time": "2025-04-14T13:16:12.397Z"
   },
   {
    "duration": 3,
    "start_time": "2025-04-14T13:16:12.427Z"
   },
   {
    "duration": 18,
    "start_time": "2025-04-14T13:16:12.432Z"
   },
   {
    "duration": 14,
    "start_time": "2025-04-14T13:16:12.452Z"
   },
   {
    "duration": 3,
    "start_time": "2025-04-14T13:16:12.468Z"
   },
   {
    "duration": 3,
    "start_time": "2025-04-14T13:16:12.473Z"
   },
   {
    "duration": 3,
    "start_time": "2025-04-14T13:16:12.478Z"
   },
   {
    "duration": 4,
    "start_time": "2025-04-14T13:16:12.483Z"
   },
   {
    "duration": 780,
    "start_time": "2025-04-14T13:16:12.488Z"
   },
   {
    "duration": 1431,
    "start_time": "2025-04-14T13:16:13.270Z"
   },
   {
    "duration": 8,
    "start_time": "2025-04-14T13:16:14.703Z"
   },
   {
    "duration": 7,
    "start_time": "2025-04-14T13:16:14.723Z"
   },
   {
    "duration": 6,
    "start_time": "2025-04-14T13:16:14.732Z"
   },
   {
    "duration": 6,
    "start_time": "2025-04-14T13:16:14.740Z"
   },
   {
    "duration": 12,
    "start_time": "2025-04-14T13:16:14.747Z"
   },
   {
    "duration": 5,
    "start_time": "2025-04-14T13:16:14.760Z"
   },
   {
    "duration": 6,
    "start_time": "2025-04-14T13:16:14.767Z"
   },
   {
    "duration": 54,
    "start_time": "2025-04-14T13:16:14.774Z"
   },
   {
    "duration": 31,
    "start_time": "2025-04-14T13:16:14.829Z"
   },
   {
    "duration": 7,
    "start_time": "2025-04-14T13:16:14.862Z"
   },
   {
    "duration": 9,
    "start_time": "2025-04-14T13:16:14.870Z"
   },
   {
    "duration": 69,
    "start_time": "2025-04-14T13:16:14.881Z"
   },
   {
    "duration": 14,
    "start_time": "2025-04-14T13:16:14.952Z"
   },
   {
    "duration": 13,
    "start_time": "2025-04-14T13:16:37.940Z"
   },
   {
    "duration": 4,
    "start_time": "2025-04-14T13:17:11.317Z"
   },
   {
    "duration": 4,
    "start_time": "2025-04-14T13:17:13.146Z"
   },
   {
    "duration": 2056,
    "start_time": "2025-04-14T13:28:16.258Z"
   },
   {
    "duration": 49,
    "start_time": "2025-04-14T13:28:23.395Z"
   },
   {
    "duration": 13,
    "start_time": "2025-04-14T13:29:11.907Z"
   },
   {
    "duration": 15,
    "start_time": "2025-04-14T13:32:23.297Z"
   },
   {
    "duration": 14,
    "start_time": "2025-04-14T13:34:21.837Z"
   },
   {
    "duration": 12,
    "start_time": "2025-04-14T13:34:58.859Z"
   },
   {
    "duration": 12,
    "start_time": "2025-04-14T13:35:34.737Z"
   },
   {
    "duration": 14,
    "start_time": "2025-04-14T13:37:30.649Z"
   },
   {
    "duration": 3,
    "start_time": "2025-04-14T13:42:53.317Z"
   },
   {
    "duration": 6,
    "start_time": "2025-04-14T13:44:19.317Z"
   },
   {
    "duration": 4,
    "start_time": "2025-04-14T13:44:27.497Z"
   },
   {
    "duration": 4,
    "start_time": "2025-04-14T13:44:32.456Z"
   },
   {
    "duration": 4,
    "start_time": "2025-04-14T13:44:49.618Z"
   },
   {
    "duration": 4,
    "start_time": "2025-04-14T13:44:54.782Z"
   },
   {
    "duration": 13,
    "start_time": "2025-04-14T13:45:32.344Z"
   },
   {
    "duration": 11,
    "start_time": "2025-04-14T13:46:08.177Z"
   },
   {
    "duration": 6,
    "start_time": "2025-04-14T13:50:10.357Z"
   },
   {
    "duration": 4,
    "start_time": "2025-04-14T13:50:29.613Z"
   },
   {
    "duration": 607,
    "start_time": "2025-04-14T13:50:38.079Z"
   },
   {
    "duration": 153,
    "start_time": "2025-04-14T13:50:51.196Z"
   },
   {
    "duration": 2190,
    "start_time": "2025-04-14T17:16:46.174Z"
   },
   {
    "duration": 281,
    "start_time": "2025-04-14T17:16:56.264Z"
   },
   {
    "duration": 1030,
    "start_time": "2025-04-14T17:16:56.547Z"
   },
   {
    "duration": 20,
    "start_time": "2025-04-14T17:16:57.579Z"
   },
   {
    "duration": 12,
    "start_time": "2025-04-14T17:16:57.601Z"
   },
   {
    "duration": 9,
    "start_time": "2025-04-14T17:16:57.614Z"
   },
   {
    "duration": 9,
    "start_time": "2025-04-14T17:16:57.625Z"
   },
   {
    "duration": 55,
    "start_time": "2025-04-14T17:16:57.635Z"
   },
   {
    "duration": 172,
    "start_time": "2025-04-14T17:16:57.692Z"
   },
   {
    "duration": 25,
    "start_time": "2025-04-14T17:16:57.866Z"
   },
   {
    "duration": 98,
    "start_time": "2025-04-14T17:16:57.893Z"
   },
   {
    "duration": 93,
    "start_time": "2025-04-14T17:16:57.993Z"
   },
   {
    "duration": 29,
    "start_time": "2025-04-14T17:16:58.088Z"
   },
   {
    "duration": 15,
    "start_time": "2025-04-14T17:16:58.120Z"
   },
   {
    "duration": 6,
    "start_time": "2025-04-14T17:16:58.138Z"
   },
   {
    "duration": 41,
    "start_time": "2025-04-14T17:16:58.146Z"
   },
   {
    "duration": 16,
    "start_time": "2025-04-14T17:16:58.188Z"
   },
   {
    "duration": 4,
    "start_time": "2025-04-14T17:16:58.206Z"
   },
   {
    "duration": 4,
    "start_time": "2025-04-14T17:16:58.211Z"
   },
   {
    "duration": 4,
    "start_time": "2025-04-14T17:16:58.216Z"
   },
   {
    "duration": 4,
    "start_time": "2025-04-14T17:16:58.221Z"
   },
   {
    "duration": 790,
    "start_time": "2025-04-14T17:16:58.226Z"
   },
   {
    "duration": 1419,
    "start_time": "2025-04-14T17:16:59.018Z"
   },
   {
    "duration": 11,
    "start_time": "2025-04-14T17:17:00.439Z"
   },
   {
    "duration": 5,
    "start_time": "2025-04-14T17:17:00.452Z"
   },
   {
    "duration": 11,
    "start_time": "2025-04-14T17:17:00.459Z"
   },
   {
    "duration": 12,
    "start_time": "2025-04-14T17:17:00.487Z"
   },
   {
    "duration": 12,
    "start_time": "2025-04-14T17:17:00.500Z"
   },
   {
    "duration": 5,
    "start_time": "2025-04-14T17:17:00.515Z"
   },
   {
    "duration": 5,
    "start_time": "2025-04-14T17:17:00.522Z"
   },
   {
    "duration": 17,
    "start_time": "2025-04-14T17:17:00.529Z"
   },
   {
    "duration": 59,
    "start_time": "2025-04-14T17:17:00.548Z"
   },
   {
    "duration": 7,
    "start_time": "2025-04-14T17:17:00.609Z"
   },
   {
    "duration": 8,
    "start_time": "2025-04-14T17:17:00.617Z"
   },
   {
    "duration": 64,
    "start_time": "2025-04-14T17:17:00.627Z"
   },
   {
    "duration": 7,
    "start_time": "2025-04-14T17:17:00.693Z"
   },
   {
    "duration": 4,
    "start_time": "2025-04-14T17:17:00.702Z"
   },
   {
    "duration": 1004,
    "start_time": "2025-04-14T17:17:00.708Z"
   },
   {
    "duration": 196,
    "start_time": "2025-04-14T17:17:54.315Z"
   },
   {
    "duration": 191,
    "start_time": "2025-04-14T17:18:36.991Z"
   },
   {
    "duration": 186,
    "start_time": "2025-04-14T17:19:49.935Z"
   },
   {
    "duration": 125,
    "start_time": "2025-04-14T17:20:42.151Z"
   },
   {
    "duration": 241,
    "start_time": "2025-04-14T17:21:41.369Z"
   },
   {
    "duration": 192,
    "start_time": "2025-04-14T17:21:51.609Z"
   },
   {
    "duration": 135,
    "start_time": "2025-04-14T17:33:33.692Z"
   },
   {
    "duration": 19,
    "start_time": "2025-04-14T17:46:23.752Z"
   },
   {
    "duration": 124,
    "start_time": "2025-04-14T17:46:58.401Z"
   },
   {
    "duration": 125,
    "start_time": "2025-04-14T17:47:19.865Z"
   },
   {
    "duration": 125,
    "start_time": "2025-04-14T17:47:45.602Z"
   },
   {
    "duration": 347,
    "start_time": "2025-04-14T17:48:48.712Z"
   },
   {
    "duration": 126,
    "start_time": "2025-04-14T17:49:28.895Z"
   },
   {
    "duration": 126,
    "start_time": "2025-04-14T17:50:03.214Z"
   },
   {
    "duration": 44,
    "start_time": "2025-04-14T17:50:39.853Z"
   },
   {
    "duration": 18,
    "start_time": "2025-04-14T17:52:41.898Z"
   },
   {
    "duration": 131,
    "start_time": "2025-04-14T17:53:42.142Z"
   },
   {
    "duration": 150,
    "start_time": "2025-04-14T17:54:10.356Z"
   },
   {
    "duration": 139,
    "start_time": "2025-04-14T17:54:24.688Z"
   },
   {
    "duration": 139,
    "start_time": "2025-04-14T17:54:29.907Z"
   },
   {
    "duration": 136,
    "start_time": "2025-04-14T17:54:34.852Z"
   },
   {
    "duration": 136,
    "start_time": "2025-04-14T17:54:38.218Z"
   },
   {
    "duration": 136,
    "start_time": "2025-04-14T17:56:56.181Z"
   },
   {
    "duration": 41,
    "start_time": "2025-04-14T18:15:48.444Z"
   },
   {
    "duration": 44,
    "start_time": "2025-04-14T18:16:55.523Z"
   },
   {
    "duration": 5,
    "start_time": "2025-04-14T18:44:37.679Z"
   },
   {
    "duration": 21,
    "start_time": "2025-04-14T18:44:44.139Z"
   },
   {
    "duration": 1797,
    "start_time": "2025-04-14T18:45:26.615Z"
   },
   {
    "duration": 1765,
    "start_time": "2025-04-14T18:45:30.976Z"
   },
   {
    "duration": 1028,
    "start_time": "2025-04-14T18:46:10.949Z"
   },
   {
    "duration": 150,
    "start_time": "2025-04-14T18:46:34.949Z"
   },
   {
    "duration": 196,
    "start_time": "2025-04-14T18:47:01.429Z"
   },
   {
    "duration": 169,
    "start_time": "2025-04-14T18:47:08.754Z"
   },
   {
    "duration": 298,
    "start_time": "2025-04-14T18:52:29.358Z"
   },
   {
    "duration": 4,
    "start_time": "2025-04-14T18:53:06.239Z"
   },
   {
    "duration": 173,
    "start_time": "2025-04-14T18:53:16.299Z"
   },
   {
    "duration": 164,
    "start_time": "2025-04-14T18:53:39.535Z"
   },
   {
    "duration": 185,
    "start_time": "2025-04-14T18:54:35.069Z"
   },
   {
    "duration": 172,
    "start_time": "2025-04-14T18:54:50.117Z"
   },
   {
    "duration": 181,
    "start_time": "2025-04-14T18:55:19.269Z"
   },
   {
    "duration": 294,
    "start_time": "2025-04-14T18:55:44.729Z"
   },
   {
    "duration": 222,
    "start_time": "2025-04-14T18:55:56.464Z"
   },
   {
    "duration": 189,
    "start_time": "2025-04-14T18:56:24.880Z"
   },
   {
    "duration": 214,
    "start_time": "2025-04-14T18:56:36.914Z"
   },
   {
    "duration": 194,
    "start_time": "2025-04-14T18:56:49.665Z"
   },
   {
    "duration": 362,
    "start_time": "2025-04-14T19:06:50.518Z"
   },
   {
    "duration": 310,
    "start_time": "2025-04-14T19:06:59.230Z"
   },
   {
    "duration": 189,
    "start_time": "2025-04-14T19:10:15.300Z"
   },
   {
    "duration": 702,
    "start_time": "2025-04-14T19:13:33.842Z"
   },
   {
    "duration": 607,
    "start_time": "2025-04-14T19:14:34.020Z"
   },
   {
    "duration": 19,
    "start_time": "2025-04-14T19:15:01.468Z"
   },
   {
    "duration": 509,
    "start_time": "2025-04-14T19:15:30.230Z"
   },
   {
    "duration": 714,
    "start_time": "2025-04-14T19:16:29.694Z"
   },
   {
    "duration": 616,
    "start_time": "2025-04-14T19:17:52.090Z"
   },
   {
    "duration": 168,
    "start_time": "2025-04-14T19:18:09.503Z"
   },
   {
    "duration": 163,
    "start_time": "2025-04-14T19:18:26.891Z"
   },
   {
    "duration": 164,
    "start_time": "2025-04-14T19:18:36.806Z"
   },
   {
    "duration": 167,
    "start_time": "2025-04-14T19:18:44.143Z"
   },
   {
    "duration": 245,
    "start_time": "2025-04-14T19:18:53.882Z"
   },
   {
    "duration": 167,
    "start_time": "2025-04-14T19:19:18.739Z"
   },
   {
    "duration": 236,
    "start_time": "2025-04-14T19:22:11.919Z"
   },
   {
    "duration": 353,
    "start_time": "2025-04-14T19:22:19.702Z"
   },
   {
    "duration": 619,
    "start_time": "2025-04-14T19:24:17.503Z"
   },
   {
    "duration": 3,
    "start_time": "2025-04-14T19:25:17.000Z"
   },
   {
    "duration": 18,
    "start_time": "2025-04-14T19:26:14.041Z"
   },
   {
    "duration": 5,
    "start_time": "2025-04-14T19:26:54.026Z"
   },
   {
    "duration": 18,
    "start_time": "2025-04-14T19:29:30.769Z"
   },
   {
    "duration": 114,
    "start_time": "2025-04-14T19:30:13.047Z"
   },
   {
    "duration": 125,
    "start_time": "2025-04-14T19:30:36.693Z"
   },
   {
    "duration": 144,
    "start_time": "2025-04-14T19:31:43.000Z"
   },
   {
    "duration": 143,
    "start_time": "2025-04-14T19:32:22.707Z"
   },
   {
    "duration": 140,
    "start_time": "2025-04-14T19:32:59.760Z"
   },
   {
    "duration": 134,
    "start_time": "2025-04-14T19:33:09.641Z"
   },
   {
    "duration": 217,
    "start_time": "2025-04-14T19:33:14.287Z"
   },
   {
    "duration": 143,
    "start_time": "2025-04-14T19:33:19.067Z"
   },
   {
    "duration": 132,
    "start_time": "2025-04-14T19:33:22.608Z"
   },
   {
    "duration": 154,
    "start_time": "2025-04-14T19:33:31.260Z"
   },
   {
    "duration": 206,
    "start_time": "2025-04-14T19:33:40.807Z"
   },
   {
    "duration": 160,
    "start_time": "2025-04-14T19:33:55.839Z"
   },
   {
    "duration": 8,
    "start_time": "2025-04-14T19:35:27.311Z"
   },
   {
    "duration": 446,
    "start_time": "2025-04-14T19:41:00.403Z"
   },
   {
    "duration": 141,
    "start_time": "2025-04-14T19:48:34.337Z"
   },
   {
    "duration": 519,
    "start_time": "2025-04-14T19:49:05.696Z"
   },
   {
    "duration": 567,
    "start_time": "2025-04-14T19:49:27.136Z"
   },
   {
    "duration": 622,
    "start_time": "2025-04-14T19:50:02.476Z"
   },
   {
    "duration": 893,
    "start_time": "2025-04-14T19:51:09.871Z"
   },
   {
    "duration": 891,
    "start_time": "2025-04-14T19:51:28.882Z"
   },
   {
    "duration": 913,
    "start_time": "2025-04-14T19:51:35.936Z"
   },
   {
    "duration": 888,
    "start_time": "2025-04-14T19:54:29.324Z"
   },
   {
    "duration": 783,
    "start_time": "2025-04-14T19:54:38.767Z"
   },
   {
    "duration": 435,
    "start_time": "2025-04-14T19:56:53.434Z"
   },
   {
    "duration": 227,
    "start_time": "2025-04-14T20:08:24.636Z"
   },
   {
    "duration": 289,
    "start_time": "2025-04-14T20:10:17.167Z"
   },
   {
    "duration": 177,
    "start_time": "2025-04-14T20:11:01.052Z"
   },
   {
    "duration": 227,
    "start_time": "2025-04-14T20:11:21.984Z"
   },
   {
    "duration": 171,
    "start_time": "2025-04-14T20:12:21.757Z"
   },
   {
    "duration": 197,
    "start_time": "2025-04-14T20:14:19.687Z"
   },
   {
    "duration": 14,
    "start_time": "2025-04-14T20:17:55.683Z"
   },
   {
    "duration": 590,
    "start_time": "2025-04-14T20:19:03.113Z"
   },
   {
    "duration": 6,
    "start_time": "2025-04-14T20:24:26.126Z"
   },
   {
    "duration": 379,
    "start_time": "2025-04-14T20:24:53.821Z"
   },
   {
    "duration": 51,
    "start_time": "2025-04-14T20:37:05.306Z"
   },
   {
    "duration": 65,
    "start_time": "2025-04-14T20:38:07.280Z"
   },
   {
    "duration": 5,
    "start_time": "2025-04-14T20:39:16.784Z"
   },
   {
    "duration": 8,
    "start_time": "2025-04-14T20:39:42.841Z"
   },
   {
    "duration": 16,
    "start_time": "2025-04-14T20:40:11.516Z"
   },
   {
    "duration": 378,
    "start_time": "2025-04-14T20:40:53.332Z"
   },
   {
    "duration": 385,
    "start_time": "2025-04-14T20:41:18.417Z"
   },
   {
    "duration": 13,
    "start_time": "2025-04-14T20:41:24.921Z"
   },
   {
    "duration": 159,
    "start_time": "2025-04-16T09:01:54.981Z"
   },
   {
    "duration": 357,
    "start_time": "2025-04-16T09:02:00.645Z"
   },
   {
    "duration": 986,
    "start_time": "2025-04-16T09:02:01.004Z"
   },
   {
    "duration": 14,
    "start_time": "2025-04-16T09:02:01.992Z"
   },
   {
    "duration": 22,
    "start_time": "2025-04-16T09:02:02.009Z"
   },
   {
    "duration": 9,
    "start_time": "2025-04-16T09:02:02.033Z"
   },
   {
    "duration": 9,
    "start_time": "2025-04-16T09:02:02.044Z"
   },
   {
    "duration": 25,
    "start_time": "2025-04-16T09:02:02.055Z"
   },
   {
    "duration": 205,
    "start_time": "2025-04-16T09:02:02.082Z"
   },
   {
    "duration": 9,
    "start_time": "2025-04-16T09:02:02.289Z"
   },
   {
    "duration": 110,
    "start_time": "2025-04-16T09:02:02.301Z"
   },
   {
    "duration": 93,
    "start_time": "2025-04-16T09:02:02.413Z"
   },
   {
    "duration": 34,
    "start_time": "2025-04-16T09:02:02.508Z"
   },
   {
    "duration": 13,
    "start_time": "2025-04-16T09:02:02.544Z"
   },
   {
    "duration": 3,
    "start_time": "2025-04-16T09:02:02.559Z"
   },
   {
    "duration": 19,
    "start_time": "2025-04-16T09:02:02.564Z"
   },
   {
    "duration": 46,
    "start_time": "2025-04-16T09:02:02.585Z"
   },
   {
    "duration": 4,
    "start_time": "2025-04-16T09:02:02.633Z"
   },
   {
    "duration": 4,
    "start_time": "2025-04-16T09:02:02.638Z"
   },
   {
    "duration": 4,
    "start_time": "2025-04-16T09:02:02.643Z"
   },
   {
    "duration": 4,
    "start_time": "2025-04-16T09:02:02.648Z"
   },
   {
    "duration": 814,
    "start_time": "2025-04-16T09:02:02.654Z"
   },
   {
    "duration": 1485,
    "start_time": "2025-04-16T09:02:03.469Z"
   },
   {
    "duration": 9,
    "start_time": "2025-04-16T09:02:04.957Z"
   },
   {
    "duration": 6,
    "start_time": "2025-04-16T09:02:04.968Z"
   },
   {
    "duration": 8,
    "start_time": "2025-04-16T09:02:04.975Z"
   },
   {
    "duration": 7,
    "start_time": "2025-04-16T09:02:04.984Z"
   },
   {
    "duration": 43,
    "start_time": "2025-04-16T09:02:04.992Z"
   },
   {
    "duration": 6,
    "start_time": "2025-04-16T09:02:05.039Z"
   },
   {
    "duration": 5,
    "start_time": "2025-04-16T09:02:05.047Z"
   },
   {
    "duration": 19,
    "start_time": "2025-04-16T09:02:05.054Z"
   },
   {
    "duration": 56,
    "start_time": "2025-04-16T09:02:05.075Z"
   },
   {
    "duration": 7,
    "start_time": "2025-04-16T09:02:05.133Z"
   },
   {
    "duration": 8,
    "start_time": "2025-04-16T09:02:05.142Z"
   },
   {
    "duration": 48,
    "start_time": "2025-04-16T09:02:05.152Z"
   },
   {
    "duration": 31,
    "start_time": "2025-04-16T09:02:05.202Z"
   },
   {
    "duration": 3,
    "start_time": "2025-04-16T09:02:05.235Z"
   },
   {
    "duration": 2107,
    "start_time": "2025-04-16T09:02:05.240Z"
   },
   {
    "duration": 146,
    "start_time": "2025-04-16T09:02:07.349Z"
   },
   {
    "duration": 210,
    "start_time": "2025-04-16T09:02:07.498Z"
   },
   {
    "duration": 254,
    "start_time": "2025-04-16T09:02:07.710Z"
   },
   {
    "duration": 152,
    "start_time": "2025-04-16T09:02:07.966Z"
   },
   {
    "duration": 12,
    "start_time": "2025-04-16T09:02:08.120Z"
   },
   {
    "duration": 685,
    "start_time": "2025-04-16T09:02:08.134Z"
   },
   {
    "duration": 460,
    "start_time": "2025-04-16T09:02:08.821Z"
   },
   {
    "duration": 283,
    "start_time": "2025-04-16T09:02:09.283Z"
   },
   {
    "duration": 165,
    "start_time": "2025-04-16T09:02:09.568Z"
   },
   {
    "duration": 448,
    "start_time": "2025-04-16T09:02:09.735Z"
   },
   {
    "duration": 469,
    "start_time": "2025-04-16T09:02:10.184Z"
   },
   {
    "duration": 479,
    "start_time": "2025-04-16T09:02:10.655Z"
   },
   {
    "duration": 14,
    "start_time": "2025-04-16T09:02:11.136Z"
   },
   {
    "duration": 11,
    "start_time": "2025-04-16T09:02:53.226Z"
   },
   {
    "duration": 11,
    "start_time": "2025-04-16T09:04:44.387Z"
   },
   {
    "duration": 12,
    "start_time": "2025-04-16T09:05:04.454Z"
   },
   {
    "duration": 115,
    "start_time": "2025-04-16T09:06:19.975Z"
   },
   {
    "duration": 863,
    "start_time": "2025-04-16T09:09:43.875Z"
   },
   {
    "duration": 134,
    "start_time": "2025-04-16T09:10:11.094Z"
   },
   {
    "duration": 132,
    "start_time": "2025-04-16T09:10:54.240Z"
   },
   {
    "duration": 111,
    "start_time": "2025-04-16T09:16:40.158Z"
   },
   {
    "duration": 366,
    "start_time": "2025-04-16T09:17:21.552Z"
   },
   {
    "duration": 1312,
    "start_time": "2025-04-16T09:19:27.774Z"
   },
   {
    "duration": 1292,
    "start_time": "2025-04-16T09:20:06.436Z"
   },
   {
    "duration": 1381,
    "start_time": "2025-04-16T09:20:25.135Z"
   },
   {
    "duration": 88,
    "start_time": "2025-04-16T09:21:15.194Z"
   },
   {
    "duration": 236,
    "start_time": "2025-04-16T09:24:40.475Z"
   },
   {
    "duration": 234,
    "start_time": "2025-04-16T09:24:47.934Z"
   },
   {
    "duration": 238,
    "start_time": "2025-04-16T09:26:06.955Z"
   },
   {
    "duration": 212,
    "start_time": "2025-04-16T09:40:42.254Z"
   },
   {
    "duration": 124,
    "start_time": "2025-04-16T09:40:52.074Z"
   },
   {
    "duration": 125,
    "start_time": "2025-04-16T09:41:02.494Z"
   },
   {
    "duration": 112,
    "start_time": "2025-04-16T09:41:07.874Z"
   },
   {
    "duration": 111,
    "start_time": "2025-04-16T09:41:14.374Z"
   },
   {
    "duration": 119,
    "start_time": "2025-04-16T09:41:20.514Z"
   },
   {
    "duration": 314,
    "start_time": "2025-04-16T09:43:40.039Z"
   },
   {
    "duration": 269,
    "start_time": "2025-04-16T22:22:26.301Z"
   },
   {
    "duration": 867,
    "start_time": "2025-04-16T22:22:26.572Z"
   },
   {
    "duration": 15,
    "start_time": "2025-04-16T22:22:27.441Z"
   },
   {
    "duration": 10,
    "start_time": "2025-04-16T22:22:27.459Z"
   },
   {
    "duration": 9,
    "start_time": "2025-04-16T22:22:27.471Z"
   },
   {
    "duration": 31,
    "start_time": "2025-04-16T22:22:27.481Z"
   },
   {
    "duration": 26,
    "start_time": "2025-04-16T22:22:27.513Z"
   },
   {
    "duration": 171,
    "start_time": "2025-04-16T22:22:27.541Z"
   },
   {
    "duration": 9,
    "start_time": "2025-04-16T22:22:27.713Z"
   },
   {
    "duration": 112,
    "start_time": "2025-04-16T22:22:27.725Z"
   },
   {
    "duration": 86,
    "start_time": "2025-04-16T22:22:27.840Z"
   },
   {
    "duration": 26,
    "start_time": "2025-04-16T22:22:27.927Z"
   },
   {
    "duration": 13,
    "start_time": "2025-04-16T22:22:27.955Z"
   },
   {
    "duration": 3,
    "start_time": "2025-04-16T22:22:27.969Z"
   },
   {
    "duration": 39,
    "start_time": "2025-04-16T22:22:27.975Z"
   },
   {
    "duration": 19,
    "start_time": "2025-04-16T22:22:28.015Z"
   },
   {
    "duration": 7,
    "start_time": "2025-04-16T22:22:28.035Z"
   },
   {
    "duration": 3,
    "start_time": "2025-04-16T22:22:28.044Z"
   },
   {
    "duration": 4,
    "start_time": "2025-04-16T22:22:28.049Z"
   },
   {
    "duration": 3,
    "start_time": "2025-04-16T22:22:28.055Z"
   },
   {
    "duration": 743,
    "start_time": "2025-04-16T22:22:28.059Z"
   },
   {
    "duration": 1325,
    "start_time": "2025-04-16T22:22:28.804Z"
   },
   {
    "duration": 14,
    "start_time": "2025-04-16T22:22:30.132Z"
   },
   {
    "duration": 6,
    "start_time": "2025-04-16T22:22:30.148Z"
   },
   {
    "duration": 6,
    "start_time": "2025-04-16T22:22:30.156Z"
   },
   {
    "duration": 6,
    "start_time": "2025-04-16T22:22:30.163Z"
   },
   {
    "duration": 11,
    "start_time": "2025-04-16T22:22:30.171Z"
   },
   {
    "duration": 30,
    "start_time": "2025-04-16T22:22:30.186Z"
   },
   {
    "duration": 6,
    "start_time": "2025-04-16T22:22:30.217Z"
   },
   {
    "duration": 17,
    "start_time": "2025-04-16T22:22:30.224Z"
   },
   {
    "duration": 29,
    "start_time": "2025-04-16T22:22:30.243Z"
   },
   {
    "duration": 38,
    "start_time": "2025-04-16T22:22:30.274Z"
   },
   {
    "duration": 7,
    "start_time": "2025-04-16T22:22:30.314Z"
   },
   {
    "duration": 44,
    "start_time": "2025-04-16T22:22:30.323Z"
   },
   {
    "duration": 4,
    "start_time": "2025-04-16T22:22:30.369Z"
   },
   {
    "duration": 4,
    "start_time": "2025-04-16T22:22:30.375Z"
   },
   {
    "duration": 378,
    "start_time": "2025-04-16T22:22:30.380Z"
   },
   {
    "duration": 141,
    "start_time": "2025-04-16T22:22:30.760Z"
   },
   {
    "duration": 212,
    "start_time": "2025-04-16T22:22:30.902Z"
   },
   {
    "duration": 203,
    "start_time": "2025-04-16T22:22:31.116Z"
   },
   {
    "duration": 148,
    "start_time": "2025-04-16T22:22:31.321Z"
   },
   {
    "duration": 8,
    "start_time": "2025-04-16T22:22:31.470Z"
   },
   {
    "duration": 647,
    "start_time": "2025-04-16T22:22:31.480Z"
   },
   {
    "duration": 448,
    "start_time": "2025-04-16T22:22:32.128Z"
   },
   {
    "duration": 236,
    "start_time": "2025-04-16T22:22:32.578Z"
   },
   {
    "duration": 161,
    "start_time": "2025-04-16T22:22:32.817Z"
   },
   {
    "duration": 425,
    "start_time": "2025-04-16T22:22:32.980Z"
   },
   {
    "duration": 437,
    "start_time": "2025-04-16T22:22:33.412Z"
   },
   {
    "duration": 442,
    "start_time": "2025-04-16T22:22:33.850Z"
   },
   {
    "duration": 18,
    "start_time": "2025-04-16T22:22:34.294Z"
   },
   {
    "duration": 137,
    "start_time": "2025-04-16T22:22:34.313Z"
   },
   {
    "duration": 1259,
    "start_time": "2025-04-16T22:22:34.453Z"
   },
   {
    "duration": 260,
    "start_time": "2025-04-16T22:22:35.713Z"
   },
   {
    "duration": 205,
    "start_time": "2025-04-16T22:22:35.975Z"
   },
   {
    "duration": 226,
    "start_time": "2025-04-16T22:22:36.182Z"
   },
   {
    "duration": 7,
    "start_time": "2025-04-17T10:39:44.773Z"
   },
   {
    "duration": 155,
    "start_time": "2025-04-17T10:39:50.939Z"
   },
   {
    "duration": 282,
    "start_time": "2025-04-17T10:39:57.900Z"
   },
   {
    "duration": 1036,
    "start_time": "2025-04-17T10:39:58.185Z"
   },
   {
    "duration": 15,
    "start_time": "2025-04-17T10:39:59.223Z"
   },
   {
    "duration": 11,
    "start_time": "2025-04-17T10:39:59.240Z"
   },
   {
    "duration": 9,
    "start_time": "2025-04-17T10:39:59.252Z"
   },
   {
    "duration": 9,
    "start_time": "2025-04-17T10:39:59.262Z"
   },
   {
    "duration": 55,
    "start_time": "2025-04-17T10:39:59.272Z"
   },
   {
    "duration": 173,
    "start_time": "2025-04-17T10:39:59.328Z"
   },
   {
    "duration": 9,
    "start_time": "2025-04-17T10:39:59.502Z"
   },
   {
    "duration": 107,
    "start_time": "2025-04-17T10:39:59.523Z"
   },
   {
    "duration": 92,
    "start_time": "2025-04-17T10:39:59.632Z"
   },
   {
    "duration": 31,
    "start_time": "2025-04-17T10:39:59.727Z"
   },
   {
    "duration": 12,
    "start_time": "2025-04-17T10:39:59.760Z"
   },
   {
    "duration": 3,
    "start_time": "2025-04-17T10:39:59.775Z"
   },
   {
    "duration": 19,
    "start_time": "2025-04-17T10:39:59.779Z"
   },
   {
    "duration": 39,
    "start_time": "2025-04-17T10:39:59.800Z"
   },
   {
    "duration": 4,
    "start_time": "2025-04-17T10:39:59.840Z"
   },
   {
    "duration": 3,
    "start_time": "2025-04-17T10:39:59.846Z"
   },
   {
    "duration": 4,
    "start_time": "2025-04-17T10:39:59.851Z"
   },
   {
    "duration": 3,
    "start_time": "2025-04-17T10:39:59.856Z"
   },
   {
    "duration": 773,
    "start_time": "2025-04-17T10:39:59.861Z"
   },
   {
    "duration": 1378,
    "start_time": "2025-04-17T10:40:00.636Z"
   },
   {
    "duration": 13,
    "start_time": "2025-04-17T10:40:02.016Z"
   },
   {
    "duration": 6,
    "start_time": "2025-04-17T10:40:02.030Z"
   },
   {
    "duration": 6,
    "start_time": "2025-04-17T10:40:02.038Z"
   },
   {
    "duration": 7,
    "start_time": "2025-04-17T10:40:02.046Z"
   },
   {
    "duration": 11,
    "start_time": "2025-04-17T10:40:02.054Z"
   },
   {
    "duration": 4,
    "start_time": "2025-04-17T10:40:02.070Z"
   },
   {
    "duration": 7,
    "start_time": "2025-04-17T10:40:02.076Z"
   },
   {
    "duration": 55,
    "start_time": "2025-04-17T10:40:02.084Z"
   },
   {
    "duration": 33,
    "start_time": "2025-04-17T10:40:02.140Z"
   },
   {
    "duration": 7,
    "start_time": "2025-04-17T10:40:02.175Z"
   },
   {
    "duration": 8,
    "start_time": "2025-04-17T10:40:02.184Z"
   },
   {
    "duration": 47,
    "start_time": "2025-04-17T10:40:02.224Z"
   },
   {
    "duration": 3,
    "start_time": "2025-04-17T10:40:02.273Z"
   },
   {
    "duration": 4,
    "start_time": "2025-04-17T10:40:02.277Z"
   },
   {
    "duration": 2054,
    "start_time": "2025-04-17T10:40:02.283Z"
   },
   {
    "duration": 143,
    "start_time": "2025-04-17T10:40:04.339Z"
   },
   {
    "duration": 208,
    "start_time": "2025-04-17T10:40:04.484Z"
   },
   {
    "duration": 239,
    "start_time": "2025-04-17T10:40:04.694Z"
   },
   {
    "duration": 150,
    "start_time": "2025-04-17T10:40:04.935Z"
   },
   {
    "duration": 7,
    "start_time": "2025-04-17T10:40:05.088Z"
   },
   {
    "duration": 675,
    "start_time": "2025-04-17T10:40:05.097Z"
   },
   {
    "duration": 462,
    "start_time": "2025-04-17T10:40:05.774Z"
   },
   {
    "duration": 248,
    "start_time": "2025-04-17T10:40:06.239Z"
   },
   {
    "duration": 165,
    "start_time": "2025-04-17T10:40:06.489Z"
   },
   {
    "duration": 436,
    "start_time": "2025-04-17T10:40:06.656Z"
   },
   {
    "duration": 449,
    "start_time": "2025-04-17T10:40:07.094Z"
   },
   {
    "duration": 449,
    "start_time": "2025-04-17T10:40:07.545Z"
   },
   {
    "duration": 11,
    "start_time": "2025-04-17T10:40:07.996Z"
   },
   {
    "duration": 143,
    "start_time": "2025-04-17T10:40:08.009Z"
   },
   {
    "duration": 1351,
    "start_time": "2025-04-17T10:40:08.153Z"
   },
   {
    "duration": 267,
    "start_time": "2025-04-17T10:40:09.506Z"
   },
   {
    "duration": 221,
    "start_time": "2025-04-17T10:40:09.775Z"
   },
   {
    "duration": 214,
    "start_time": "2025-04-17T10:40:09.998Z"
   },
   {
    "duration": 8,
    "start_time": "2025-04-17T10:40:17.554Z"
   },
   {
    "duration": 8,
    "start_time": "2025-04-17T10:41:54.753Z"
   },
   {
    "duration": 16,
    "start_time": "2025-04-17T10:42:11.015Z"
   },
   {
    "duration": 4,
    "start_time": "2025-04-17T10:44:56.486Z"
   },
   {
    "duration": 73,
    "start_time": "2025-04-17T10:52:20.598Z"
   },
   {
    "duration": 27,
    "start_time": "2025-04-17T10:53:59.605Z"
   },
   {
    "duration": 24,
    "start_time": "2025-04-17T10:59:16.811Z"
   },
   {
    "duration": 335,
    "start_time": "2025-04-17T11:13:51.632Z"
   },
   {
    "duration": 987,
    "start_time": "2025-04-17T11:13:51.969Z"
   },
   {
    "duration": 15,
    "start_time": "2025-04-17T11:13:52.958Z"
   },
   {
    "duration": 10,
    "start_time": "2025-04-17T11:13:52.974Z"
   },
   {
    "duration": 8,
    "start_time": "2025-04-17T11:13:52.986Z"
   },
   {
    "duration": 32,
    "start_time": "2025-04-17T11:13:52.996Z"
   },
   {
    "duration": 26,
    "start_time": "2025-04-17T11:13:53.029Z"
   },
   {
    "duration": 187,
    "start_time": "2025-04-17T11:13:53.057Z"
   },
   {
    "duration": 8,
    "start_time": "2025-04-17T11:13:53.246Z"
   },
   {
    "duration": 105,
    "start_time": "2025-04-17T11:13:53.256Z"
   },
   {
    "duration": 87,
    "start_time": "2025-04-17T11:13:53.363Z"
   },
   {
    "duration": 27,
    "start_time": "2025-04-17T11:13:53.452Z"
   },
   {
    "duration": 11,
    "start_time": "2025-04-17T11:13:53.481Z"
   },
   {
    "duration": 3,
    "start_time": "2025-04-17T11:13:53.496Z"
   },
   {
    "duration": 41,
    "start_time": "2025-04-17T11:13:53.501Z"
   },
   {
    "duration": 14,
    "start_time": "2025-04-17T11:13:53.544Z"
   },
   {
    "duration": 3,
    "start_time": "2025-04-17T11:13:53.560Z"
   },
   {
    "duration": 4,
    "start_time": "2025-04-17T11:13:53.564Z"
   },
   {
    "duration": 3,
    "start_time": "2025-04-17T11:13:53.570Z"
   },
   {
    "duration": 3,
    "start_time": "2025-04-17T11:13:53.575Z"
   },
   {
    "duration": 790,
    "start_time": "2025-04-17T11:13:53.580Z"
   },
   {
    "duration": 1444,
    "start_time": "2025-04-17T11:13:54.372Z"
   },
   {
    "duration": 8,
    "start_time": "2025-04-17T11:13:55.818Z"
   },
   {
    "duration": 5,
    "start_time": "2025-04-17T11:13:55.828Z"
   },
   {
    "duration": 6,
    "start_time": "2025-04-17T11:13:55.835Z"
   },
   {
    "duration": 6,
    "start_time": "2025-04-17T11:13:55.843Z"
   },
   {
    "duration": 11,
    "start_time": "2025-04-17T11:13:55.851Z"
   },
   {
    "duration": 6,
    "start_time": "2025-04-17T11:13:55.864Z"
   },
   {
    "duration": 60,
    "start_time": "2025-04-17T11:13:55.871Z"
   },
   {
    "duration": 14,
    "start_time": "2025-04-17T11:13:55.933Z"
   },
   {
    "duration": 31,
    "start_time": "2025-04-17T11:13:55.949Z"
   },
   {
    "duration": 6,
    "start_time": "2025-04-17T11:13:55.982Z"
   },
   {
    "duration": 49,
    "start_time": "2025-04-17T11:13:55.989Z"
   },
   {
    "duration": 45,
    "start_time": "2025-04-17T11:13:56.040Z"
   },
   {
    "duration": 3,
    "start_time": "2025-04-17T11:13:56.087Z"
   },
   {
    "duration": 4,
    "start_time": "2025-04-17T11:13:56.092Z"
   },
   {
    "duration": 382,
    "start_time": "2025-04-17T11:13:56.098Z"
   },
   {
    "duration": 145,
    "start_time": "2025-04-17T11:13:56.482Z"
   },
   {
    "duration": 204,
    "start_time": "2025-04-17T11:13:56.629Z"
   },
   {
    "duration": 237,
    "start_time": "2025-04-17T11:13:56.835Z"
   },
   {
    "duration": 153,
    "start_time": "2025-04-17T11:13:57.077Z"
   },
   {
    "duration": 9,
    "start_time": "2025-04-17T11:13:57.232Z"
   },
   {
    "duration": 654,
    "start_time": "2025-04-17T11:13:57.243Z"
   },
   {
    "duration": 453,
    "start_time": "2025-04-17T11:13:57.899Z"
   },
   {
    "duration": 252,
    "start_time": "2025-04-17T11:13:58.354Z"
   },
   {
    "duration": 167,
    "start_time": "2025-04-17T11:13:58.608Z"
   },
   {
    "duration": 437,
    "start_time": "2025-04-17T11:13:58.777Z"
   },
   {
    "duration": 471,
    "start_time": "2025-04-17T11:13:59.216Z"
   },
   {
    "duration": 476,
    "start_time": "2025-04-17T11:13:59.689Z"
   },
   {
    "duration": 13,
    "start_time": "2025-04-17T11:14:00.167Z"
   },
   {
    "duration": 155,
    "start_time": "2025-04-17T11:14:00.181Z"
   },
   {
    "duration": 1363,
    "start_time": "2025-04-17T11:14:00.338Z"
   },
   {
    "duration": 250,
    "start_time": "2025-04-17T11:14:01.703Z"
   },
   {
    "duration": 217,
    "start_time": "2025-04-17T11:14:01.954Z"
   },
   {
    "duration": 213,
    "start_time": "2025-04-17T11:14:02.173Z"
   },
   {
    "duration": 221,
    "start_time": "2025-04-17T11:17:34.469Z"
   },
   {
    "duration": 255,
    "start_time": "2025-04-17T11:17:50.398Z"
   }
  ],
  "colab": {
   "provenance": []
  },
  "kernelspec": {
   "display_name": "Python 3 (ipykernel)",
   "language": "python",
   "name": "python3"
  },
  "language_info": {
   "codemirror_mode": {
    "name": "ipython",
    "version": 3
   },
   "file_extension": ".py",
   "mimetype": "text/x-python",
   "name": "python",
   "nbconvert_exporter": "python",
   "pygments_lexer": "ipython3",
   "version": "3.9.19"
  },
  "toc": {
   "base_numbering": 1,
   "nav_menu": {},
   "number_sections": true,
   "sideBar": true,
   "skip_h1_title": true,
   "title_cell": "Table of Contents",
   "title_sidebar": "Contents",
   "toc_cell": false,
   "toc_position": {},
   "toc_section_display": true,
   "toc_window_display": false
  },
  "vscode": {
   "interpreter": {
    "hash": "01a7be9ec63e704a62cefc5fe7a4756944464ee731be31632bdf42a4cb4688cf"
   }
  }
 },
 "nbformat": 4,
 "nbformat_minor": 5
}
